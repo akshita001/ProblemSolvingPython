{
 "cells": [
  {
   "cell_type": "markdown",
   "metadata": {},
   "source": [
    "## COVID19 Analysis\n",
    "\n",
    "### Akshita Mishra"
   ]
  },
  {
   "cell_type": "markdown",
   "metadata": {},
   "source": [
    "We are focusing on India COVID19 data for our Exploratory Analysis effort here.\n"
   ]
  },
  {
   "cell_type": "code",
   "execution_count": 1,
   "metadata": {},
   "outputs": [
    {
     "name": "stdout",
     "output_type": "stream",
     "text": [
      "Collecting plotly\n",
      "\u001b[?25l  Downloading https://files.pythonhosted.org/packages/1f/f6/bd3c17c8003b6641df1228e80e1acac97ed8402635e46c2571f8e1ef63af/plotly-4.14.3-py2.py3-none-any.whl (13.2MB)\n",
      "\u001b[K     |████████████████████████████████| 13.2MB 9.4MB/s eta 0:00:01\n",
      "\u001b[?25hCollecting retrying>=1.3.3 (from plotly)\n",
      "  Downloading https://files.pythonhosted.org/packages/44/ef/beae4b4ef80902f22e3af073397f079c96969c69b2c7d52a57ea9ae61c9d/retrying-1.3.3.tar.gz\n",
      "Requirement already satisfied: six in /Users/kamalmishra/anaconda3/lib/python3.7/site-packages (from plotly) (1.12.0)\n",
      "Building wheels for collected packages: retrying\n",
      "  Building wheel for retrying (setup.py) ... \u001b[?25ldone\n",
      "\u001b[?25h  Created wheel for retrying: filename=retrying-1.3.3-cp37-none-any.whl size=11429 sha256=e30ebe8856ed23f296df9f7e97971b208b72ee5e1b869b14a91a4575581a83e2\n",
      "  Stored in directory: /Users/kamalmishra/Library/Caches/pip/wheels/d7/a9/33/acc7b709e2a35caa7d4cae442f6fe6fbf2c43f80823d46460c\n",
      "Successfully built retrying\n",
      "Installing collected packages: retrying, plotly\n",
      "Successfully installed plotly-4.14.3 retrying-1.3.3\n"
     ]
    }
   ],
   "source": [
    "# We are using plotly library. \n",
    "# So if it is not installed in our environment, then we have to first install it using the pip command.\n",
    "\n",
    "#!pip install plotly"
   ]
  },
  {
   "cell_type": "markdown",
   "metadata": {},
   "source": [
    "### Import all libraries required"
   ]
  },
  {
   "cell_type": "code",
   "execution_count": 61,
   "metadata": {},
   "outputs": [],
   "source": [
    "import pandas as pd\n",
    "import plotly.express as px\n",
    "import os\n",
    "from matplotlib import pyplot as plt\n",
    "\n",
    "%matplotlib inline"
   ]
  },
  {
   "cell_type": "code",
   "execution_count": 62,
   "metadata": {},
   "outputs": [
    {
     "data": {
      "text/plain": [
       "'/Users/kamalmishra/Python_Akshita'"
      ]
     },
     "execution_count": 62,
     "metadata": {},
     "output_type": "execute_result"
    }
   ],
   "source": [
    "os.getcwd()"
   ]
  },
  {
   "cell_type": "markdown",
   "metadata": {},
   "source": [
    "### Get input data\n",
    "\n",
    "We have used Kaggle data reference for COVID19 dataset.\n",
    "Our DATE range is from Jan/2020 to Apr/2021.\n"
   ]
  },
  {
   "cell_type": "code",
   "execution_count": 63,
   "metadata": {},
   "outputs": [
    {
     "data": {
      "text/html": [
       "<div>\n",
       "<style scoped>\n",
       "    .dataframe tbody tr th:only-of-type {\n",
       "        vertical-align: middle;\n",
       "    }\n",
       "\n",
       "    .dataframe tbody tr th {\n",
       "        vertical-align: top;\n",
       "    }\n",
       "\n",
       "    .dataframe thead th {\n",
       "        text-align: right;\n",
       "    }\n",
       "</style>\n",
       "<table border=\"1\" class=\"dataframe\">\n",
       "  <thead>\n",
       "    <tr style=\"text-align: right;\">\n",
       "      <th></th>\n",
       "      <th>Sno</th>\n",
       "      <th>Date</th>\n",
       "      <th>Time</th>\n",
       "      <th>State/UnionTerritory</th>\n",
       "      <th>ConfirmedIndianNational</th>\n",
       "      <th>ConfirmedForeignNational</th>\n",
       "      <th>Cured</th>\n",
       "      <th>Deaths</th>\n",
       "      <th>Confirmed</th>\n",
       "    </tr>\n",
       "  </thead>\n",
       "  <tbody>\n",
       "    <tr>\n",
       "      <th>0</th>\n",
       "      <td>1</td>\n",
       "      <td>2020-01-30</td>\n",
       "      <td>6:00 PM</td>\n",
       "      <td>Kerala</td>\n",
       "      <td>1</td>\n",
       "      <td>0</td>\n",
       "      <td>0</td>\n",
       "      <td>0</td>\n",
       "      <td>1</td>\n",
       "    </tr>\n",
       "    <tr>\n",
       "      <th>1</th>\n",
       "      <td>2</td>\n",
       "      <td>2020-01-31</td>\n",
       "      <td>6:00 PM</td>\n",
       "      <td>Kerala</td>\n",
       "      <td>1</td>\n",
       "      <td>0</td>\n",
       "      <td>0</td>\n",
       "      <td>0</td>\n",
       "      <td>1</td>\n",
       "    </tr>\n",
       "    <tr>\n",
       "      <th>2</th>\n",
       "      <td>3</td>\n",
       "      <td>2020-02-01</td>\n",
       "      <td>6:00 PM</td>\n",
       "      <td>Kerala</td>\n",
       "      <td>2</td>\n",
       "      <td>0</td>\n",
       "      <td>0</td>\n",
       "      <td>0</td>\n",
       "      <td>2</td>\n",
       "    </tr>\n",
       "    <tr>\n",
       "      <th>3</th>\n",
       "      <td>4</td>\n",
       "      <td>2020-02-02</td>\n",
       "      <td>6:00 PM</td>\n",
       "      <td>Kerala</td>\n",
       "      <td>3</td>\n",
       "      <td>0</td>\n",
       "      <td>0</td>\n",
       "      <td>0</td>\n",
       "      <td>3</td>\n",
       "    </tr>\n",
       "    <tr>\n",
       "      <th>4</th>\n",
       "      <td>5</td>\n",
       "      <td>2020-02-03</td>\n",
       "      <td>6:00 PM</td>\n",
       "      <td>Kerala</td>\n",
       "      <td>3</td>\n",
       "      <td>0</td>\n",
       "      <td>0</td>\n",
       "      <td>0</td>\n",
       "      <td>3</td>\n",
       "    </tr>\n",
       "  </tbody>\n",
       "</table>\n",
       "</div>"
      ],
      "text/plain": [
       "   Sno        Date     Time State/UnionTerritory ConfirmedIndianNational  \\\n",
       "0    1  2020-01-30  6:00 PM               Kerala                       1   \n",
       "1    2  2020-01-31  6:00 PM               Kerala                       1   \n",
       "2    3  2020-02-01  6:00 PM               Kerala                       2   \n",
       "3    4  2020-02-02  6:00 PM               Kerala                       3   \n",
       "4    5  2020-02-03  6:00 PM               Kerala                       3   \n",
       "\n",
       "  ConfirmedForeignNational  Cured  Deaths  Confirmed  \n",
       "0                        0      0       0          1  \n",
       "1                        0      0       0          1  \n",
       "2                        0      0       0          2  \n",
       "3                        0      0       0          3  \n",
       "4                        0      0       0          3  "
      ]
     },
     "execution_count": 63,
     "metadata": {},
     "output_type": "execute_result"
    }
   ],
   "source": [
    "df = pd.read_csv(\"/Users/kamalmishra/Desktop/Akshita_GEAR/COVID/covid_19_india.csv\")\n",
    "\n",
    "df.head()"
   ]
  },
  {
   "cell_type": "code",
   "execution_count": 64,
   "metadata": {},
   "outputs": [
    {
     "name": "stdout",
     "output_type": "stream",
     "text": [
      "The COVID19 data we have is between:  2020-01-30 - 2021-04-28\n"
     ]
    }
   ],
   "source": [
    "start_date = min(df[\"Date\"])\n",
    "end_date = max(df[\"Date\"])\n",
    "\n",
    "print(\"The COVID19 data we have is between: \", start_date, '-', end_date)"
   ]
  },
  {
   "cell_type": "markdown",
   "metadata": {},
   "source": [
    "### Analysis - Confirmed Cases"
   ]
  },
  {
   "cell_type": "code",
   "execution_count": 65,
   "metadata": {},
   "outputs": [],
   "source": [
    "confirmed = df.groupby(\"State/UnionTerritory\")[\"Confirmed\"].sum().reset_index()"
   ]
  },
  {
   "cell_type": "code",
   "execution_count": 66,
   "metadata": {},
   "outputs": [
    {
     "data": {
      "application/vnd.plotly.v1+json": {
       "config": {
        "plotlyServerURL": "https://plot.ly"
       },
       "data": [
        {
         "alignmentgroup": "True",
         "hovertemplate": "x=%{x}<br>y=%{y}<extra></extra>",
         "legendgroup": "",
         "marker": {
          "color": "rgb(27,158,119)"
         },
         "name": "",
         "offsetgroup": "",
         "orientation": "v",
         "showlegend": false,
         "textposition": "auto",
         "type": "bar",
         "x": [
          "Maharashtra",
          "Karnataka",
          "Andhra Pradesh",
          "Tamil Nadu",
          "Kerala",
          "Delhi",
          "Uttar Pradesh",
          "West Bengal",
          "Odisha",
          "Telengana",
          "Rajasthan",
          "Chhattisgarh",
          "Bihar",
          "Gujarat",
          "Haryana",
          "Madhya Pradesh",
          "Assam",
          "Punjab",
          "Jammu and Kashmir",
          "Jharkhand",
          "Uttarakhand",
          "Goa",
          "Himachal Pradesh",
          "Puducherry",
          "Tripura",
          "Manipur",
          "Chandigarh",
          "Arunachal Pradesh",
          "Meghalaya",
          "Nagaland",
          "Ladakh",
          "Sikkim",
          "Andaman and Nicobar Islands",
          "Mizoram",
          "Dadra and Nagar Haveli and Daman and Diu",
          "Cases being reassigned to states",
          "Lakshadweep",
          "Unassigned",
          "Daman & Diu"
         ],
         "xaxis": "x",
         "y": [
          516281626,
          216181457,
          210789590,
          203749579,
          173919539,
          139960345,
          139253955,
          119629349,
          74984512,
          68683742,
          67438958,
          63339141,
          61519210,
          60760431,
          57687972,
          56660576,
          52286878,
          41589604,
          27775558,
          27455287,
          19979389,
          12066208,
          10811952,
          9009636,
          7769307,
          5843202,
          4690884,
          3671031,
          2801586,
          2622854,
          2085695,
          1255806,
          1189952,
          904891,
          898744,
          345565,
          56944,
          161,
          2
         ],
         "yaxis": "y"
        }
       ],
       "layout": {
        "barmode": "relative",
        "legend": {
         "tracegroupgap": 0
        },
        "template": {
         "data": {
          "bar": [
           {
            "error_x": {
             "color": "#2a3f5f"
            },
            "error_y": {
             "color": "#2a3f5f"
            },
            "marker": {
             "line": {
              "color": "#E5ECF6",
              "width": 0.5
             }
            },
            "type": "bar"
           }
          ],
          "barpolar": [
           {
            "marker": {
             "line": {
              "color": "#E5ECF6",
              "width": 0.5
             }
            },
            "type": "barpolar"
           }
          ],
          "carpet": [
           {
            "aaxis": {
             "endlinecolor": "#2a3f5f",
             "gridcolor": "white",
             "linecolor": "white",
             "minorgridcolor": "white",
             "startlinecolor": "#2a3f5f"
            },
            "baxis": {
             "endlinecolor": "#2a3f5f",
             "gridcolor": "white",
             "linecolor": "white",
             "minorgridcolor": "white",
             "startlinecolor": "#2a3f5f"
            },
            "type": "carpet"
           }
          ],
          "choropleth": [
           {
            "colorbar": {
             "outlinewidth": 0,
             "ticks": ""
            },
            "type": "choropleth"
           }
          ],
          "contour": [
           {
            "colorbar": {
             "outlinewidth": 0,
             "ticks": ""
            },
            "colorscale": [
             [
              0,
              "#0d0887"
             ],
             [
              0.1111111111111111,
              "#46039f"
             ],
             [
              0.2222222222222222,
              "#7201a8"
             ],
             [
              0.3333333333333333,
              "#9c179e"
             ],
             [
              0.4444444444444444,
              "#bd3786"
             ],
             [
              0.5555555555555556,
              "#d8576b"
             ],
             [
              0.6666666666666666,
              "#ed7953"
             ],
             [
              0.7777777777777778,
              "#fb9f3a"
             ],
             [
              0.8888888888888888,
              "#fdca26"
             ],
             [
              1,
              "#f0f921"
             ]
            ],
            "type": "contour"
           }
          ],
          "contourcarpet": [
           {
            "colorbar": {
             "outlinewidth": 0,
             "ticks": ""
            },
            "type": "contourcarpet"
           }
          ],
          "heatmap": [
           {
            "colorbar": {
             "outlinewidth": 0,
             "ticks": ""
            },
            "colorscale": [
             [
              0,
              "#0d0887"
             ],
             [
              0.1111111111111111,
              "#46039f"
             ],
             [
              0.2222222222222222,
              "#7201a8"
             ],
             [
              0.3333333333333333,
              "#9c179e"
             ],
             [
              0.4444444444444444,
              "#bd3786"
             ],
             [
              0.5555555555555556,
              "#d8576b"
             ],
             [
              0.6666666666666666,
              "#ed7953"
             ],
             [
              0.7777777777777778,
              "#fb9f3a"
             ],
             [
              0.8888888888888888,
              "#fdca26"
             ],
             [
              1,
              "#f0f921"
             ]
            ],
            "type": "heatmap"
           }
          ],
          "heatmapgl": [
           {
            "colorbar": {
             "outlinewidth": 0,
             "ticks": ""
            },
            "colorscale": [
             [
              0,
              "#0d0887"
             ],
             [
              0.1111111111111111,
              "#46039f"
             ],
             [
              0.2222222222222222,
              "#7201a8"
             ],
             [
              0.3333333333333333,
              "#9c179e"
             ],
             [
              0.4444444444444444,
              "#bd3786"
             ],
             [
              0.5555555555555556,
              "#d8576b"
             ],
             [
              0.6666666666666666,
              "#ed7953"
             ],
             [
              0.7777777777777778,
              "#fb9f3a"
             ],
             [
              0.8888888888888888,
              "#fdca26"
             ],
             [
              1,
              "#f0f921"
             ]
            ],
            "type": "heatmapgl"
           }
          ],
          "histogram": [
           {
            "marker": {
             "colorbar": {
              "outlinewidth": 0,
              "ticks": ""
             }
            },
            "type": "histogram"
           }
          ],
          "histogram2d": [
           {
            "colorbar": {
             "outlinewidth": 0,
             "ticks": ""
            },
            "colorscale": [
             [
              0,
              "#0d0887"
             ],
             [
              0.1111111111111111,
              "#46039f"
             ],
             [
              0.2222222222222222,
              "#7201a8"
             ],
             [
              0.3333333333333333,
              "#9c179e"
             ],
             [
              0.4444444444444444,
              "#bd3786"
             ],
             [
              0.5555555555555556,
              "#d8576b"
             ],
             [
              0.6666666666666666,
              "#ed7953"
             ],
             [
              0.7777777777777778,
              "#fb9f3a"
             ],
             [
              0.8888888888888888,
              "#fdca26"
             ],
             [
              1,
              "#f0f921"
             ]
            ],
            "type": "histogram2d"
           }
          ],
          "histogram2dcontour": [
           {
            "colorbar": {
             "outlinewidth": 0,
             "ticks": ""
            },
            "colorscale": [
             [
              0,
              "#0d0887"
             ],
             [
              0.1111111111111111,
              "#46039f"
             ],
             [
              0.2222222222222222,
              "#7201a8"
             ],
             [
              0.3333333333333333,
              "#9c179e"
             ],
             [
              0.4444444444444444,
              "#bd3786"
             ],
             [
              0.5555555555555556,
              "#d8576b"
             ],
             [
              0.6666666666666666,
              "#ed7953"
             ],
             [
              0.7777777777777778,
              "#fb9f3a"
             ],
             [
              0.8888888888888888,
              "#fdca26"
             ],
             [
              1,
              "#f0f921"
             ]
            ],
            "type": "histogram2dcontour"
           }
          ],
          "mesh3d": [
           {
            "colorbar": {
             "outlinewidth": 0,
             "ticks": ""
            },
            "type": "mesh3d"
           }
          ],
          "parcoords": [
           {
            "line": {
             "colorbar": {
              "outlinewidth": 0,
              "ticks": ""
             }
            },
            "type": "parcoords"
           }
          ],
          "pie": [
           {
            "automargin": true,
            "type": "pie"
           }
          ],
          "scatter": [
           {
            "marker": {
             "colorbar": {
              "outlinewidth": 0,
              "ticks": ""
             }
            },
            "type": "scatter"
           }
          ],
          "scatter3d": [
           {
            "line": {
             "colorbar": {
              "outlinewidth": 0,
              "ticks": ""
             }
            },
            "marker": {
             "colorbar": {
              "outlinewidth": 0,
              "ticks": ""
             }
            },
            "type": "scatter3d"
           }
          ],
          "scattercarpet": [
           {
            "marker": {
             "colorbar": {
              "outlinewidth": 0,
              "ticks": ""
             }
            },
            "type": "scattercarpet"
           }
          ],
          "scattergeo": [
           {
            "marker": {
             "colorbar": {
              "outlinewidth": 0,
              "ticks": ""
             }
            },
            "type": "scattergeo"
           }
          ],
          "scattergl": [
           {
            "marker": {
             "colorbar": {
              "outlinewidth": 0,
              "ticks": ""
             }
            },
            "type": "scattergl"
           }
          ],
          "scattermapbox": [
           {
            "marker": {
             "colorbar": {
              "outlinewidth": 0,
              "ticks": ""
             }
            },
            "type": "scattermapbox"
           }
          ],
          "scatterpolar": [
           {
            "marker": {
             "colorbar": {
              "outlinewidth": 0,
              "ticks": ""
             }
            },
            "type": "scatterpolar"
           }
          ],
          "scatterpolargl": [
           {
            "marker": {
             "colorbar": {
              "outlinewidth": 0,
              "ticks": ""
             }
            },
            "type": "scatterpolargl"
           }
          ],
          "scatterternary": [
           {
            "marker": {
             "colorbar": {
              "outlinewidth": 0,
              "ticks": ""
             }
            },
            "type": "scatterternary"
           }
          ],
          "surface": [
           {
            "colorbar": {
             "outlinewidth": 0,
             "ticks": ""
            },
            "colorscale": [
             [
              0,
              "#0d0887"
             ],
             [
              0.1111111111111111,
              "#46039f"
             ],
             [
              0.2222222222222222,
              "#7201a8"
             ],
             [
              0.3333333333333333,
              "#9c179e"
             ],
             [
              0.4444444444444444,
              "#bd3786"
             ],
             [
              0.5555555555555556,
              "#d8576b"
             ],
             [
              0.6666666666666666,
              "#ed7953"
             ],
             [
              0.7777777777777778,
              "#fb9f3a"
             ],
             [
              0.8888888888888888,
              "#fdca26"
             ],
             [
              1,
              "#f0f921"
             ]
            ],
            "type": "surface"
           }
          ],
          "table": [
           {
            "cells": {
             "fill": {
              "color": "#EBF0F8"
             },
             "line": {
              "color": "white"
             }
            },
            "header": {
             "fill": {
              "color": "#C8D4E3"
             },
             "line": {
              "color": "white"
             }
            },
            "type": "table"
           }
          ]
         },
         "layout": {
          "annotationdefaults": {
           "arrowcolor": "#2a3f5f",
           "arrowhead": 0,
           "arrowwidth": 1
          },
          "autotypenumbers": "strict",
          "coloraxis": {
           "colorbar": {
            "outlinewidth": 0,
            "ticks": ""
           }
          },
          "colorscale": {
           "diverging": [
            [
             0,
             "#8e0152"
            ],
            [
             0.1,
             "#c51b7d"
            ],
            [
             0.2,
             "#de77ae"
            ],
            [
             0.3,
             "#f1b6da"
            ],
            [
             0.4,
             "#fde0ef"
            ],
            [
             0.5,
             "#f7f7f7"
            ],
            [
             0.6,
             "#e6f5d0"
            ],
            [
             0.7,
             "#b8e186"
            ],
            [
             0.8,
             "#7fbc41"
            ],
            [
             0.9,
             "#4d9221"
            ],
            [
             1,
             "#276419"
            ]
           ],
           "sequential": [
            [
             0,
             "#0d0887"
            ],
            [
             0.1111111111111111,
             "#46039f"
            ],
            [
             0.2222222222222222,
             "#7201a8"
            ],
            [
             0.3333333333333333,
             "#9c179e"
            ],
            [
             0.4444444444444444,
             "#bd3786"
            ],
            [
             0.5555555555555556,
             "#d8576b"
            ],
            [
             0.6666666666666666,
             "#ed7953"
            ],
            [
             0.7777777777777778,
             "#fb9f3a"
            ],
            [
             0.8888888888888888,
             "#fdca26"
            ],
            [
             1,
             "#f0f921"
            ]
           ],
           "sequentialminus": [
            [
             0,
             "#0d0887"
            ],
            [
             0.1111111111111111,
             "#46039f"
            ],
            [
             0.2222222222222222,
             "#7201a8"
            ],
            [
             0.3333333333333333,
             "#9c179e"
            ],
            [
             0.4444444444444444,
             "#bd3786"
            ],
            [
             0.5555555555555556,
             "#d8576b"
            ],
            [
             0.6666666666666666,
             "#ed7953"
            ],
            [
             0.7777777777777778,
             "#fb9f3a"
            ],
            [
             0.8888888888888888,
             "#fdca26"
            ],
            [
             1,
             "#f0f921"
            ]
           ]
          },
          "colorway": [
           "#636efa",
           "#EF553B",
           "#00cc96",
           "#ab63fa",
           "#FFA15A",
           "#19d3f3",
           "#FF6692",
           "#B6E880",
           "#FF97FF",
           "#FECB52"
          ],
          "font": {
           "color": "#2a3f5f"
          },
          "geo": {
           "bgcolor": "white",
           "lakecolor": "white",
           "landcolor": "#E5ECF6",
           "showlakes": true,
           "showland": true,
           "subunitcolor": "white"
          },
          "hoverlabel": {
           "align": "left"
          },
          "hovermode": "closest",
          "mapbox": {
           "style": "light"
          },
          "paper_bgcolor": "white",
          "plot_bgcolor": "#E5ECF6",
          "polar": {
           "angularaxis": {
            "gridcolor": "white",
            "linecolor": "white",
            "ticks": ""
           },
           "bgcolor": "#E5ECF6",
           "radialaxis": {
            "gridcolor": "white",
            "linecolor": "white",
            "ticks": ""
           }
          },
          "scene": {
           "xaxis": {
            "backgroundcolor": "#E5ECF6",
            "gridcolor": "white",
            "gridwidth": 2,
            "linecolor": "white",
            "showbackground": true,
            "ticks": "",
            "zerolinecolor": "white"
           },
           "yaxis": {
            "backgroundcolor": "#E5ECF6",
            "gridcolor": "white",
            "gridwidth": 2,
            "linecolor": "white",
            "showbackground": true,
            "ticks": "",
            "zerolinecolor": "white"
           },
           "zaxis": {
            "backgroundcolor": "#E5ECF6",
            "gridcolor": "white",
            "gridwidth": 2,
            "linecolor": "white",
            "showbackground": true,
            "ticks": "",
            "zerolinecolor": "white"
           }
          },
          "shapedefaults": {
           "line": {
            "color": "#2a3f5f"
           }
          },
          "ternary": {
           "aaxis": {
            "gridcolor": "white",
            "linecolor": "white",
            "ticks": ""
           },
           "baxis": {
            "gridcolor": "white",
            "linecolor": "white",
            "ticks": ""
           },
           "bgcolor": "#E5ECF6",
           "caxis": {
            "gridcolor": "white",
            "linecolor": "white",
            "ticks": ""
           }
          },
          "title": {
           "x": 0.05
          },
          "xaxis": {
           "automargin": true,
           "gridcolor": "white",
           "linecolor": "white",
           "ticks": "",
           "title": {
            "standoff": 15
           },
           "zerolinecolor": "white",
           "zerolinewidth": 2
          },
          "yaxis": {
           "automargin": true,
           "gridcolor": "white",
           "linecolor": "white",
           "ticks": "",
           "title": {
            "standoff": 15
           },
           "zerolinecolor": "white",
           "zerolinewidth": 2
          }
         }
        },
        "title": {
         "text": "All 38 states/union territories which have Confirmed Cases"
        },
        "xaxis": {
         "anchor": "y",
         "domain": [
          0,
          1
         ],
         "title": {
          "text": "x"
         }
        },
        "yaxis": {
         "anchor": "x",
         "domain": [
          0,
          1
         ],
         "title": {
          "text": "y"
         }
        }
       }
      },
      "text/html": [
       "<div>                            <div id=\"918f3d74-accb-4ee3-8579-2a96a5880378\" class=\"plotly-graph-div\" style=\"height:525px; width:100%;\"></div>            <script type=\"text/javascript\">                require([\"plotly\"], function(Plotly) {                    window.PLOTLYENV=window.PLOTLYENV || {};                                    if (document.getElementById(\"918f3d74-accb-4ee3-8579-2a96a5880378\")) {                    Plotly.newPlot(                        \"918f3d74-accb-4ee3-8579-2a96a5880378\",                        [{\"alignmentgroup\": \"True\", \"hovertemplate\": \"x=%{x}<br>y=%{y}<extra></extra>\", \"legendgroup\": \"\", \"marker\": {\"color\": \"rgb(27,158,119)\"}, \"name\": \"\", \"offsetgroup\": \"\", \"orientation\": \"v\", \"showlegend\": false, \"textposition\": \"auto\", \"type\": \"bar\", \"x\": [\"Maharashtra\", \"Karnataka\", \"Andhra Pradesh\", \"Tamil Nadu\", \"Kerala\", \"Delhi\", \"Uttar Pradesh\", \"West Bengal\", \"Odisha\", \"Telengana\", \"Rajasthan\", \"Chhattisgarh\", \"Bihar\", \"Gujarat\", \"Haryana\", \"Madhya Pradesh\", \"Assam\", \"Punjab\", \"Jammu and Kashmir\", \"Jharkhand\", \"Uttarakhand\", \"Goa\", \"Himachal Pradesh\", \"Puducherry\", \"Tripura\", \"Manipur\", \"Chandigarh\", \"Arunachal Pradesh\", \"Meghalaya\", \"Nagaland\", \"Ladakh\", \"Sikkim\", \"Andaman and Nicobar Islands\", \"Mizoram\", \"Dadra and Nagar Haveli and Daman and Diu\", \"Cases being reassigned to states\", \"Lakshadweep\", \"Unassigned\", \"Daman & Diu\"], \"xaxis\": \"x\", \"y\": [516281626, 216181457, 210789590, 203749579, 173919539, 139960345, 139253955, 119629349, 74984512, 68683742, 67438958, 63339141, 61519210, 60760431, 57687972, 56660576, 52286878, 41589604, 27775558, 27455287, 19979389, 12066208, 10811952, 9009636, 7769307, 5843202, 4690884, 3671031, 2801586, 2622854, 2085695, 1255806, 1189952, 904891, 898744, 345565, 56944, 161, 2], \"yaxis\": \"y\"}],                        {\"barmode\": \"relative\", \"legend\": {\"tracegroupgap\": 0}, \"template\": {\"data\": {\"bar\": [{\"error_x\": {\"color\": \"#2a3f5f\"}, \"error_y\": {\"color\": \"#2a3f5f\"}, \"marker\": {\"line\": {\"color\": \"#E5ECF6\", \"width\": 0.5}}, \"type\": \"bar\"}], \"barpolar\": [{\"marker\": {\"line\": {\"color\": \"#E5ECF6\", \"width\": 0.5}}, \"type\": \"barpolar\"}], \"carpet\": [{\"aaxis\": {\"endlinecolor\": \"#2a3f5f\", \"gridcolor\": \"white\", \"linecolor\": \"white\", \"minorgridcolor\": \"white\", \"startlinecolor\": \"#2a3f5f\"}, \"baxis\": {\"endlinecolor\": \"#2a3f5f\", \"gridcolor\": \"white\", \"linecolor\": \"white\", \"minorgridcolor\": \"white\", \"startlinecolor\": \"#2a3f5f\"}, \"type\": \"carpet\"}], \"choropleth\": [{\"colorbar\": {\"outlinewidth\": 0, \"ticks\": \"\"}, \"type\": \"choropleth\"}], \"contour\": [{\"colorbar\": {\"outlinewidth\": 0, \"ticks\": \"\"}, \"colorscale\": [[0.0, \"#0d0887\"], [0.1111111111111111, \"#46039f\"], [0.2222222222222222, \"#7201a8\"], [0.3333333333333333, \"#9c179e\"], [0.4444444444444444, \"#bd3786\"], [0.5555555555555556, \"#d8576b\"], [0.6666666666666666, \"#ed7953\"], [0.7777777777777778, \"#fb9f3a\"], [0.8888888888888888, \"#fdca26\"], [1.0, \"#f0f921\"]], \"type\": \"contour\"}], \"contourcarpet\": [{\"colorbar\": {\"outlinewidth\": 0, \"ticks\": \"\"}, \"type\": \"contourcarpet\"}], \"heatmap\": [{\"colorbar\": {\"outlinewidth\": 0, \"ticks\": \"\"}, \"colorscale\": [[0.0, \"#0d0887\"], [0.1111111111111111, \"#46039f\"], [0.2222222222222222, \"#7201a8\"], [0.3333333333333333, \"#9c179e\"], [0.4444444444444444, \"#bd3786\"], [0.5555555555555556, \"#d8576b\"], [0.6666666666666666, \"#ed7953\"], [0.7777777777777778, \"#fb9f3a\"], [0.8888888888888888, \"#fdca26\"], [1.0, \"#f0f921\"]], \"type\": \"heatmap\"}], \"heatmapgl\": [{\"colorbar\": {\"outlinewidth\": 0, \"ticks\": \"\"}, \"colorscale\": [[0.0, \"#0d0887\"], [0.1111111111111111, \"#46039f\"], [0.2222222222222222, \"#7201a8\"], [0.3333333333333333, \"#9c179e\"], [0.4444444444444444, \"#bd3786\"], [0.5555555555555556, \"#d8576b\"], [0.6666666666666666, \"#ed7953\"], [0.7777777777777778, \"#fb9f3a\"], [0.8888888888888888, \"#fdca26\"], [1.0, \"#f0f921\"]], \"type\": \"heatmapgl\"}], \"histogram\": [{\"marker\": {\"colorbar\": {\"outlinewidth\": 0, \"ticks\": \"\"}}, \"type\": \"histogram\"}], \"histogram2d\": [{\"colorbar\": {\"outlinewidth\": 0, \"ticks\": \"\"}, \"colorscale\": [[0.0, \"#0d0887\"], [0.1111111111111111, \"#46039f\"], [0.2222222222222222, \"#7201a8\"], [0.3333333333333333, \"#9c179e\"], [0.4444444444444444, \"#bd3786\"], [0.5555555555555556, \"#d8576b\"], [0.6666666666666666, \"#ed7953\"], [0.7777777777777778, \"#fb9f3a\"], [0.8888888888888888, \"#fdca26\"], [1.0, \"#f0f921\"]], \"type\": \"histogram2d\"}], \"histogram2dcontour\": [{\"colorbar\": {\"outlinewidth\": 0, \"ticks\": \"\"}, \"colorscale\": [[0.0, \"#0d0887\"], [0.1111111111111111, \"#46039f\"], [0.2222222222222222, \"#7201a8\"], [0.3333333333333333, \"#9c179e\"], [0.4444444444444444, \"#bd3786\"], [0.5555555555555556, \"#d8576b\"], [0.6666666666666666, \"#ed7953\"], [0.7777777777777778, \"#fb9f3a\"], [0.8888888888888888, \"#fdca26\"], [1.0, \"#f0f921\"]], \"type\": \"histogram2dcontour\"}], \"mesh3d\": [{\"colorbar\": {\"outlinewidth\": 0, \"ticks\": \"\"}, \"type\": \"mesh3d\"}], \"parcoords\": [{\"line\": {\"colorbar\": {\"outlinewidth\": 0, \"ticks\": \"\"}}, \"type\": \"parcoords\"}], \"pie\": [{\"automargin\": true, \"type\": \"pie\"}], \"scatter\": [{\"marker\": {\"colorbar\": {\"outlinewidth\": 0, \"ticks\": \"\"}}, \"type\": \"scatter\"}], \"scatter3d\": [{\"line\": {\"colorbar\": {\"outlinewidth\": 0, \"ticks\": \"\"}}, \"marker\": {\"colorbar\": {\"outlinewidth\": 0, \"ticks\": \"\"}}, \"type\": \"scatter3d\"}], \"scattercarpet\": [{\"marker\": {\"colorbar\": {\"outlinewidth\": 0, \"ticks\": \"\"}}, \"type\": \"scattercarpet\"}], \"scattergeo\": [{\"marker\": {\"colorbar\": {\"outlinewidth\": 0, \"ticks\": \"\"}}, \"type\": \"scattergeo\"}], \"scattergl\": [{\"marker\": {\"colorbar\": {\"outlinewidth\": 0, \"ticks\": \"\"}}, \"type\": \"scattergl\"}], \"scattermapbox\": [{\"marker\": {\"colorbar\": {\"outlinewidth\": 0, \"ticks\": \"\"}}, \"type\": \"scattermapbox\"}], \"scatterpolar\": [{\"marker\": {\"colorbar\": {\"outlinewidth\": 0, \"ticks\": \"\"}}, \"type\": \"scatterpolar\"}], \"scatterpolargl\": [{\"marker\": {\"colorbar\": {\"outlinewidth\": 0, \"ticks\": \"\"}}, \"type\": \"scatterpolargl\"}], \"scatterternary\": [{\"marker\": {\"colorbar\": {\"outlinewidth\": 0, \"ticks\": \"\"}}, \"type\": \"scatterternary\"}], \"surface\": [{\"colorbar\": {\"outlinewidth\": 0, \"ticks\": \"\"}, \"colorscale\": [[0.0, \"#0d0887\"], [0.1111111111111111, \"#46039f\"], [0.2222222222222222, \"#7201a8\"], [0.3333333333333333, \"#9c179e\"], [0.4444444444444444, \"#bd3786\"], [0.5555555555555556, \"#d8576b\"], [0.6666666666666666, \"#ed7953\"], [0.7777777777777778, \"#fb9f3a\"], [0.8888888888888888, \"#fdca26\"], [1.0, \"#f0f921\"]], \"type\": \"surface\"}], \"table\": [{\"cells\": {\"fill\": {\"color\": \"#EBF0F8\"}, \"line\": {\"color\": \"white\"}}, \"header\": {\"fill\": {\"color\": \"#C8D4E3\"}, \"line\": {\"color\": \"white\"}}, \"type\": \"table\"}]}, \"layout\": {\"annotationdefaults\": {\"arrowcolor\": \"#2a3f5f\", \"arrowhead\": 0, \"arrowwidth\": 1}, \"autotypenumbers\": \"strict\", \"coloraxis\": {\"colorbar\": {\"outlinewidth\": 0, \"ticks\": \"\"}}, \"colorscale\": {\"diverging\": [[0, \"#8e0152\"], [0.1, \"#c51b7d\"], [0.2, \"#de77ae\"], [0.3, \"#f1b6da\"], [0.4, \"#fde0ef\"], [0.5, \"#f7f7f7\"], [0.6, \"#e6f5d0\"], [0.7, \"#b8e186\"], [0.8, \"#7fbc41\"], [0.9, \"#4d9221\"], [1, \"#276419\"]], \"sequential\": [[0.0, \"#0d0887\"], [0.1111111111111111, \"#46039f\"], [0.2222222222222222, \"#7201a8\"], [0.3333333333333333, \"#9c179e\"], [0.4444444444444444, \"#bd3786\"], [0.5555555555555556, \"#d8576b\"], [0.6666666666666666, \"#ed7953\"], [0.7777777777777778, \"#fb9f3a\"], [0.8888888888888888, \"#fdca26\"], [1.0, \"#f0f921\"]], \"sequentialminus\": [[0.0, \"#0d0887\"], [0.1111111111111111, \"#46039f\"], [0.2222222222222222, \"#7201a8\"], [0.3333333333333333, \"#9c179e\"], [0.4444444444444444, \"#bd3786\"], [0.5555555555555556, \"#d8576b\"], [0.6666666666666666, \"#ed7953\"], [0.7777777777777778, \"#fb9f3a\"], [0.8888888888888888, \"#fdca26\"], [1.0, \"#f0f921\"]]}, \"colorway\": [\"#636efa\", \"#EF553B\", \"#00cc96\", \"#ab63fa\", \"#FFA15A\", \"#19d3f3\", \"#FF6692\", \"#B6E880\", \"#FF97FF\", \"#FECB52\"], \"font\": {\"color\": \"#2a3f5f\"}, \"geo\": {\"bgcolor\": \"white\", \"lakecolor\": \"white\", \"landcolor\": \"#E5ECF6\", \"showlakes\": true, \"showland\": true, \"subunitcolor\": \"white\"}, \"hoverlabel\": {\"align\": \"left\"}, \"hovermode\": \"closest\", \"mapbox\": {\"style\": \"light\"}, \"paper_bgcolor\": \"white\", \"plot_bgcolor\": \"#E5ECF6\", \"polar\": {\"angularaxis\": {\"gridcolor\": \"white\", \"linecolor\": \"white\", \"ticks\": \"\"}, \"bgcolor\": \"#E5ECF6\", \"radialaxis\": {\"gridcolor\": \"white\", \"linecolor\": \"white\", \"ticks\": \"\"}}, \"scene\": {\"xaxis\": {\"backgroundcolor\": \"#E5ECF6\", \"gridcolor\": \"white\", \"gridwidth\": 2, \"linecolor\": \"white\", \"showbackground\": true, \"ticks\": \"\", \"zerolinecolor\": \"white\"}, \"yaxis\": {\"backgroundcolor\": \"#E5ECF6\", \"gridcolor\": \"white\", \"gridwidth\": 2, \"linecolor\": \"white\", \"showbackground\": true, \"ticks\": \"\", \"zerolinecolor\": \"white\"}, \"zaxis\": {\"backgroundcolor\": \"#E5ECF6\", \"gridcolor\": \"white\", \"gridwidth\": 2, \"linecolor\": \"white\", \"showbackground\": true, \"ticks\": \"\", \"zerolinecolor\": \"white\"}}, \"shapedefaults\": {\"line\": {\"color\": \"#2a3f5f\"}}, \"ternary\": {\"aaxis\": {\"gridcolor\": \"white\", \"linecolor\": \"white\", \"ticks\": \"\"}, \"baxis\": {\"gridcolor\": \"white\", \"linecolor\": \"white\", \"ticks\": \"\"}, \"bgcolor\": \"#E5ECF6\", \"caxis\": {\"gridcolor\": \"white\", \"linecolor\": \"white\", \"ticks\": \"\"}}, \"title\": {\"x\": 0.05}, \"xaxis\": {\"automargin\": true, \"gridcolor\": \"white\", \"linecolor\": \"white\", \"ticks\": \"\", \"title\": {\"standoff\": 15}, \"zerolinecolor\": \"white\", \"zerolinewidth\": 2}, \"yaxis\": {\"automargin\": true, \"gridcolor\": \"white\", \"linecolor\": \"white\", \"ticks\": \"\", \"title\": {\"standoff\": 15}, \"zerolinecolor\": \"white\", \"zerolinewidth\": 2}}}, \"title\": {\"text\": \"All 38 states/union territories which have Confirmed Cases\"}, \"xaxis\": {\"anchor\": \"y\", \"domain\": [0.0, 1.0], \"title\": {\"text\": \"x\"}}, \"yaxis\": {\"anchor\": \"x\", \"domain\": [0.0, 1.0], \"title\": {\"text\": \"y\"}}},                        {\"responsive\": true}                    ).then(function(){\n",
       "                            \n",
       "var gd = document.getElementById('918f3d74-accb-4ee3-8579-2a96a5880378');\n",
       "var x = new MutationObserver(function (mutations, observer) {{\n",
       "        var display = window.getComputedStyle(gd).display;\n",
       "        if (!display || display === 'none') {{\n",
       "            console.log([gd, 'removed!']);\n",
       "            Plotly.purge(gd);\n",
       "            observer.disconnect();\n",
       "        }}\n",
       "}});\n",
       "\n",
       "// Listen for the removal of the full notebook cells\n",
       "var notebookContainer = gd.closest('#notebook-container');\n",
       "if (notebookContainer) {{\n",
       "    x.observe(notebookContainer, {childList: true});\n",
       "}}\n",
       "\n",
       "// Listen for the clearing of the current output cell\n",
       "var outputEl = gd.closest('.output');\n",
       "if (outputEl) {{\n",
       "    x.observe(outputEl, {childList: true});\n",
       "}}\n",
       "\n",
       "                        })                };                });            </script>        </div>"
      ]
     },
     "metadata": {},
     "output_type": "display_data"
    }
   ],
   "source": [
    "px.bar(x=confirmed.nlargest(39,\"Confirmed\")[\"State/UnionTerritory\"],y = confirmed.nlargest(39,\"Confirmed\")[\"Confirmed\"],color_discrete_sequence=px.colors.qualitative.Dark2,title=\"All 38 states/union territories which have Confirmed Cases\")"
   ]
  },
  {
   "cell_type": "markdown",
   "metadata": {},
   "source": [
    "### Analysis - Deaths"
   ]
  },
  {
   "cell_type": "code",
   "execution_count": 67,
   "metadata": {},
   "outputs": [],
   "source": [
    "deaths = df.groupby(\"State/UnionTerritory\")[\"Deaths\"].sum().reset_index()"
   ]
  },
  {
   "cell_type": "code",
   "execution_count": 68,
   "metadata": {},
   "outputs": [
    {
     "data": {
      "application/vnd.plotly.v1+json": {
       "config": {
        "plotlyServerURL": "https://plot.ly"
       },
       "data": [
        {
         "alignmentgroup": "True",
         "hovertemplate": "x=%{x}<br>y=%{y}<extra></extra>",
         "legendgroup": "",
         "marker": {
          "color": "rgb(27,158,119)"
         },
         "name": "",
         "offsetgroup": "",
         "orientation": "v",
         "showlegend": false,
         "textposition": "auto",
         "type": "bar",
         "x": [
          "Maharashtra",
          "Tamil Nadu",
          "Karnataka",
          "Delhi",
          "West Bengal",
          "Uttar Pradesh",
          "Andhra Pradesh",
          "Punjab",
          "Gujarat",
          "Madhya Pradesh",
          "Chhattisgarh",
          "Kerala",
          "Rajasthan",
          "Haryana",
          "Jammu and Kashmir",
          "Odisha",
          "Telengana",
          "Bihar",
          "Uttarakhand",
          "Jharkhand",
          "Assam",
          "Himachal Pradesh",
          "Goa",
          "Puducherry",
          "Tripura",
          "Chandigarh",
          "Manipur",
          "Meghalaya",
          "Ladakh",
          "Sikkim",
          "Nagaland",
          "Andaman and Nicobar Islands",
          "Arunachal Pradesh",
          "Mizoram",
          "Dadra and Nagar Haveli and Daman and Diu",
          "Lakshadweep",
          "Daman & Diu",
          "Unassigned",
          "Cases being reassigned to states"
         ],
         "xaxis": "x",
         "y": [
          12492099,
          3037164,
          2885294,
          2470634,
          2151821,
          1986507,
          1722554,
          1258134,
          1209027,
          883050,
          730776,
          682629,
          624248,
          623975,
          430991,
          394259,
          393646,
          336514,
          322720,
          246285,
          237440,
          172732,
          166245,
          150203,
          86784,
          69824,
          65697,
          27788,
          25833,
          24511,
          15719,
          15123,
          11102,
          1506,
          602,
          62,
          0,
          0,
          0
         ],
         "yaxis": "y"
        }
       ],
       "layout": {
        "barmode": "relative",
        "legend": {
         "tracegroupgap": 0
        },
        "template": {
         "data": {
          "bar": [
           {
            "error_x": {
             "color": "#2a3f5f"
            },
            "error_y": {
             "color": "#2a3f5f"
            },
            "marker": {
             "line": {
              "color": "#E5ECF6",
              "width": 0.5
             }
            },
            "type": "bar"
           }
          ],
          "barpolar": [
           {
            "marker": {
             "line": {
              "color": "#E5ECF6",
              "width": 0.5
             }
            },
            "type": "barpolar"
           }
          ],
          "carpet": [
           {
            "aaxis": {
             "endlinecolor": "#2a3f5f",
             "gridcolor": "white",
             "linecolor": "white",
             "minorgridcolor": "white",
             "startlinecolor": "#2a3f5f"
            },
            "baxis": {
             "endlinecolor": "#2a3f5f",
             "gridcolor": "white",
             "linecolor": "white",
             "minorgridcolor": "white",
             "startlinecolor": "#2a3f5f"
            },
            "type": "carpet"
           }
          ],
          "choropleth": [
           {
            "colorbar": {
             "outlinewidth": 0,
             "ticks": ""
            },
            "type": "choropleth"
           }
          ],
          "contour": [
           {
            "colorbar": {
             "outlinewidth": 0,
             "ticks": ""
            },
            "colorscale": [
             [
              0,
              "#0d0887"
             ],
             [
              0.1111111111111111,
              "#46039f"
             ],
             [
              0.2222222222222222,
              "#7201a8"
             ],
             [
              0.3333333333333333,
              "#9c179e"
             ],
             [
              0.4444444444444444,
              "#bd3786"
             ],
             [
              0.5555555555555556,
              "#d8576b"
             ],
             [
              0.6666666666666666,
              "#ed7953"
             ],
             [
              0.7777777777777778,
              "#fb9f3a"
             ],
             [
              0.8888888888888888,
              "#fdca26"
             ],
             [
              1,
              "#f0f921"
             ]
            ],
            "type": "contour"
           }
          ],
          "contourcarpet": [
           {
            "colorbar": {
             "outlinewidth": 0,
             "ticks": ""
            },
            "type": "contourcarpet"
           }
          ],
          "heatmap": [
           {
            "colorbar": {
             "outlinewidth": 0,
             "ticks": ""
            },
            "colorscale": [
             [
              0,
              "#0d0887"
             ],
             [
              0.1111111111111111,
              "#46039f"
             ],
             [
              0.2222222222222222,
              "#7201a8"
             ],
             [
              0.3333333333333333,
              "#9c179e"
             ],
             [
              0.4444444444444444,
              "#bd3786"
             ],
             [
              0.5555555555555556,
              "#d8576b"
             ],
             [
              0.6666666666666666,
              "#ed7953"
             ],
             [
              0.7777777777777778,
              "#fb9f3a"
             ],
             [
              0.8888888888888888,
              "#fdca26"
             ],
             [
              1,
              "#f0f921"
             ]
            ],
            "type": "heatmap"
           }
          ],
          "heatmapgl": [
           {
            "colorbar": {
             "outlinewidth": 0,
             "ticks": ""
            },
            "colorscale": [
             [
              0,
              "#0d0887"
             ],
             [
              0.1111111111111111,
              "#46039f"
             ],
             [
              0.2222222222222222,
              "#7201a8"
             ],
             [
              0.3333333333333333,
              "#9c179e"
             ],
             [
              0.4444444444444444,
              "#bd3786"
             ],
             [
              0.5555555555555556,
              "#d8576b"
             ],
             [
              0.6666666666666666,
              "#ed7953"
             ],
             [
              0.7777777777777778,
              "#fb9f3a"
             ],
             [
              0.8888888888888888,
              "#fdca26"
             ],
             [
              1,
              "#f0f921"
             ]
            ],
            "type": "heatmapgl"
           }
          ],
          "histogram": [
           {
            "marker": {
             "colorbar": {
              "outlinewidth": 0,
              "ticks": ""
             }
            },
            "type": "histogram"
           }
          ],
          "histogram2d": [
           {
            "colorbar": {
             "outlinewidth": 0,
             "ticks": ""
            },
            "colorscale": [
             [
              0,
              "#0d0887"
             ],
             [
              0.1111111111111111,
              "#46039f"
             ],
             [
              0.2222222222222222,
              "#7201a8"
             ],
             [
              0.3333333333333333,
              "#9c179e"
             ],
             [
              0.4444444444444444,
              "#bd3786"
             ],
             [
              0.5555555555555556,
              "#d8576b"
             ],
             [
              0.6666666666666666,
              "#ed7953"
             ],
             [
              0.7777777777777778,
              "#fb9f3a"
             ],
             [
              0.8888888888888888,
              "#fdca26"
             ],
             [
              1,
              "#f0f921"
             ]
            ],
            "type": "histogram2d"
           }
          ],
          "histogram2dcontour": [
           {
            "colorbar": {
             "outlinewidth": 0,
             "ticks": ""
            },
            "colorscale": [
             [
              0,
              "#0d0887"
             ],
             [
              0.1111111111111111,
              "#46039f"
             ],
             [
              0.2222222222222222,
              "#7201a8"
             ],
             [
              0.3333333333333333,
              "#9c179e"
             ],
             [
              0.4444444444444444,
              "#bd3786"
             ],
             [
              0.5555555555555556,
              "#d8576b"
             ],
             [
              0.6666666666666666,
              "#ed7953"
             ],
             [
              0.7777777777777778,
              "#fb9f3a"
             ],
             [
              0.8888888888888888,
              "#fdca26"
             ],
             [
              1,
              "#f0f921"
             ]
            ],
            "type": "histogram2dcontour"
           }
          ],
          "mesh3d": [
           {
            "colorbar": {
             "outlinewidth": 0,
             "ticks": ""
            },
            "type": "mesh3d"
           }
          ],
          "parcoords": [
           {
            "line": {
             "colorbar": {
              "outlinewidth": 0,
              "ticks": ""
             }
            },
            "type": "parcoords"
           }
          ],
          "pie": [
           {
            "automargin": true,
            "type": "pie"
           }
          ],
          "scatter": [
           {
            "marker": {
             "colorbar": {
              "outlinewidth": 0,
              "ticks": ""
             }
            },
            "type": "scatter"
           }
          ],
          "scatter3d": [
           {
            "line": {
             "colorbar": {
              "outlinewidth": 0,
              "ticks": ""
             }
            },
            "marker": {
             "colorbar": {
              "outlinewidth": 0,
              "ticks": ""
             }
            },
            "type": "scatter3d"
           }
          ],
          "scattercarpet": [
           {
            "marker": {
             "colorbar": {
              "outlinewidth": 0,
              "ticks": ""
             }
            },
            "type": "scattercarpet"
           }
          ],
          "scattergeo": [
           {
            "marker": {
             "colorbar": {
              "outlinewidth": 0,
              "ticks": ""
             }
            },
            "type": "scattergeo"
           }
          ],
          "scattergl": [
           {
            "marker": {
             "colorbar": {
              "outlinewidth": 0,
              "ticks": ""
             }
            },
            "type": "scattergl"
           }
          ],
          "scattermapbox": [
           {
            "marker": {
             "colorbar": {
              "outlinewidth": 0,
              "ticks": ""
             }
            },
            "type": "scattermapbox"
           }
          ],
          "scatterpolar": [
           {
            "marker": {
             "colorbar": {
              "outlinewidth": 0,
              "ticks": ""
             }
            },
            "type": "scatterpolar"
           }
          ],
          "scatterpolargl": [
           {
            "marker": {
             "colorbar": {
              "outlinewidth": 0,
              "ticks": ""
             }
            },
            "type": "scatterpolargl"
           }
          ],
          "scatterternary": [
           {
            "marker": {
             "colorbar": {
              "outlinewidth": 0,
              "ticks": ""
             }
            },
            "type": "scatterternary"
           }
          ],
          "surface": [
           {
            "colorbar": {
             "outlinewidth": 0,
             "ticks": ""
            },
            "colorscale": [
             [
              0,
              "#0d0887"
             ],
             [
              0.1111111111111111,
              "#46039f"
             ],
             [
              0.2222222222222222,
              "#7201a8"
             ],
             [
              0.3333333333333333,
              "#9c179e"
             ],
             [
              0.4444444444444444,
              "#bd3786"
             ],
             [
              0.5555555555555556,
              "#d8576b"
             ],
             [
              0.6666666666666666,
              "#ed7953"
             ],
             [
              0.7777777777777778,
              "#fb9f3a"
             ],
             [
              0.8888888888888888,
              "#fdca26"
             ],
             [
              1,
              "#f0f921"
             ]
            ],
            "type": "surface"
           }
          ],
          "table": [
           {
            "cells": {
             "fill": {
              "color": "#EBF0F8"
             },
             "line": {
              "color": "white"
             }
            },
            "header": {
             "fill": {
              "color": "#C8D4E3"
             },
             "line": {
              "color": "white"
             }
            },
            "type": "table"
           }
          ]
         },
         "layout": {
          "annotationdefaults": {
           "arrowcolor": "#2a3f5f",
           "arrowhead": 0,
           "arrowwidth": 1
          },
          "autotypenumbers": "strict",
          "coloraxis": {
           "colorbar": {
            "outlinewidth": 0,
            "ticks": ""
           }
          },
          "colorscale": {
           "diverging": [
            [
             0,
             "#8e0152"
            ],
            [
             0.1,
             "#c51b7d"
            ],
            [
             0.2,
             "#de77ae"
            ],
            [
             0.3,
             "#f1b6da"
            ],
            [
             0.4,
             "#fde0ef"
            ],
            [
             0.5,
             "#f7f7f7"
            ],
            [
             0.6,
             "#e6f5d0"
            ],
            [
             0.7,
             "#b8e186"
            ],
            [
             0.8,
             "#7fbc41"
            ],
            [
             0.9,
             "#4d9221"
            ],
            [
             1,
             "#276419"
            ]
           ],
           "sequential": [
            [
             0,
             "#0d0887"
            ],
            [
             0.1111111111111111,
             "#46039f"
            ],
            [
             0.2222222222222222,
             "#7201a8"
            ],
            [
             0.3333333333333333,
             "#9c179e"
            ],
            [
             0.4444444444444444,
             "#bd3786"
            ],
            [
             0.5555555555555556,
             "#d8576b"
            ],
            [
             0.6666666666666666,
             "#ed7953"
            ],
            [
             0.7777777777777778,
             "#fb9f3a"
            ],
            [
             0.8888888888888888,
             "#fdca26"
            ],
            [
             1,
             "#f0f921"
            ]
           ],
           "sequentialminus": [
            [
             0,
             "#0d0887"
            ],
            [
             0.1111111111111111,
             "#46039f"
            ],
            [
             0.2222222222222222,
             "#7201a8"
            ],
            [
             0.3333333333333333,
             "#9c179e"
            ],
            [
             0.4444444444444444,
             "#bd3786"
            ],
            [
             0.5555555555555556,
             "#d8576b"
            ],
            [
             0.6666666666666666,
             "#ed7953"
            ],
            [
             0.7777777777777778,
             "#fb9f3a"
            ],
            [
             0.8888888888888888,
             "#fdca26"
            ],
            [
             1,
             "#f0f921"
            ]
           ]
          },
          "colorway": [
           "#636efa",
           "#EF553B",
           "#00cc96",
           "#ab63fa",
           "#FFA15A",
           "#19d3f3",
           "#FF6692",
           "#B6E880",
           "#FF97FF",
           "#FECB52"
          ],
          "font": {
           "color": "#2a3f5f"
          },
          "geo": {
           "bgcolor": "white",
           "lakecolor": "white",
           "landcolor": "#E5ECF6",
           "showlakes": true,
           "showland": true,
           "subunitcolor": "white"
          },
          "hoverlabel": {
           "align": "left"
          },
          "hovermode": "closest",
          "mapbox": {
           "style": "light"
          },
          "paper_bgcolor": "white",
          "plot_bgcolor": "#E5ECF6",
          "polar": {
           "angularaxis": {
            "gridcolor": "white",
            "linecolor": "white",
            "ticks": ""
           },
           "bgcolor": "#E5ECF6",
           "radialaxis": {
            "gridcolor": "white",
            "linecolor": "white",
            "ticks": ""
           }
          },
          "scene": {
           "xaxis": {
            "backgroundcolor": "#E5ECF6",
            "gridcolor": "white",
            "gridwidth": 2,
            "linecolor": "white",
            "showbackground": true,
            "ticks": "",
            "zerolinecolor": "white"
           },
           "yaxis": {
            "backgroundcolor": "#E5ECF6",
            "gridcolor": "white",
            "gridwidth": 2,
            "linecolor": "white",
            "showbackground": true,
            "ticks": "",
            "zerolinecolor": "white"
           },
           "zaxis": {
            "backgroundcolor": "#E5ECF6",
            "gridcolor": "white",
            "gridwidth": 2,
            "linecolor": "white",
            "showbackground": true,
            "ticks": "",
            "zerolinecolor": "white"
           }
          },
          "shapedefaults": {
           "line": {
            "color": "#2a3f5f"
           }
          },
          "ternary": {
           "aaxis": {
            "gridcolor": "white",
            "linecolor": "white",
            "ticks": ""
           },
           "baxis": {
            "gridcolor": "white",
            "linecolor": "white",
            "ticks": ""
           },
           "bgcolor": "#E5ECF6",
           "caxis": {
            "gridcolor": "white",
            "linecolor": "white",
            "ticks": ""
           }
          },
          "title": {
           "x": 0.05
          },
          "xaxis": {
           "automargin": true,
           "gridcolor": "white",
           "linecolor": "white",
           "ticks": "",
           "title": {
            "standoff": 15
           },
           "zerolinecolor": "white",
           "zerolinewidth": 2
          },
          "yaxis": {
           "automargin": true,
           "gridcolor": "white",
           "linecolor": "white",
           "ticks": "",
           "title": {
            "standoff": 15
           },
           "zerolinecolor": "white",
           "zerolinewidth": 2
          }
         }
        },
        "title": {
         "text": "All 39 states/union territories which have Deaths confirmed"
        },
        "xaxis": {
         "anchor": "y",
         "domain": [
          0,
          1
         ],
         "title": {
          "text": "x"
         }
        },
        "yaxis": {
         "anchor": "x",
         "domain": [
          0,
          1
         ],
         "title": {
          "text": "y"
         }
        }
       }
      },
      "text/html": [
       "<div>                            <div id=\"d7e5e7d5-e991-4367-ab4e-409a3c8d7d97\" class=\"plotly-graph-div\" style=\"height:525px; width:100%;\"></div>            <script type=\"text/javascript\">                require([\"plotly\"], function(Plotly) {                    window.PLOTLYENV=window.PLOTLYENV || {};                                    if (document.getElementById(\"d7e5e7d5-e991-4367-ab4e-409a3c8d7d97\")) {                    Plotly.newPlot(                        \"d7e5e7d5-e991-4367-ab4e-409a3c8d7d97\",                        [{\"alignmentgroup\": \"True\", \"hovertemplate\": \"x=%{x}<br>y=%{y}<extra></extra>\", \"legendgroup\": \"\", \"marker\": {\"color\": \"rgb(27,158,119)\"}, \"name\": \"\", \"offsetgroup\": \"\", \"orientation\": \"v\", \"showlegend\": false, \"textposition\": \"auto\", \"type\": \"bar\", \"x\": [\"Maharashtra\", \"Tamil Nadu\", \"Karnataka\", \"Delhi\", \"West Bengal\", \"Uttar Pradesh\", \"Andhra Pradesh\", \"Punjab\", \"Gujarat\", \"Madhya Pradesh\", \"Chhattisgarh\", \"Kerala\", \"Rajasthan\", \"Haryana\", \"Jammu and Kashmir\", \"Odisha\", \"Telengana\", \"Bihar\", \"Uttarakhand\", \"Jharkhand\", \"Assam\", \"Himachal Pradesh\", \"Goa\", \"Puducherry\", \"Tripura\", \"Chandigarh\", \"Manipur\", \"Meghalaya\", \"Ladakh\", \"Sikkim\", \"Nagaland\", \"Andaman and Nicobar Islands\", \"Arunachal Pradesh\", \"Mizoram\", \"Dadra and Nagar Haveli and Daman and Diu\", \"Lakshadweep\", \"Daman & Diu\", \"Unassigned\", \"Cases being reassigned to states\"], \"xaxis\": \"x\", \"y\": [12492099, 3037164, 2885294, 2470634, 2151821, 1986507, 1722554, 1258134, 1209027, 883050, 730776, 682629, 624248, 623975, 430991, 394259, 393646, 336514, 322720, 246285, 237440, 172732, 166245, 150203, 86784, 69824, 65697, 27788, 25833, 24511, 15719, 15123, 11102, 1506, 602, 62, 0, 0, 0], \"yaxis\": \"y\"}],                        {\"barmode\": \"relative\", \"legend\": {\"tracegroupgap\": 0}, \"template\": {\"data\": {\"bar\": [{\"error_x\": {\"color\": \"#2a3f5f\"}, \"error_y\": {\"color\": \"#2a3f5f\"}, \"marker\": {\"line\": {\"color\": \"#E5ECF6\", \"width\": 0.5}}, \"type\": \"bar\"}], \"barpolar\": [{\"marker\": {\"line\": {\"color\": \"#E5ECF6\", \"width\": 0.5}}, \"type\": \"barpolar\"}], \"carpet\": [{\"aaxis\": {\"endlinecolor\": \"#2a3f5f\", \"gridcolor\": \"white\", \"linecolor\": \"white\", \"minorgridcolor\": \"white\", \"startlinecolor\": \"#2a3f5f\"}, \"baxis\": {\"endlinecolor\": \"#2a3f5f\", \"gridcolor\": \"white\", \"linecolor\": \"white\", \"minorgridcolor\": \"white\", \"startlinecolor\": \"#2a3f5f\"}, \"type\": \"carpet\"}], \"choropleth\": [{\"colorbar\": {\"outlinewidth\": 0, \"ticks\": \"\"}, \"type\": \"choropleth\"}], \"contour\": [{\"colorbar\": {\"outlinewidth\": 0, \"ticks\": \"\"}, \"colorscale\": [[0.0, \"#0d0887\"], [0.1111111111111111, \"#46039f\"], [0.2222222222222222, \"#7201a8\"], [0.3333333333333333, \"#9c179e\"], [0.4444444444444444, \"#bd3786\"], [0.5555555555555556, \"#d8576b\"], [0.6666666666666666, \"#ed7953\"], [0.7777777777777778, \"#fb9f3a\"], [0.8888888888888888, \"#fdca26\"], [1.0, \"#f0f921\"]], \"type\": \"contour\"}], \"contourcarpet\": [{\"colorbar\": {\"outlinewidth\": 0, \"ticks\": \"\"}, \"type\": \"contourcarpet\"}], \"heatmap\": [{\"colorbar\": {\"outlinewidth\": 0, \"ticks\": \"\"}, \"colorscale\": [[0.0, \"#0d0887\"], [0.1111111111111111, \"#46039f\"], [0.2222222222222222, \"#7201a8\"], [0.3333333333333333, \"#9c179e\"], [0.4444444444444444, \"#bd3786\"], [0.5555555555555556, \"#d8576b\"], [0.6666666666666666, \"#ed7953\"], [0.7777777777777778, \"#fb9f3a\"], [0.8888888888888888, \"#fdca26\"], [1.0, \"#f0f921\"]], \"type\": \"heatmap\"}], \"heatmapgl\": [{\"colorbar\": {\"outlinewidth\": 0, \"ticks\": \"\"}, \"colorscale\": [[0.0, \"#0d0887\"], [0.1111111111111111, \"#46039f\"], [0.2222222222222222, \"#7201a8\"], [0.3333333333333333, \"#9c179e\"], [0.4444444444444444, \"#bd3786\"], [0.5555555555555556, \"#d8576b\"], [0.6666666666666666, \"#ed7953\"], [0.7777777777777778, \"#fb9f3a\"], [0.8888888888888888, \"#fdca26\"], [1.0, \"#f0f921\"]], \"type\": \"heatmapgl\"}], \"histogram\": [{\"marker\": {\"colorbar\": {\"outlinewidth\": 0, \"ticks\": \"\"}}, \"type\": \"histogram\"}], \"histogram2d\": [{\"colorbar\": {\"outlinewidth\": 0, \"ticks\": \"\"}, \"colorscale\": [[0.0, \"#0d0887\"], [0.1111111111111111, \"#46039f\"], [0.2222222222222222, \"#7201a8\"], [0.3333333333333333, \"#9c179e\"], [0.4444444444444444, \"#bd3786\"], [0.5555555555555556, \"#d8576b\"], [0.6666666666666666, \"#ed7953\"], [0.7777777777777778, \"#fb9f3a\"], [0.8888888888888888, \"#fdca26\"], [1.0, \"#f0f921\"]], \"type\": \"histogram2d\"}], \"histogram2dcontour\": [{\"colorbar\": {\"outlinewidth\": 0, \"ticks\": \"\"}, \"colorscale\": [[0.0, \"#0d0887\"], [0.1111111111111111, \"#46039f\"], [0.2222222222222222, \"#7201a8\"], [0.3333333333333333, \"#9c179e\"], [0.4444444444444444, \"#bd3786\"], [0.5555555555555556, \"#d8576b\"], [0.6666666666666666, \"#ed7953\"], [0.7777777777777778, \"#fb9f3a\"], [0.8888888888888888, \"#fdca26\"], [1.0, \"#f0f921\"]], \"type\": \"histogram2dcontour\"}], \"mesh3d\": [{\"colorbar\": {\"outlinewidth\": 0, \"ticks\": \"\"}, \"type\": \"mesh3d\"}], \"parcoords\": [{\"line\": {\"colorbar\": {\"outlinewidth\": 0, \"ticks\": \"\"}}, \"type\": \"parcoords\"}], \"pie\": [{\"automargin\": true, \"type\": \"pie\"}], \"scatter\": [{\"marker\": {\"colorbar\": {\"outlinewidth\": 0, \"ticks\": \"\"}}, \"type\": \"scatter\"}], \"scatter3d\": [{\"line\": {\"colorbar\": {\"outlinewidth\": 0, \"ticks\": \"\"}}, \"marker\": {\"colorbar\": {\"outlinewidth\": 0, \"ticks\": \"\"}}, \"type\": \"scatter3d\"}], \"scattercarpet\": [{\"marker\": {\"colorbar\": {\"outlinewidth\": 0, \"ticks\": \"\"}}, \"type\": \"scattercarpet\"}], \"scattergeo\": [{\"marker\": {\"colorbar\": {\"outlinewidth\": 0, \"ticks\": \"\"}}, \"type\": \"scattergeo\"}], \"scattergl\": [{\"marker\": {\"colorbar\": {\"outlinewidth\": 0, \"ticks\": \"\"}}, \"type\": \"scattergl\"}], \"scattermapbox\": [{\"marker\": {\"colorbar\": {\"outlinewidth\": 0, \"ticks\": \"\"}}, \"type\": \"scattermapbox\"}], \"scatterpolar\": [{\"marker\": {\"colorbar\": {\"outlinewidth\": 0, \"ticks\": \"\"}}, \"type\": \"scatterpolar\"}], \"scatterpolargl\": [{\"marker\": {\"colorbar\": {\"outlinewidth\": 0, \"ticks\": \"\"}}, \"type\": \"scatterpolargl\"}], \"scatterternary\": [{\"marker\": {\"colorbar\": {\"outlinewidth\": 0, \"ticks\": \"\"}}, \"type\": \"scatterternary\"}], \"surface\": [{\"colorbar\": {\"outlinewidth\": 0, \"ticks\": \"\"}, \"colorscale\": [[0.0, \"#0d0887\"], [0.1111111111111111, \"#46039f\"], [0.2222222222222222, \"#7201a8\"], [0.3333333333333333, \"#9c179e\"], [0.4444444444444444, \"#bd3786\"], [0.5555555555555556, \"#d8576b\"], [0.6666666666666666, \"#ed7953\"], [0.7777777777777778, \"#fb9f3a\"], [0.8888888888888888, \"#fdca26\"], [1.0, \"#f0f921\"]], \"type\": \"surface\"}], \"table\": [{\"cells\": {\"fill\": {\"color\": \"#EBF0F8\"}, \"line\": {\"color\": \"white\"}}, \"header\": {\"fill\": {\"color\": \"#C8D4E3\"}, \"line\": {\"color\": \"white\"}}, \"type\": \"table\"}]}, \"layout\": {\"annotationdefaults\": {\"arrowcolor\": \"#2a3f5f\", \"arrowhead\": 0, \"arrowwidth\": 1}, \"autotypenumbers\": \"strict\", \"coloraxis\": {\"colorbar\": {\"outlinewidth\": 0, \"ticks\": \"\"}}, \"colorscale\": {\"diverging\": [[0, \"#8e0152\"], [0.1, \"#c51b7d\"], [0.2, \"#de77ae\"], [0.3, \"#f1b6da\"], [0.4, \"#fde0ef\"], [0.5, \"#f7f7f7\"], [0.6, \"#e6f5d0\"], [0.7, \"#b8e186\"], [0.8, \"#7fbc41\"], [0.9, \"#4d9221\"], [1, \"#276419\"]], \"sequential\": [[0.0, \"#0d0887\"], [0.1111111111111111, \"#46039f\"], [0.2222222222222222, \"#7201a8\"], [0.3333333333333333, \"#9c179e\"], [0.4444444444444444, \"#bd3786\"], [0.5555555555555556, \"#d8576b\"], [0.6666666666666666, \"#ed7953\"], [0.7777777777777778, \"#fb9f3a\"], [0.8888888888888888, \"#fdca26\"], [1.0, \"#f0f921\"]], \"sequentialminus\": [[0.0, \"#0d0887\"], [0.1111111111111111, \"#46039f\"], [0.2222222222222222, \"#7201a8\"], [0.3333333333333333, \"#9c179e\"], [0.4444444444444444, \"#bd3786\"], [0.5555555555555556, \"#d8576b\"], [0.6666666666666666, \"#ed7953\"], [0.7777777777777778, \"#fb9f3a\"], [0.8888888888888888, \"#fdca26\"], [1.0, \"#f0f921\"]]}, \"colorway\": [\"#636efa\", \"#EF553B\", \"#00cc96\", \"#ab63fa\", \"#FFA15A\", \"#19d3f3\", \"#FF6692\", \"#B6E880\", \"#FF97FF\", \"#FECB52\"], \"font\": {\"color\": \"#2a3f5f\"}, \"geo\": {\"bgcolor\": \"white\", \"lakecolor\": \"white\", \"landcolor\": \"#E5ECF6\", \"showlakes\": true, \"showland\": true, \"subunitcolor\": \"white\"}, \"hoverlabel\": {\"align\": \"left\"}, \"hovermode\": \"closest\", \"mapbox\": {\"style\": \"light\"}, \"paper_bgcolor\": \"white\", \"plot_bgcolor\": \"#E5ECF6\", \"polar\": {\"angularaxis\": {\"gridcolor\": \"white\", \"linecolor\": \"white\", \"ticks\": \"\"}, \"bgcolor\": \"#E5ECF6\", \"radialaxis\": {\"gridcolor\": \"white\", \"linecolor\": \"white\", \"ticks\": \"\"}}, \"scene\": {\"xaxis\": {\"backgroundcolor\": \"#E5ECF6\", \"gridcolor\": \"white\", \"gridwidth\": 2, \"linecolor\": \"white\", \"showbackground\": true, \"ticks\": \"\", \"zerolinecolor\": \"white\"}, \"yaxis\": {\"backgroundcolor\": \"#E5ECF6\", \"gridcolor\": \"white\", \"gridwidth\": 2, \"linecolor\": \"white\", \"showbackground\": true, \"ticks\": \"\", \"zerolinecolor\": \"white\"}, \"zaxis\": {\"backgroundcolor\": \"#E5ECF6\", \"gridcolor\": \"white\", \"gridwidth\": 2, \"linecolor\": \"white\", \"showbackground\": true, \"ticks\": \"\", \"zerolinecolor\": \"white\"}}, \"shapedefaults\": {\"line\": {\"color\": \"#2a3f5f\"}}, \"ternary\": {\"aaxis\": {\"gridcolor\": \"white\", \"linecolor\": \"white\", \"ticks\": \"\"}, \"baxis\": {\"gridcolor\": \"white\", \"linecolor\": \"white\", \"ticks\": \"\"}, \"bgcolor\": \"#E5ECF6\", \"caxis\": {\"gridcolor\": \"white\", \"linecolor\": \"white\", \"ticks\": \"\"}}, \"title\": {\"x\": 0.05}, \"xaxis\": {\"automargin\": true, \"gridcolor\": \"white\", \"linecolor\": \"white\", \"ticks\": \"\", \"title\": {\"standoff\": 15}, \"zerolinecolor\": \"white\", \"zerolinewidth\": 2}, \"yaxis\": {\"automargin\": true, \"gridcolor\": \"white\", \"linecolor\": \"white\", \"ticks\": \"\", \"title\": {\"standoff\": 15}, \"zerolinecolor\": \"white\", \"zerolinewidth\": 2}}}, \"title\": {\"text\": \"All 39 states/union territories which have Deaths confirmed\"}, \"xaxis\": {\"anchor\": \"y\", \"domain\": [0.0, 1.0], \"title\": {\"text\": \"x\"}}, \"yaxis\": {\"anchor\": \"x\", \"domain\": [0.0, 1.0], \"title\": {\"text\": \"y\"}}},                        {\"responsive\": true}                    ).then(function(){\n",
       "                            \n",
       "var gd = document.getElementById('d7e5e7d5-e991-4367-ab4e-409a3c8d7d97');\n",
       "var x = new MutationObserver(function (mutations, observer) {{\n",
       "        var display = window.getComputedStyle(gd).display;\n",
       "        if (!display || display === 'none') {{\n",
       "            console.log([gd, 'removed!']);\n",
       "            Plotly.purge(gd);\n",
       "            observer.disconnect();\n",
       "        }}\n",
       "}});\n",
       "\n",
       "// Listen for the removal of the full notebook cells\n",
       "var notebookContainer = gd.closest('#notebook-container');\n",
       "if (notebookContainer) {{\n",
       "    x.observe(notebookContainer, {childList: true});\n",
       "}}\n",
       "\n",
       "// Listen for the clearing of the current output cell\n",
       "var outputEl = gd.closest('.output');\n",
       "if (outputEl) {{\n",
       "    x.observe(outputEl, {childList: true});\n",
       "}}\n",
       "\n",
       "                        })                };                });            </script>        </div>"
      ]
     },
     "metadata": {},
     "output_type": "display_data"
    }
   ],
   "source": [
    "px.bar(x=deaths.nlargest(39,\"Deaths\")[\"State/UnionTerritory\"],y = deaths.nlargest(39,\"Deaths\")[\"Deaths\"],color_discrete_sequence=px.colors.qualitative.Dark2,title=\"All 39 states/union territories which have Deaths confirmed\")"
   ]
  },
  {
   "cell_type": "markdown",
   "metadata": {},
   "source": [
    "### TreeMap - Confirmed Cases "
   ]
  },
  {
   "cell_type": "code",
   "execution_count": 69,
   "metadata": {},
   "outputs": [
    {
     "data": {
      "application/vnd.plotly.v1+json": {
       "config": {
        "plotlyServerURL": "https://plot.ly"
       },
       "data": [
        {
         "branchvalues": "total",
         "domain": {
          "x": [
           0,
           1
          ],
          "y": [
           0,
           1
          ]
         },
         "hovertemplate": "labels=%{label}<br>Confirmed=%{value}<br>parent=%{parent}<br>id=%{id}<extra></extra>",
         "ids": [
          "Andaman and Nicobar Islands",
          "Andhra Pradesh",
          "Arunachal Pradesh",
          "Assam",
          "Bihar",
          "Cases being reassigned to states",
          "Chandigarh",
          "Chhattisgarh",
          "Dadra and Nagar Haveli and Daman and Diu",
          "Daman & Diu",
          "Delhi",
          "Goa",
          "Gujarat",
          "Haryana",
          "Himachal Pradesh",
          "Jammu and Kashmir",
          "Jharkhand",
          "Karnataka",
          "Kerala",
          "Ladakh",
          "Lakshadweep",
          "Madhya Pradesh",
          "Maharashtra",
          "Manipur",
          "Meghalaya",
          "Mizoram",
          "Nagaland",
          "Odisha",
          "Puducherry",
          "Punjab",
          "Rajasthan",
          "Sikkim",
          "Tamil Nadu",
          "Telengana",
          "Tripura",
          "Unassigned",
          "Uttar Pradesh",
          "Uttarakhand",
          "West Bengal"
         ],
         "labels": [
          "Andaman and Nicobar Islands",
          "Andhra Pradesh",
          "Arunachal Pradesh",
          "Assam",
          "Bihar",
          "Cases being reassigned to states",
          "Chandigarh",
          "Chhattisgarh",
          "Dadra and Nagar Haveli and Daman and Diu",
          "Daman & Diu",
          "Delhi",
          "Goa",
          "Gujarat",
          "Haryana",
          "Himachal Pradesh",
          "Jammu and Kashmir",
          "Jharkhand",
          "Karnataka",
          "Kerala",
          "Ladakh",
          "Lakshadweep",
          "Madhya Pradesh",
          "Maharashtra",
          "Manipur",
          "Meghalaya",
          "Mizoram",
          "Nagaland",
          "Odisha",
          "Puducherry",
          "Punjab",
          "Rajasthan",
          "Sikkim",
          "Tamil Nadu",
          "Telengana",
          "Tripura",
          "Unassigned",
          "Uttar Pradesh",
          "Uttarakhand",
          "West Bengal"
         ],
         "name": "",
         "parents": [
          "",
          "",
          "",
          "",
          "",
          "",
          "",
          "",
          "",
          "",
          "",
          "",
          "",
          "",
          "",
          "",
          "",
          "",
          "",
          "",
          "",
          "",
          "",
          "",
          "",
          "",
          "",
          "",
          "",
          "",
          "",
          "",
          "",
          "",
          "",
          "",
          "",
          "",
          ""
         ],
         "type": "treemap",
         "values": [
          1189952,
          210789590,
          3671031,
          52286878,
          61519210,
          345565,
          4690884,
          63339141,
          898744,
          2,
          139960345,
          12066208,
          60760431,
          57687972,
          10811952,
          27775558,
          27455287,
          216181457,
          173919539,
          2085695,
          56944,
          56660576,
          516281626,
          5843202,
          2801586,
          904891,
          2622854,
          74984512,
          9009636,
          41589604,
          67438958,
          1255806,
          203749579,
          68683742,
          7769307,
          161,
          139253955,
          19979389,
          119629349
         ]
        }
       ],
       "layout": {
        "legend": {
         "tracegroupgap": 0
        },
        "template": {
         "data": {
          "bar": [
           {
            "error_x": {
             "color": "#2a3f5f"
            },
            "error_y": {
             "color": "#2a3f5f"
            },
            "marker": {
             "line": {
              "color": "#E5ECF6",
              "width": 0.5
             }
            },
            "type": "bar"
           }
          ],
          "barpolar": [
           {
            "marker": {
             "line": {
              "color": "#E5ECF6",
              "width": 0.5
             }
            },
            "type": "barpolar"
           }
          ],
          "carpet": [
           {
            "aaxis": {
             "endlinecolor": "#2a3f5f",
             "gridcolor": "white",
             "linecolor": "white",
             "minorgridcolor": "white",
             "startlinecolor": "#2a3f5f"
            },
            "baxis": {
             "endlinecolor": "#2a3f5f",
             "gridcolor": "white",
             "linecolor": "white",
             "minorgridcolor": "white",
             "startlinecolor": "#2a3f5f"
            },
            "type": "carpet"
           }
          ],
          "choropleth": [
           {
            "colorbar": {
             "outlinewidth": 0,
             "ticks": ""
            },
            "type": "choropleth"
           }
          ],
          "contour": [
           {
            "colorbar": {
             "outlinewidth": 0,
             "ticks": ""
            },
            "colorscale": [
             [
              0,
              "#0d0887"
             ],
             [
              0.1111111111111111,
              "#46039f"
             ],
             [
              0.2222222222222222,
              "#7201a8"
             ],
             [
              0.3333333333333333,
              "#9c179e"
             ],
             [
              0.4444444444444444,
              "#bd3786"
             ],
             [
              0.5555555555555556,
              "#d8576b"
             ],
             [
              0.6666666666666666,
              "#ed7953"
             ],
             [
              0.7777777777777778,
              "#fb9f3a"
             ],
             [
              0.8888888888888888,
              "#fdca26"
             ],
             [
              1,
              "#f0f921"
             ]
            ],
            "type": "contour"
           }
          ],
          "contourcarpet": [
           {
            "colorbar": {
             "outlinewidth": 0,
             "ticks": ""
            },
            "type": "contourcarpet"
           }
          ],
          "heatmap": [
           {
            "colorbar": {
             "outlinewidth": 0,
             "ticks": ""
            },
            "colorscale": [
             [
              0,
              "#0d0887"
             ],
             [
              0.1111111111111111,
              "#46039f"
             ],
             [
              0.2222222222222222,
              "#7201a8"
             ],
             [
              0.3333333333333333,
              "#9c179e"
             ],
             [
              0.4444444444444444,
              "#bd3786"
             ],
             [
              0.5555555555555556,
              "#d8576b"
             ],
             [
              0.6666666666666666,
              "#ed7953"
             ],
             [
              0.7777777777777778,
              "#fb9f3a"
             ],
             [
              0.8888888888888888,
              "#fdca26"
             ],
             [
              1,
              "#f0f921"
             ]
            ],
            "type": "heatmap"
           }
          ],
          "heatmapgl": [
           {
            "colorbar": {
             "outlinewidth": 0,
             "ticks": ""
            },
            "colorscale": [
             [
              0,
              "#0d0887"
             ],
             [
              0.1111111111111111,
              "#46039f"
             ],
             [
              0.2222222222222222,
              "#7201a8"
             ],
             [
              0.3333333333333333,
              "#9c179e"
             ],
             [
              0.4444444444444444,
              "#bd3786"
             ],
             [
              0.5555555555555556,
              "#d8576b"
             ],
             [
              0.6666666666666666,
              "#ed7953"
             ],
             [
              0.7777777777777778,
              "#fb9f3a"
             ],
             [
              0.8888888888888888,
              "#fdca26"
             ],
             [
              1,
              "#f0f921"
             ]
            ],
            "type": "heatmapgl"
           }
          ],
          "histogram": [
           {
            "marker": {
             "colorbar": {
              "outlinewidth": 0,
              "ticks": ""
             }
            },
            "type": "histogram"
           }
          ],
          "histogram2d": [
           {
            "colorbar": {
             "outlinewidth": 0,
             "ticks": ""
            },
            "colorscale": [
             [
              0,
              "#0d0887"
             ],
             [
              0.1111111111111111,
              "#46039f"
             ],
             [
              0.2222222222222222,
              "#7201a8"
             ],
             [
              0.3333333333333333,
              "#9c179e"
             ],
             [
              0.4444444444444444,
              "#bd3786"
             ],
             [
              0.5555555555555556,
              "#d8576b"
             ],
             [
              0.6666666666666666,
              "#ed7953"
             ],
             [
              0.7777777777777778,
              "#fb9f3a"
             ],
             [
              0.8888888888888888,
              "#fdca26"
             ],
             [
              1,
              "#f0f921"
             ]
            ],
            "type": "histogram2d"
           }
          ],
          "histogram2dcontour": [
           {
            "colorbar": {
             "outlinewidth": 0,
             "ticks": ""
            },
            "colorscale": [
             [
              0,
              "#0d0887"
             ],
             [
              0.1111111111111111,
              "#46039f"
             ],
             [
              0.2222222222222222,
              "#7201a8"
             ],
             [
              0.3333333333333333,
              "#9c179e"
             ],
             [
              0.4444444444444444,
              "#bd3786"
             ],
             [
              0.5555555555555556,
              "#d8576b"
             ],
             [
              0.6666666666666666,
              "#ed7953"
             ],
             [
              0.7777777777777778,
              "#fb9f3a"
             ],
             [
              0.8888888888888888,
              "#fdca26"
             ],
             [
              1,
              "#f0f921"
             ]
            ],
            "type": "histogram2dcontour"
           }
          ],
          "mesh3d": [
           {
            "colorbar": {
             "outlinewidth": 0,
             "ticks": ""
            },
            "type": "mesh3d"
           }
          ],
          "parcoords": [
           {
            "line": {
             "colorbar": {
              "outlinewidth": 0,
              "ticks": ""
             }
            },
            "type": "parcoords"
           }
          ],
          "pie": [
           {
            "automargin": true,
            "type": "pie"
           }
          ],
          "scatter": [
           {
            "marker": {
             "colorbar": {
              "outlinewidth": 0,
              "ticks": ""
             }
            },
            "type": "scatter"
           }
          ],
          "scatter3d": [
           {
            "line": {
             "colorbar": {
              "outlinewidth": 0,
              "ticks": ""
             }
            },
            "marker": {
             "colorbar": {
              "outlinewidth": 0,
              "ticks": ""
             }
            },
            "type": "scatter3d"
           }
          ],
          "scattercarpet": [
           {
            "marker": {
             "colorbar": {
              "outlinewidth": 0,
              "ticks": ""
             }
            },
            "type": "scattercarpet"
           }
          ],
          "scattergeo": [
           {
            "marker": {
             "colorbar": {
              "outlinewidth": 0,
              "ticks": ""
             }
            },
            "type": "scattergeo"
           }
          ],
          "scattergl": [
           {
            "marker": {
             "colorbar": {
              "outlinewidth": 0,
              "ticks": ""
             }
            },
            "type": "scattergl"
           }
          ],
          "scattermapbox": [
           {
            "marker": {
             "colorbar": {
              "outlinewidth": 0,
              "ticks": ""
             }
            },
            "type": "scattermapbox"
           }
          ],
          "scatterpolar": [
           {
            "marker": {
             "colorbar": {
              "outlinewidth": 0,
              "ticks": ""
             }
            },
            "type": "scatterpolar"
           }
          ],
          "scatterpolargl": [
           {
            "marker": {
             "colorbar": {
              "outlinewidth": 0,
              "ticks": ""
             }
            },
            "type": "scatterpolargl"
           }
          ],
          "scatterternary": [
           {
            "marker": {
             "colorbar": {
              "outlinewidth": 0,
              "ticks": ""
             }
            },
            "type": "scatterternary"
           }
          ],
          "surface": [
           {
            "colorbar": {
             "outlinewidth": 0,
             "ticks": ""
            },
            "colorscale": [
             [
              0,
              "#0d0887"
             ],
             [
              0.1111111111111111,
              "#46039f"
             ],
             [
              0.2222222222222222,
              "#7201a8"
             ],
             [
              0.3333333333333333,
              "#9c179e"
             ],
             [
              0.4444444444444444,
              "#bd3786"
             ],
             [
              0.5555555555555556,
              "#d8576b"
             ],
             [
              0.6666666666666666,
              "#ed7953"
             ],
             [
              0.7777777777777778,
              "#fb9f3a"
             ],
             [
              0.8888888888888888,
              "#fdca26"
             ],
             [
              1,
              "#f0f921"
             ]
            ],
            "type": "surface"
           }
          ],
          "table": [
           {
            "cells": {
             "fill": {
              "color": "#EBF0F8"
             },
             "line": {
              "color": "white"
             }
            },
            "header": {
             "fill": {
              "color": "#C8D4E3"
             },
             "line": {
              "color": "white"
             }
            },
            "type": "table"
           }
          ]
         },
         "layout": {
          "annotationdefaults": {
           "arrowcolor": "#2a3f5f",
           "arrowhead": 0,
           "arrowwidth": 1
          },
          "autotypenumbers": "strict",
          "coloraxis": {
           "colorbar": {
            "outlinewidth": 0,
            "ticks": ""
           }
          },
          "colorscale": {
           "diverging": [
            [
             0,
             "#8e0152"
            ],
            [
             0.1,
             "#c51b7d"
            ],
            [
             0.2,
             "#de77ae"
            ],
            [
             0.3,
             "#f1b6da"
            ],
            [
             0.4,
             "#fde0ef"
            ],
            [
             0.5,
             "#f7f7f7"
            ],
            [
             0.6,
             "#e6f5d0"
            ],
            [
             0.7,
             "#b8e186"
            ],
            [
             0.8,
             "#7fbc41"
            ],
            [
             0.9,
             "#4d9221"
            ],
            [
             1,
             "#276419"
            ]
           ],
           "sequential": [
            [
             0,
             "#0d0887"
            ],
            [
             0.1111111111111111,
             "#46039f"
            ],
            [
             0.2222222222222222,
             "#7201a8"
            ],
            [
             0.3333333333333333,
             "#9c179e"
            ],
            [
             0.4444444444444444,
             "#bd3786"
            ],
            [
             0.5555555555555556,
             "#d8576b"
            ],
            [
             0.6666666666666666,
             "#ed7953"
            ],
            [
             0.7777777777777778,
             "#fb9f3a"
            ],
            [
             0.8888888888888888,
             "#fdca26"
            ],
            [
             1,
             "#f0f921"
            ]
           ],
           "sequentialminus": [
            [
             0,
             "#0d0887"
            ],
            [
             0.1111111111111111,
             "#46039f"
            ],
            [
             0.2222222222222222,
             "#7201a8"
            ],
            [
             0.3333333333333333,
             "#9c179e"
            ],
            [
             0.4444444444444444,
             "#bd3786"
            ],
            [
             0.5555555555555556,
             "#d8576b"
            ],
            [
             0.6666666666666666,
             "#ed7953"
            ],
            [
             0.7777777777777778,
             "#fb9f3a"
            ],
            [
             0.8888888888888888,
             "#fdca26"
            ],
            [
             1,
             "#f0f921"
            ]
           ]
          },
          "colorway": [
           "#636efa",
           "#EF553B",
           "#00cc96",
           "#ab63fa",
           "#FFA15A",
           "#19d3f3",
           "#FF6692",
           "#B6E880",
           "#FF97FF",
           "#FECB52"
          ],
          "font": {
           "color": "#2a3f5f"
          },
          "geo": {
           "bgcolor": "white",
           "lakecolor": "white",
           "landcolor": "#E5ECF6",
           "showlakes": true,
           "showland": true,
           "subunitcolor": "white"
          },
          "hoverlabel": {
           "align": "left"
          },
          "hovermode": "closest",
          "mapbox": {
           "style": "light"
          },
          "paper_bgcolor": "white",
          "plot_bgcolor": "#E5ECF6",
          "polar": {
           "angularaxis": {
            "gridcolor": "white",
            "linecolor": "white",
            "ticks": ""
           },
           "bgcolor": "#E5ECF6",
           "radialaxis": {
            "gridcolor": "white",
            "linecolor": "white",
            "ticks": ""
           }
          },
          "scene": {
           "xaxis": {
            "backgroundcolor": "#E5ECF6",
            "gridcolor": "white",
            "gridwidth": 2,
            "linecolor": "white",
            "showbackground": true,
            "ticks": "",
            "zerolinecolor": "white"
           },
           "yaxis": {
            "backgroundcolor": "#E5ECF6",
            "gridcolor": "white",
            "gridwidth": 2,
            "linecolor": "white",
            "showbackground": true,
            "ticks": "",
            "zerolinecolor": "white"
           },
           "zaxis": {
            "backgroundcolor": "#E5ECF6",
            "gridcolor": "white",
            "gridwidth": 2,
            "linecolor": "white",
            "showbackground": true,
            "ticks": "",
            "zerolinecolor": "white"
           }
          },
          "shapedefaults": {
           "line": {
            "color": "#2a3f5f"
           }
          },
          "ternary": {
           "aaxis": {
            "gridcolor": "white",
            "linecolor": "white",
            "ticks": ""
           },
           "baxis": {
            "gridcolor": "white",
            "linecolor": "white",
            "ticks": ""
           },
           "bgcolor": "#E5ECF6",
           "caxis": {
            "gridcolor": "white",
            "linecolor": "white",
            "ticks": ""
           }
          },
          "title": {
           "x": 0.05
          },
          "xaxis": {
           "automargin": true,
           "gridcolor": "white",
           "linecolor": "white",
           "ticks": "",
           "title": {
            "standoff": 15
           },
           "zerolinecolor": "white",
           "zerolinewidth": 2
          },
          "yaxis": {
           "automargin": true,
           "gridcolor": "white",
           "linecolor": "white",
           "ticks": "",
           "title": {
            "standoff": 15
           },
           "zerolinecolor": "white",
           "zerolinewidth": 2
          }
         }
        },
        "title": {
         "text": "Overall confirmed cases"
        }
       }
      },
      "text/html": [
       "<div>                            <div id=\"f5d2949b-0907-478f-8f17-451d28891825\" class=\"plotly-graph-div\" style=\"height:525px; width:100%;\"></div>            <script type=\"text/javascript\">                require([\"plotly\"], function(Plotly) {                    window.PLOTLYENV=window.PLOTLYENV || {};                                    if (document.getElementById(\"f5d2949b-0907-478f-8f17-451d28891825\")) {                    Plotly.newPlot(                        \"f5d2949b-0907-478f-8f17-451d28891825\",                        [{\"branchvalues\": \"total\", \"domain\": {\"x\": [0.0, 1.0], \"y\": [0.0, 1.0]}, \"hovertemplate\": \"labels=%{label}<br>Confirmed=%{value}<br>parent=%{parent}<br>id=%{id}<extra></extra>\", \"ids\": [\"Andaman and Nicobar Islands\", \"Andhra Pradesh\", \"Arunachal Pradesh\", \"Assam\", \"Bihar\", \"Cases being reassigned to states\", \"Chandigarh\", \"Chhattisgarh\", \"Dadra and Nagar Haveli and Daman and Diu\", \"Daman & Diu\", \"Delhi\", \"Goa\", \"Gujarat\", \"Haryana\", \"Himachal Pradesh\", \"Jammu and Kashmir\", \"Jharkhand\", \"Karnataka\", \"Kerala\", \"Ladakh\", \"Lakshadweep\", \"Madhya Pradesh\", \"Maharashtra\", \"Manipur\", \"Meghalaya\", \"Mizoram\", \"Nagaland\", \"Odisha\", \"Puducherry\", \"Punjab\", \"Rajasthan\", \"Sikkim\", \"Tamil Nadu\", \"Telengana\", \"Tripura\", \"Unassigned\", \"Uttar Pradesh\", \"Uttarakhand\", \"West Bengal\"], \"labels\": [\"Andaman and Nicobar Islands\", \"Andhra Pradesh\", \"Arunachal Pradesh\", \"Assam\", \"Bihar\", \"Cases being reassigned to states\", \"Chandigarh\", \"Chhattisgarh\", \"Dadra and Nagar Haveli and Daman and Diu\", \"Daman & Diu\", \"Delhi\", \"Goa\", \"Gujarat\", \"Haryana\", \"Himachal Pradesh\", \"Jammu and Kashmir\", \"Jharkhand\", \"Karnataka\", \"Kerala\", \"Ladakh\", \"Lakshadweep\", \"Madhya Pradesh\", \"Maharashtra\", \"Manipur\", \"Meghalaya\", \"Mizoram\", \"Nagaland\", \"Odisha\", \"Puducherry\", \"Punjab\", \"Rajasthan\", \"Sikkim\", \"Tamil Nadu\", \"Telengana\", \"Tripura\", \"Unassigned\", \"Uttar Pradesh\", \"Uttarakhand\", \"West Bengal\"], \"name\": \"\", \"parents\": [\"\", \"\", \"\", \"\", \"\", \"\", \"\", \"\", \"\", \"\", \"\", \"\", \"\", \"\", \"\", \"\", \"\", \"\", \"\", \"\", \"\", \"\", \"\", \"\", \"\", \"\", \"\", \"\", \"\", \"\", \"\", \"\", \"\", \"\", \"\", \"\", \"\", \"\", \"\"], \"type\": \"treemap\", \"values\": [1189952, 210789590, 3671031, 52286878, 61519210, 345565, 4690884, 63339141, 898744, 2, 139960345, 12066208, 60760431, 57687972, 10811952, 27775558, 27455287, 216181457, 173919539, 2085695, 56944, 56660576, 516281626, 5843202, 2801586, 904891, 2622854, 74984512, 9009636, 41589604, 67438958, 1255806, 203749579, 68683742, 7769307, 161, 139253955, 19979389, 119629349]}],                        {\"legend\": {\"tracegroupgap\": 0}, \"template\": {\"data\": {\"bar\": [{\"error_x\": {\"color\": \"#2a3f5f\"}, \"error_y\": {\"color\": \"#2a3f5f\"}, \"marker\": {\"line\": {\"color\": \"#E5ECF6\", \"width\": 0.5}}, \"type\": \"bar\"}], \"barpolar\": [{\"marker\": {\"line\": {\"color\": \"#E5ECF6\", \"width\": 0.5}}, \"type\": \"barpolar\"}], \"carpet\": [{\"aaxis\": {\"endlinecolor\": \"#2a3f5f\", \"gridcolor\": \"white\", \"linecolor\": \"white\", \"minorgridcolor\": \"white\", \"startlinecolor\": \"#2a3f5f\"}, \"baxis\": {\"endlinecolor\": \"#2a3f5f\", \"gridcolor\": \"white\", \"linecolor\": \"white\", \"minorgridcolor\": \"white\", \"startlinecolor\": \"#2a3f5f\"}, \"type\": \"carpet\"}], \"choropleth\": [{\"colorbar\": {\"outlinewidth\": 0, \"ticks\": \"\"}, \"type\": \"choropleth\"}], \"contour\": [{\"colorbar\": {\"outlinewidth\": 0, \"ticks\": \"\"}, \"colorscale\": [[0.0, \"#0d0887\"], [0.1111111111111111, \"#46039f\"], [0.2222222222222222, \"#7201a8\"], [0.3333333333333333, \"#9c179e\"], [0.4444444444444444, \"#bd3786\"], [0.5555555555555556, \"#d8576b\"], [0.6666666666666666, \"#ed7953\"], [0.7777777777777778, \"#fb9f3a\"], [0.8888888888888888, \"#fdca26\"], [1.0, \"#f0f921\"]], \"type\": \"contour\"}], \"contourcarpet\": [{\"colorbar\": {\"outlinewidth\": 0, \"ticks\": \"\"}, \"type\": \"contourcarpet\"}], \"heatmap\": [{\"colorbar\": {\"outlinewidth\": 0, \"ticks\": \"\"}, \"colorscale\": [[0.0, \"#0d0887\"], [0.1111111111111111, \"#46039f\"], [0.2222222222222222, \"#7201a8\"], [0.3333333333333333, \"#9c179e\"], [0.4444444444444444, \"#bd3786\"], [0.5555555555555556, \"#d8576b\"], [0.6666666666666666, \"#ed7953\"], [0.7777777777777778, \"#fb9f3a\"], [0.8888888888888888, \"#fdca26\"], [1.0, \"#f0f921\"]], \"type\": \"heatmap\"}], \"heatmapgl\": [{\"colorbar\": {\"outlinewidth\": 0, \"ticks\": \"\"}, \"colorscale\": [[0.0, \"#0d0887\"], [0.1111111111111111, \"#46039f\"], [0.2222222222222222, \"#7201a8\"], [0.3333333333333333, \"#9c179e\"], [0.4444444444444444, \"#bd3786\"], [0.5555555555555556, \"#d8576b\"], [0.6666666666666666, \"#ed7953\"], [0.7777777777777778, \"#fb9f3a\"], [0.8888888888888888, \"#fdca26\"], [1.0, \"#f0f921\"]], \"type\": \"heatmapgl\"}], \"histogram\": [{\"marker\": {\"colorbar\": {\"outlinewidth\": 0, \"ticks\": \"\"}}, \"type\": \"histogram\"}], \"histogram2d\": [{\"colorbar\": {\"outlinewidth\": 0, \"ticks\": \"\"}, \"colorscale\": [[0.0, \"#0d0887\"], [0.1111111111111111, \"#46039f\"], [0.2222222222222222, \"#7201a8\"], [0.3333333333333333, \"#9c179e\"], [0.4444444444444444, \"#bd3786\"], [0.5555555555555556, \"#d8576b\"], [0.6666666666666666, \"#ed7953\"], [0.7777777777777778, \"#fb9f3a\"], [0.8888888888888888, \"#fdca26\"], [1.0, \"#f0f921\"]], \"type\": \"histogram2d\"}], \"histogram2dcontour\": [{\"colorbar\": {\"outlinewidth\": 0, \"ticks\": \"\"}, \"colorscale\": [[0.0, \"#0d0887\"], [0.1111111111111111, \"#46039f\"], [0.2222222222222222, \"#7201a8\"], [0.3333333333333333, \"#9c179e\"], [0.4444444444444444, \"#bd3786\"], [0.5555555555555556, \"#d8576b\"], [0.6666666666666666, \"#ed7953\"], [0.7777777777777778, \"#fb9f3a\"], [0.8888888888888888, \"#fdca26\"], [1.0, \"#f0f921\"]], \"type\": \"histogram2dcontour\"}], \"mesh3d\": [{\"colorbar\": {\"outlinewidth\": 0, \"ticks\": \"\"}, \"type\": \"mesh3d\"}], \"parcoords\": [{\"line\": {\"colorbar\": {\"outlinewidth\": 0, \"ticks\": \"\"}}, \"type\": \"parcoords\"}], \"pie\": [{\"automargin\": true, \"type\": \"pie\"}], \"scatter\": [{\"marker\": {\"colorbar\": {\"outlinewidth\": 0, \"ticks\": \"\"}}, \"type\": \"scatter\"}], \"scatter3d\": [{\"line\": {\"colorbar\": {\"outlinewidth\": 0, \"ticks\": \"\"}}, \"marker\": {\"colorbar\": {\"outlinewidth\": 0, \"ticks\": \"\"}}, \"type\": \"scatter3d\"}], \"scattercarpet\": [{\"marker\": {\"colorbar\": {\"outlinewidth\": 0, \"ticks\": \"\"}}, \"type\": \"scattercarpet\"}], \"scattergeo\": [{\"marker\": {\"colorbar\": {\"outlinewidth\": 0, \"ticks\": \"\"}}, \"type\": \"scattergeo\"}], \"scattergl\": [{\"marker\": {\"colorbar\": {\"outlinewidth\": 0, \"ticks\": \"\"}}, \"type\": \"scattergl\"}], \"scattermapbox\": [{\"marker\": {\"colorbar\": {\"outlinewidth\": 0, \"ticks\": \"\"}}, \"type\": \"scattermapbox\"}], \"scatterpolar\": [{\"marker\": {\"colorbar\": {\"outlinewidth\": 0, \"ticks\": \"\"}}, \"type\": \"scatterpolar\"}], \"scatterpolargl\": [{\"marker\": {\"colorbar\": {\"outlinewidth\": 0, \"ticks\": \"\"}}, \"type\": \"scatterpolargl\"}], \"scatterternary\": [{\"marker\": {\"colorbar\": {\"outlinewidth\": 0, \"ticks\": \"\"}}, \"type\": \"scatterternary\"}], \"surface\": [{\"colorbar\": {\"outlinewidth\": 0, \"ticks\": \"\"}, \"colorscale\": [[0.0, \"#0d0887\"], [0.1111111111111111, \"#46039f\"], [0.2222222222222222, \"#7201a8\"], [0.3333333333333333, \"#9c179e\"], [0.4444444444444444, \"#bd3786\"], [0.5555555555555556, \"#d8576b\"], [0.6666666666666666, \"#ed7953\"], [0.7777777777777778, \"#fb9f3a\"], [0.8888888888888888, \"#fdca26\"], [1.0, \"#f0f921\"]], \"type\": \"surface\"}], \"table\": [{\"cells\": {\"fill\": {\"color\": \"#EBF0F8\"}, \"line\": {\"color\": \"white\"}}, \"header\": {\"fill\": {\"color\": \"#C8D4E3\"}, \"line\": {\"color\": \"white\"}}, \"type\": \"table\"}]}, \"layout\": {\"annotationdefaults\": {\"arrowcolor\": \"#2a3f5f\", \"arrowhead\": 0, \"arrowwidth\": 1}, \"autotypenumbers\": \"strict\", \"coloraxis\": {\"colorbar\": {\"outlinewidth\": 0, \"ticks\": \"\"}}, \"colorscale\": {\"diverging\": [[0, \"#8e0152\"], [0.1, \"#c51b7d\"], [0.2, \"#de77ae\"], [0.3, \"#f1b6da\"], [0.4, \"#fde0ef\"], [0.5, \"#f7f7f7\"], [0.6, \"#e6f5d0\"], [0.7, \"#b8e186\"], [0.8, \"#7fbc41\"], [0.9, \"#4d9221\"], [1, \"#276419\"]], \"sequential\": [[0.0, \"#0d0887\"], [0.1111111111111111, \"#46039f\"], [0.2222222222222222, \"#7201a8\"], [0.3333333333333333, \"#9c179e\"], [0.4444444444444444, \"#bd3786\"], [0.5555555555555556, \"#d8576b\"], [0.6666666666666666, \"#ed7953\"], [0.7777777777777778, \"#fb9f3a\"], [0.8888888888888888, \"#fdca26\"], [1.0, \"#f0f921\"]], \"sequentialminus\": [[0.0, \"#0d0887\"], [0.1111111111111111, \"#46039f\"], [0.2222222222222222, \"#7201a8\"], [0.3333333333333333, \"#9c179e\"], [0.4444444444444444, \"#bd3786\"], [0.5555555555555556, \"#d8576b\"], [0.6666666666666666, \"#ed7953\"], [0.7777777777777778, \"#fb9f3a\"], [0.8888888888888888, \"#fdca26\"], [1.0, \"#f0f921\"]]}, \"colorway\": [\"#636efa\", \"#EF553B\", \"#00cc96\", \"#ab63fa\", \"#FFA15A\", \"#19d3f3\", \"#FF6692\", \"#B6E880\", \"#FF97FF\", \"#FECB52\"], \"font\": {\"color\": \"#2a3f5f\"}, \"geo\": {\"bgcolor\": \"white\", \"lakecolor\": \"white\", \"landcolor\": \"#E5ECF6\", \"showlakes\": true, \"showland\": true, \"subunitcolor\": \"white\"}, \"hoverlabel\": {\"align\": \"left\"}, \"hovermode\": \"closest\", \"mapbox\": {\"style\": \"light\"}, \"paper_bgcolor\": \"white\", \"plot_bgcolor\": \"#E5ECF6\", \"polar\": {\"angularaxis\": {\"gridcolor\": \"white\", \"linecolor\": \"white\", \"ticks\": \"\"}, \"bgcolor\": \"#E5ECF6\", \"radialaxis\": {\"gridcolor\": \"white\", \"linecolor\": \"white\", \"ticks\": \"\"}}, \"scene\": {\"xaxis\": {\"backgroundcolor\": \"#E5ECF6\", \"gridcolor\": \"white\", \"gridwidth\": 2, \"linecolor\": \"white\", \"showbackground\": true, \"ticks\": \"\", \"zerolinecolor\": \"white\"}, \"yaxis\": {\"backgroundcolor\": \"#E5ECF6\", \"gridcolor\": \"white\", \"gridwidth\": 2, \"linecolor\": \"white\", \"showbackground\": true, \"ticks\": \"\", \"zerolinecolor\": \"white\"}, \"zaxis\": {\"backgroundcolor\": \"#E5ECF6\", \"gridcolor\": \"white\", \"gridwidth\": 2, \"linecolor\": \"white\", \"showbackground\": true, \"ticks\": \"\", \"zerolinecolor\": \"white\"}}, \"shapedefaults\": {\"line\": {\"color\": \"#2a3f5f\"}}, \"ternary\": {\"aaxis\": {\"gridcolor\": \"white\", \"linecolor\": \"white\", \"ticks\": \"\"}, \"baxis\": {\"gridcolor\": \"white\", \"linecolor\": \"white\", \"ticks\": \"\"}, \"bgcolor\": \"#E5ECF6\", \"caxis\": {\"gridcolor\": \"white\", \"linecolor\": \"white\", \"ticks\": \"\"}}, \"title\": {\"x\": 0.05}, \"xaxis\": {\"automargin\": true, \"gridcolor\": \"white\", \"linecolor\": \"white\", \"ticks\": \"\", \"title\": {\"standoff\": 15}, \"zerolinecolor\": \"white\", \"zerolinewidth\": 2}, \"yaxis\": {\"automargin\": true, \"gridcolor\": \"white\", \"linecolor\": \"white\", \"ticks\": \"\", \"title\": {\"standoff\": 15}, \"zerolinecolor\": \"white\", \"zerolinewidth\": 2}}}, \"title\": {\"text\": \"Overall confirmed cases\"}},                        {\"responsive\": true}                    ).then(function(){\n",
       "                            \n",
       "var gd = document.getElementById('f5d2949b-0907-478f-8f17-451d28891825');\n",
       "var x = new MutationObserver(function (mutations, observer) {{\n",
       "        var display = window.getComputedStyle(gd).display;\n",
       "        if (!display || display === 'none') {{\n",
       "            console.log([gd, 'removed!']);\n",
       "            Plotly.purge(gd);\n",
       "            observer.disconnect();\n",
       "        }}\n",
       "}});\n",
       "\n",
       "// Listen for the removal of the full notebook cells\n",
       "var notebookContainer = gd.closest('#notebook-container');\n",
       "if (notebookContainer) {{\n",
       "    x.observe(notebookContainer, {childList: true});\n",
       "}}\n",
       "\n",
       "// Listen for the clearing of the current output cell\n",
       "var outputEl = gd.closest('.output');\n",
       "if (outputEl) {{\n",
       "    x.observe(outputEl, {childList: true});\n",
       "}}\n",
       "\n",
       "                        })                };                });            </script>        </div>"
      ]
     },
     "metadata": {},
     "output_type": "display_data"
    }
   ],
   "source": [
    "px.treemap(confirmed,path = [\"State/UnionTerritory\"],values = \"Confirmed\",title = \"Overall confirmed cases\")"
   ]
  },
  {
   "cell_type": "code",
   "execution_count": 70,
   "metadata": {},
   "outputs": [
    {
     "data": {
      "text/plain": [
       "9"
      ]
     },
     "execution_count": 70,
     "metadata": {},
     "output_type": "execute_result"
    }
   ],
   "source": [
    "df.shape[1]"
   ]
  },
  {
   "cell_type": "markdown",
   "metadata": {},
   "source": [
    "### State wise analysis\n",
    "\n",
    "We will try to format the DATE column. Then, we will add another new column called \"Death_Percentage\" to track % of death cases by State/UT. Once we get the data into a dataframe, then we will put it togther into a chart."
   ]
  },
  {
   "cell_type": "code",
   "execution_count": 73,
   "metadata": {},
   "outputs": [
    {
     "data": {
      "text/html": [
       "<div>\n",
       "<style scoped>\n",
       "    .dataframe tbody tr th:only-of-type {\n",
       "        vertical-align: middle;\n",
       "    }\n",
       "\n",
       "    .dataframe tbody tr th {\n",
       "        vertical-align: top;\n",
       "    }\n",
       "\n",
       "    .dataframe thead th {\n",
       "        text-align: right;\n",
       "    }\n",
       "</style>\n",
       "<table border=\"1\" class=\"dataframe\">\n",
       "  <thead>\n",
       "    <tr style=\"text-align: right;\">\n",
       "      <th></th>\n",
       "      <th>Sno</th>\n",
       "      <th>Date</th>\n",
       "      <th>Time</th>\n",
       "      <th>State/UnionTerritory</th>\n",
       "      <th>ConfirmedIndianNational</th>\n",
       "      <th>ConfirmedForeignNational</th>\n",
       "      <th>Cured</th>\n",
       "      <th>Deaths</th>\n",
       "      <th>Confirmed</th>\n",
       "    </tr>\n",
       "  </thead>\n",
       "  <tbody>\n",
       "    <tr>\n",
       "      <th>0</th>\n",
       "      <td>1</td>\n",
       "      <td>2020-01-30</td>\n",
       "      <td>6:00 PM</td>\n",
       "      <td>Kerala</td>\n",
       "      <td>1</td>\n",
       "      <td>0</td>\n",
       "      <td>0</td>\n",
       "      <td>0</td>\n",
       "      <td>1</td>\n",
       "    </tr>\n",
       "    <tr>\n",
       "      <th>1</th>\n",
       "      <td>2</td>\n",
       "      <td>2020-01-31</td>\n",
       "      <td>6:00 PM</td>\n",
       "      <td>Kerala</td>\n",
       "      <td>1</td>\n",
       "      <td>0</td>\n",
       "      <td>0</td>\n",
       "      <td>0</td>\n",
       "      <td>1</td>\n",
       "    </tr>\n",
       "    <tr>\n",
       "      <th>2</th>\n",
       "      <td>3</td>\n",
       "      <td>2020-02-01</td>\n",
       "      <td>6:00 PM</td>\n",
       "      <td>Kerala</td>\n",
       "      <td>2</td>\n",
       "      <td>0</td>\n",
       "      <td>0</td>\n",
       "      <td>0</td>\n",
       "      <td>2</td>\n",
       "    </tr>\n",
       "    <tr>\n",
       "      <th>3</th>\n",
       "      <td>4</td>\n",
       "      <td>2020-02-02</td>\n",
       "      <td>6:00 PM</td>\n",
       "      <td>Kerala</td>\n",
       "      <td>3</td>\n",
       "      <td>0</td>\n",
       "      <td>0</td>\n",
       "      <td>0</td>\n",
       "      <td>3</td>\n",
       "    </tr>\n",
       "    <tr>\n",
       "      <th>4</th>\n",
       "      <td>5</td>\n",
       "      <td>2020-02-03</td>\n",
       "      <td>6:00 PM</td>\n",
       "      <td>Kerala</td>\n",
       "      <td>3</td>\n",
       "      <td>0</td>\n",
       "      <td>0</td>\n",
       "      <td>0</td>\n",
       "      <td>3</td>\n",
       "    </tr>\n",
       "  </tbody>\n",
       "</table>\n",
       "</div>"
      ],
      "text/plain": [
       "   Sno       Date     Time State/UnionTerritory ConfirmedIndianNational  \\\n",
       "0    1 2020-01-30  6:00 PM               Kerala                       1   \n",
       "1    2 2020-01-31  6:00 PM               Kerala                       1   \n",
       "2    3 2020-02-01  6:00 PM               Kerala                       2   \n",
       "3    4 2020-02-02  6:00 PM               Kerala                       3   \n",
       "4    5 2020-02-03  6:00 PM               Kerala                       3   \n",
       "\n",
       "  ConfirmedForeignNational  Cured  Deaths  Confirmed  \n",
       "0                        0      0       0          1  \n",
       "1                        0      0       0          1  \n",
       "2                        0      0       0          2  \n",
       "3                        0      0       0          3  \n",
       "4                        0      0       0          3  "
      ]
     },
     "execution_count": 73,
     "metadata": {},
     "output_type": "execute_result"
    }
   ],
   "source": [
    "df['Date'] = df['Date'].astype('datetime64[ns]')\n",
    "df['Date'] =  pd.to_datetime(df['Date'] ,format ='%d-%m-%Y')\n",
    "df.head()"
   ]
  },
  {
   "cell_type": "code",
   "execution_count": 75,
   "metadata": {},
   "outputs": [
    {
     "data": {
      "text/html": [
       "<style  type=\"text/css\" >\n",
       "    #T_ef51a392_a8bb_11eb_84df_a45e60f3cb6drow0_col1 {\n",
       "            background-color:  #0d0887;\n",
       "            color:  #f1f1f1;\n",
       "        }    #T_ef51a392_a8bb_11eb_84df_a45e60f3cb6drow0_col2 {\n",
       "            background-color:  #0d0887;\n",
       "            color:  #f1f1f1;\n",
       "        }    #T_ef51a392_a8bb_11eb_84df_a45e60f3cb6drow0_col3 {\n",
       "            background-color:  #0d0887;\n",
       "            color:  #f1f1f1;\n",
       "        }    #T_ef51a392_a8bb_11eb_84df_a45e60f3cb6drow0_col4 {\n",
       "            background-color:  #b6308b;\n",
       "            color:  #f1f1f1;\n",
       "        }    #T_ef51a392_a8bb_11eb_84df_a45e60f3cb6drow1_col1 {\n",
       "            background-color:  #b32c8e;\n",
       "            color:  #f1f1f1;\n",
       "        }    #T_ef51a392_a8bb_11eb_84df_a45e60f3cb6drow1_col2 {\n",
       "            background-color:  #bd3786;\n",
       "            color:  #f1f1f1;\n",
       "        }    #T_ef51a392_a8bb_11eb_84df_a45e60f3cb6drow1_col3 {\n",
       "            background-color:  #5102a3;\n",
       "            color:  #f1f1f1;\n",
       "        }    #T_ef51a392_a8bb_11eb_84df_a45e60f3cb6drow1_col4 {\n",
       "            background-color:  #8606a6;\n",
       "            color:  #f1f1f1;\n",
       "        }    #T_ef51a392_a8bb_11eb_84df_a45e60f3cb6drow2_col1 {\n",
       "            background-color:  #100788;\n",
       "            color:  #f1f1f1;\n",
       "        }    #T_ef51a392_a8bb_11eb_84df_a45e60f3cb6drow2_col2 {\n",
       "            background-color:  #100788;\n",
       "            color:  #f1f1f1;\n",
       "        }    #T_ef51a392_a8bb_11eb_84df_a45e60f3cb6drow2_col3 {\n",
       "            background-color:  #0d0887;\n",
       "            color:  #f1f1f1;\n",
       "        }    #T_ef51a392_a8bb_11eb_84df_a45e60f3cb6drow2_col4 {\n",
       "            background-color:  #41049d;\n",
       "            color:  #f1f1f1;\n",
       "        }    #T_ef51a392_a8bb_11eb_84df_a45e60f3cb6drow3_col1 {\n",
       "            background-color:  #41049d;\n",
       "            color:  #f1f1f1;\n",
       "        }    #T_ef51a392_a8bb_11eb_84df_a45e60f3cb6drow3_col2 {\n",
       "            background-color:  #44039e;\n",
       "            color:  #f1f1f1;\n",
       "        }    #T_ef51a392_a8bb_11eb_84df_a45e60f3cb6drow3_col3 {\n",
       "            background-color:  #19068c;\n",
       "            color:  #f1f1f1;\n",
       "        }    #T_ef51a392_a8bb_11eb_84df_a45e60f3cb6drow3_col4 {\n",
       "            background-color:  #5601a4;\n",
       "            color:  #f1f1f1;\n",
       "        }    #T_ef51a392_a8bb_11eb_84df_a45e60f3cb6drow4_col1 {\n",
       "            background-color:  #4903a0;\n",
       "            color:  #f1f1f1;\n",
       "        }    #T_ef51a392_a8bb_11eb_84df_a45e60f3cb6drow4_col2 {\n",
       "            background-color:  #4c02a1;\n",
       "            color:  #f1f1f1;\n",
       "        }    #T_ef51a392_a8bb_11eb_84df_a45e60f3cb6drow4_col3 {\n",
       "            background-color:  #1d068e;\n",
       "            color:  #f1f1f1;\n",
       "        }    #T_ef51a392_a8bb_11eb_84df_a45e60f3cb6drow4_col4 {\n",
       "            background-color:  #6300a7;\n",
       "            color:  #f1f1f1;\n",
       "        }    #T_ef51a392_a8bb_11eb_84df_a45e60f3cb6drow5_col1 {\n",
       "            background-color:  #0d0887;\n",
       "            color:  #f1f1f1;\n",
       "        }    #T_ef51a392_a8bb_11eb_84df_a45e60f3cb6drow5_col2 {\n",
       "            background-color:  #0d0887;\n",
       "            color:  #f1f1f1;\n",
       "        }    #T_ef51a392_a8bb_11eb_84df_a45e60f3cb6drow5_col3 {\n",
       "            background-color:  #0d0887;\n",
       "            color:  #f1f1f1;\n",
       "        }    #T_ef51a392_a8bb_11eb_84df_a45e60f3cb6drow5_col4 {\n",
       "            background-color:  #0d0887;\n",
       "            color:  #f1f1f1;\n",
       "        }    #T_ef51a392_a8bb_11eb_84df_a45e60f3cb6drow6_col1 {\n",
       "            background-color:  #130789;\n",
       "            color:  #f1f1f1;\n",
       "        }    #T_ef51a392_a8bb_11eb_84df_a45e60f3cb6drow6_col2 {\n",
       "            background-color:  #130789;\n",
       "            color:  #f1f1f1;\n",
       "        }    #T_ef51a392_a8bb_11eb_84df_a45e60f3cb6drow6_col3 {\n",
       "            background-color:  #100788;\n",
       "            color:  #f1f1f1;\n",
       "        }    #T_ef51a392_a8bb_11eb_84df_a45e60f3cb6drow6_col4 {\n",
       "            background-color:  #c9447a;\n",
       "            color:  #f1f1f1;\n",
       "        }    #T_ef51a392_a8bb_11eb_84df_a45e60f3cb6drow7_col1 {\n",
       "            background-color:  #4b03a1;\n",
       "            color:  #f1f1f1;\n",
       "        }    #T_ef51a392_a8bb_11eb_84df_a45e60f3cb6drow7_col2 {\n",
       "            background-color:  #4c02a1;\n",
       "            color:  #f1f1f1;\n",
       "        }    #T_ef51a392_a8bb_11eb_84df_a45e60f3cb6drow7_col3 {\n",
       "            background-color:  #2e0595;\n",
       "            color:  #f1f1f1;\n",
       "        }    #T_ef51a392_a8bb_11eb_84df_a45e60f3cb6drow7_col4 {\n",
       "            background-color:  #ab2494;\n",
       "            color:  #f1f1f1;\n",
       "        }    #T_ef51a392_a8bb_11eb_84df_a45e60f3cb6drow8_col1 {\n",
       "            background-color:  #0d0887;\n",
       "            color:  #f1f1f1;\n",
       "        }    #T_ef51a392_a8bb_11eb_84df_a45e60f3cb6drow8_col2 {\n",
       "            background-color:  #0d0887;\n",
       "            color:  #f1f1f1;\n",
       "        }    #T_ef51a392_a8bb_11eb_84df_a45e60f3cb6drow8_col3 {\n",
       "            background-color:  #0d0887;\n",
       "            color:  #f1f1f1;\n",
       "        }    #T_ef51a392_a8bb_11eb_84df_a45e60f3cb6drow8_col4 {\n",
       "            background-color:  #1b068d;\n",
       "            color:  #f1f1f1;\n",
       "        }    #T_ef51a392_a8bb_11eb_84df_a45e60f3cb6drow9_col1 {\n",
       "            background-color:  #0d0887;\n",
       "            color:  #f1f1f1;\n",
       "        }    #T_ef51a392_a8bb_11eb_84df_a45e60f3cb6drow9_col2 {\n",
       "            background-color:  #0d0887;\n",
       "            color:  #f1f1f1;\n",
       "        }    #T_ef51a392_a8bb_11eb_84df_a45e60f3cb6drow9_col3 {\n",
       "            background-color:  #0d0887;\n",
       "            color:  #f1f1f1;\n",
       "        }    #T_ef51a392_a8bb_11eb_84df_a45e60f3cb6drow9_col4 {\n",
       "            background-color:  #0d0887;\n",
       "            color:  #f1f1f1;\n",
       "        }    #T_ef51a392_a8bb_11eb_84df_a45e60f3cb6drow10_col1 {\n",
       "            background-color:  #8606a6;\n",
       "            color:  #f1f1f1;\n",
       "        }    #T_ef51a392_a8bb_11eb_84df_a45e60f3cb6drow10_col2 {\n",
       "            background-color:  #8d0ba5;\n",
       "            color:  #f1f1f1;\n",
       "        }    #T_ef51a392_a8bb_11eb_84df_a45e60f3cb6drow10_col3 {\n",
       "            background-color:  #6900a8;\n",
       "            color:  #f1f1f1;\n",
       "        }    #T_ef51a392_a8bb_11eb_84df_a45e60f3cb6drow10_col4 {\n",
       "            background-color:  #de5f65;\n",
       "            color:  #000000;\n",
       "        }    #T_ef51a392_a8bb_11eb_84df_a45e60f3cb6drow11_col1 {\n",
       "            background-color:  #1b068d;\n",
       "            color:  #f1f1f1;\n",
       "        }    #T_ef51a392_a8bb_11eb_84df_a45e60f3cb6drow11_col2 {\n",
       "            background-color:  #1d068e;\n",
       "            color:  #f1f1f1;\n",
       "        }    #T_ef51a392_a8bb_11eb_84df_a45e60f3cb6drow11_col3 {\n",
       "            background-color:  #16078a;\n",
       "            color:  #f1f1f1;\n",
       "        }    #T_ef51a392_a8bb_11eb_84df_a45e60f3cb6drow11_col4 {\n",
       "            background-color:  #c03a83;\n",
       "            color:  #f1f1f1;\n",
       "        }    #T_ef51a392_a8bb_11eb_84df_a45e60f3cb6drow12_col1 {\n",
       "            background-color:  #4903a0;\n",
       "            color:  #f1f1f1;\n",
       "        }    #T_ef51a392_a8bb_11eb_84df_a45e60f3cb6drow12_col2 {\n",
       "            background-color:  #4b03a1;\n",
       "            color:  #f1f1f1;\n",
       "        }    #T_ef51a392_a8bb_11eb_84df_a45e60f3cb6drow12_col3 {\n",
       "            background-color:  #3f049c;\n",
       "            color:  #f1f1f1;\n",
       "        }    #T_ef51a392_a8bb_11eb_84df_a45e60f3cb6drow12_col4 {\n",
       "            background-color:  #eb7655;\n",
       "            color:  #000000;\n",
       "        }    #T_ef51a392_a8bb_11eb_84df_a45e60f3cb6drow13_col1 {\n",
       "            background-color:  #46039f;\n",
       "            color:  #f1f1f1;\n",
       "        }    #T_ef51a392_a8bb_11eb_84df_a45e60f3cb6drow13_col2 {\n",
       "            background-color:  #4903a0;\n",
       "            color:  #f1f1f1;\n",
       "        }    #T_ef51a392_a8bb_11eb_84df_a45e60f3cb6drow13_col3 {\n",
       "            background-color:  #2a0593;\n",
       "            color:  #f1f1f1;\n",
       "        }    #T_ef51a392_a8bb_11eb_84df_a45e60f3cb6drow13_col4 {\n",
       "            background-color:  #a31e9a;\n",
       "            color:  #f1f1f1;\n",
       "        }    #T_ef51a392_a8bb_11eb_84df_a45e60f3cb6drow14_col1 {\n",
       "            background-color:  #1b068d;\n",
       "            color:  #f1f1f1;\n",
       "        }    #T_ef51a392_a8bb_11eb_84df_a45e60f3cb6drow14_col2 {\n",
       "            background-color:  #1b068d;\n",
       "            color:  #f1f1f1;\n",
       "        }    #T_ef51a392_a8bb_11eb_84df_a45e60f3cb6drow14_col3 {\n",
       "            background-color:  #16078a;\n",
       "            color:  #f1f1f1;\n",
       "        }    #T_ef51a392_a8bb_11eb_84df_a45e60f3cb6drow14_col4 {\n",
       "            background-color:  #d24f71;\n",
       "            color:  #000000;\n",
       "        }    #T_ef51a392_a8bb_11eb_84df_a45e60f3cb6drow15_col1 {\n",
       "            background-color:  #2c0594;\n",
       "            color:  #f1f1f1;\n",
       "        }    #T_ef51a392_a8bb_11eb_84df_a45e60f3cb6drow15_col2 {\n",
       "            background-color:  #2e0595;\n",
       "            color:  #f1f1f1;\n",
       "        }    #T_ef51a392_a8bb_11eb_84df_a45e60f3cb6drow15_col3 {\n",
       "            background-color:  #220690;\n",
       "            color:  #f1f1f1;\n",
       "        }    #T_ef51a392_a8bb_11eb_84df_a45e60f3cb6drow15_col4 {\n",
       "            background-color:  #ce4b75;\n",
       "            color:  #000000;\n",
       "        }    #T_ef51a392_a8bb_11eb_84df_a45e60f3cb6drow16_col1 {\n",
       "            background-color:  #2c0594;\n",
       "            color:  #f1f1f1;\n",
       "        }    #T_ef51a392_a8bb_11eb_84df_a45e60f3cb6drow16_col2 {\n",
       "            background-color:  #2e0595;\n",
       "            color:  #f1f1f1;\n",
       "        }    #T_ef51a392_a8bb_11eb_84df_a45e60f3cb6drow16_col3 {\n",
       "            background-color:  #1b068d;\n",
       "            color:  #f1f1f1;\n",
       "        }    #T_ef51a392_a8bb_11eb_84df_a45e60f3cb6drow16_col4 {\n",
       "            background-color:  #8e0ca4;\n",
       "            color:  #f1f1f1;\n",
       "        }    #T_ef51a392_a8bb_11eb_84df_a45e60f3cb6drow17_col1 {\n",
       "            background-color:  #b6308b;\n",
       "            color:  #f1f1f1;\n",
       "        }    #T_ef51a392_a8bb_11eb_84df_a45e60f3cb6drow17_col2 {\n",
       "            background-color:  #bc3587;\n",
       "            color:  #f1f1f1;\n",
       "        }    #T_ef51a392_a8bb_11eb_84df_a45e60f3cb6drow17_col3 {\n",
       "            background-color:  #7701a8;\n",
       "            color:  #f1f1f1;\n",
       "        }    #T_ef51a392_a8bb_11eb_84df_a45e60f3cb6drow17_col4 {\n",
       "            background-color:  #bc3587;\n",
       "            color:  #f1f1f1;\n",
       "        }    #T_ef51a392_a8bb_11eb_84df_a45e60f3cb6drow18_col1 {\n",
       "            background-color:  #9d189d;\n",
       "            color:  #f1f1f1;\n",
       "        }    #T_ef51a392_a8bb_11eb_84df_a45e60f3cb6drow18_col2 {\n",
       "            background-color:  #a11b9b;\n",
       "            color:  #f1f1f1;\n",
       "        }    #T_ef51a392_a8bb_11eb_84df_a45e60f3cb6drow18_col3 {\n",
       "            background-color:  #2c0594;\n",
       "            color:  #f1f1f1;\n",
       "        }    #T_ef51a392_a8bb_11eb_84df_a45e60f3cb6drow18_col4 {\n",
       "            background-color:  #4e02a2;\n",
       "            color:  #f1f1f1;\n",
       "        }    #T_ef51a392_a8bb_11eb_84df_a45e60f3cb6drow19_col1 {\n",
       "            background-color:  #100788;\n",
       "            color:  #f1f1f1;\n",
       "        }    #T_ef51a392_a8bb_11eb_84df_a45e60f3cb6drow19_col2 {\n",
       "            background-color:  #100788;\n",
       "            color:  #f1f1f1;\n",
       "        }    #T_ef51a392_a8bb_11eb_84df_a45e60f3cb6drow19_col3 {\n",
       "            background-color:  #0d0887;\n",
       "            color:  #f1f1f1;\n",
       "        }    #T_ef51a392_a8bb_11eb_84df_a45e60f3cb6drow19_col4 {\n",
       "            background-color:  #b32c8e;\n",
       "            color:  #f1f1f1;\n",
       "        }    #T_ef51a392_a8bb_11eb_84df_a45e60f3cb6drow20_col1 {\n",
       "            background-color:  #0d0887;\n",
       "            color:  #f1f1f1;\n",
       "        }    #T_ef51a392_a8bb_11eb_84df_a45e60f3cb6drow20_col2 {\n",
       "            background-color:  #0d0887;\n",
       "            color:  #f1f1f1;\n",
       "        }    #T_ef51a392_a8bb_11eb_84df_a45e60f3cb6drow20_col3 {\n",
       "            background-color:  #0d0887;\n",
       "            color:  #f1f1f1;\n",
       "        }    #T_ef51a392_a8bb_11eb_84df_a45e60f3cb6drow20_col4 {\n",
       "            background-color:  #240691;\n",
       "            color:  #f1f1f1;\n",
       "        }    #T_ef51a392_a8bb_11eb_84df_a45e60f3cb6drow21_col1 {\n",
       "            background-color:  #46039f;\n",
       "            color:  #f1f1f1;\n",
       "        }    #T_ef51a392_a8bb_11eb_84df_a45e60f3cb6drow21_col2 {\n",
       "            background-color:  #48039f;\n",
       "            color:  #f1f1f1;\n",
       "        }    #T_ef51a392_a8bb_11eb_84df_a45e60f3cb6drow21_col3 {\n",
       "            background-color:  #350498;\n",
       "            color:  #f1f1f1;\n",
       "        }    #T_ef51a392_a8bb_11eb_84df_a45e60f3cb6drow21_col4 {\n",
       "            background-color:  #ce4b75;\n",
       "            color:  #000000;\n",
       "        }    #T_ef51a392_a8bb_11eb_84df_a45e60f3cb6drow22_col1 {\n",
       "            background-color:  #f0f921;\n",
       "            color:  #000000;\n",
       "        }    #T_ef51a392_a8bb_11eb_84df_a45e60f3cb6drow22_col2 {\n",
       "            background-color:  #f0f921;\n",
       "            color:  #000000;\n",
       "        }    #T_ef51a392_a8bb_11eb_84df_a45e60f3cb6drow22_col3 {\n",
       "            background-color:  #f0f921;\n",
       "            color:  #000000;\n",
       "        }    #T_ef51a392_a8bb_11eb_84df_a45e60f3cb6drow22_col4 {\n",
       "            background-color:  #fca636;\n",
       "            color:  #000000;\n",
       "        }    #T_ef51a392_a8bb_11eb_84df_a45e60f3cb6drow23_col1 {\n",
       "            background-color:  #130789;\n",
       "            color:  #f1f1f1;\n",
       "        }    #T_ef51a392_a8bb_11eb_84df_a45e60f3cb6drow23_col2 {\n",
       "            background-color:  #16078a;\n",
       "            color:  #f1f1f1;\n",
       "        }    #T_ef51a392_a8bb_11eb_84df_a45e60f3cb6drow23_col3 {\n",
       "            background-color:  #100788;\n",
       "            color:  #f1f1f1;\n",
       "        }    #T_ef51a392_a8bb_11eb_84df_a45e60f3cb6drow23_col4 {\n",
       "            background-color:  #a82296;\n",
       "            color:  #f1f1f1;\n",
       "        }    #T_ef51a392_a8bb_11eb_84df_a45e60f3cb6drow24_col1 {\n",
       "            background-color:  #100788;\n",
       "            color:  #f1f1f1;\n",
       "        }    #T_ef51a392_a8bb_11eb_84df_a45e60f3cb6drow24_col2 {\n",
       "            background-color:  #100788;\n",
       "            color:  #f1f1f1;\n",
       "        }    #T_ef51a392_a8bb_11eb_84df_a45e60f3cb6drow24_col3 {\n",
       "            background-color:  #0d0887;\n",
       "            color:  #f1f1f1;\n",
       "        }    #T_ef51a392_a8bb_11eb_84df_a45e60f3cb6drow24_col4 {\n",
       "            background-color:  #99159f;\n",
       "            color:  #f1f1f1;\n",
       "        }    #T_ef51a392_a8bb_11eb_84df_a45e60f3cb6drow25_col1 {\n",
       "            background-color:  #0d0887;\n",
       "            color:  #f1f1f1;\n",
       "        }    #T_ef51a392_a8bb_11eb_84df_a45e60f3cb6drow25_col2 {\n",
       "            background-color:  #0d0887;\n",
       "            color:  #f1f1f1;\n",
       "        }    #T_ef51a392_a8bb_11eb_84df_a45e60f3cb6drow25_col3 {\n",
       "            background-color:  #0d0887;\n",
       "            color:  #f1f1f1;\n",
       "        }    #T_ef51a392_a8bb_11eb_84df_a45e60f3cb6drow25_col4 {\n",
       "            background-color:  #2e0595;\n",
       "            color:  #f1f1f1;\n",
       "        }    #T_ef51a392_a8bb_11eb_84df_a45e60f3cb6drow26_col1 {\n",
       "            background-color:  #100788;\n",
       "            color:  #f1f1f1;\n",
       "        }    #T_ef51a392_a8bb_11eb_84df_a45e60f3cb6drow26_col2 {\n",
       "            background-color:  #100788;\n",
       "            color:  #f1f1f1;\n",
       "        }    #T_ef51a392_a8bb_11eb_84df_a45e60f3cb6drow26_col3 {\n",
       "            background-color:  #0d0887;\n",
       "            color:  #f1f1f1;\n",
       "        }    #T_ef51a392_a8bb_11eb_84df_a45e60f3cb6drow26_col4 {\n",
       "            background-color:  #6900a8;\n",
       "            color:  #f1f1f1;\n",
       "        }    #T_ef51a392_a8bb_11eb_84df_a45e60f3cb6drow27_col1 {\n",
       "            background-color:  #5502a4;\n",
       "            color:  #f1f1f1;\n",
       "        }    #T_ef51a392_a8bb_11eb_84df_a45e60f3cb6drow27_col2 {\n",
       "            background-color:  #5901a5;\n",
       "            color:  #f1f1f1;\n",
       "        }    #T_ef51a392_a8bb_11eb_84df_a45e60f3cb6drow27_col3 {\n",
       "            background-color:  #220690;\n",
       "            color:  #f1f1f1;\n",
       "        }    #T_ef51a392_a8bb_11eb_84df_a45e60f3cb6drow27_col4 {\n",
       "            background-color:  #6001a6;\n",
       "            color:  #f1f1f1;\n",
       "        }    #T_ef51a392_a8bb_11eb_84df_a45e60f3cb6drow28_col1 {\n",
       "            background-color:  #19068c;\n",
       "            color:  #f1f1f1;\n",
       "        }    #T_ef51a392_a8bb_11eb_84df_a45e60f3cb6drow28_col2 {\n",
       "            background-color:  #19068c;\n",
       "            color:  #f1f1f1;\n",
       "        }    #T_ef51a392_a8bb_11eb_84df_a45e60f3cb6drow28_col3 {\n",
       "            background-color:  #16078a;\n",
       "            color:  #f1f1f1;\n",
       "        }    #T_ef51a392_a8bb_11eb_84df_a45e60f3cb6drow28_col4 {\n",
       "            background-color:  #d7566c;\n",
       "            color:  #000000;\n",
       "        }    #T_ef51a392_a8bb_11eb_84df_a45e60f3cb6drow29_col1 {\n",
       "            background-color:  #38049a;\n",
       "            color:  #f1f1f1;\n",
       "        }    #T_ef51a392_a8bb_11eb_84df_a45e60f3cb6drow29_col2 {\n",
       "            background-color:  #3a049a;\n",
       "            color:  #f1f1f1;\n",
       "        }    #T_ef51a392_a8bb_11eb_84df_a45e60f3cb6drow29_col3 {\n",
       "            background-color:  #41049d;\n",
       "            color:  #f1f1f1;\n",
       "        }    #T_ef51a392_a8bb_11eb_84df_a45e60f3cb6drow29_col4 {\n",
       "            background-color:  #f0f921;\n",
       "            color:  #000000;\n",
       "        }    #T_ef51a392_a8bb_11eb_84df_a45e60f3cb6drow30_col1 {\n",
       "            background-color:  #4e02a2;\n",
       "            color:  #f1f1f1;\n",
       "        }    #T_ef51a392_a8bb_11eb_84df_a45e60f3cb6drow30_col2 {\n",
       "            background-color:  #5102a3;\n",
       "            color:  #f1f1f1;\n",
       "        }    #T_ef51a392_a8bb_11eb_84df_a45e60f3cb6drow30_col3 {\n",
       "            background-color:  #2a0593;\n",
       "            color:  #f1f1f1;\n",
       "        }    #T_ef51a392_a8bb_11eb_84df_a45e60f3cb6drow30_col4 {\n",
       "            background-color:  #920fa3;\n",
       "            color:  #f1f1f1;\n",
       "        }    #T_ef51a392_a8bb_11eb_84df_a45e60f3cb6drow31_col1 {\n",
       "            background-color:  #0d0887;\n",
       "            color:  #f1f1f1;\n",
       "        }    #T_ef51a392_a8bb_11eb_84df_a45e60f3cb6drow31_col2 {\n",
       "            background-color:  #0d0887;\n",
       "            color:  #f1f1f1;\n",
       "        }    #T_ef51a392_a8bb_11eb_84df_a45e60f3cb6drow31_col3 {\n",
       "            background-color:  #0d0887;\n",
       "            color:  #f1f1f1;\n",
       "        }    #T_ef51a392_a8bb_11eb_84df_a45e60f3cb6drow31_col4 {\n",
       "            background-color:  #e97257;\n",
       "            color:  #000000;\n",
       "        }    #T_ef51a392_a8bb_11eb_84df_a45e60f3cb6drow32_col1 {\n",
       "            background-color:  #b02991;\n",
       "            color:  #f1f1f1;\n",
       "        }    #T_ef51a392_a8bb_11eb_84df_a45e60f3cb6drow32_col2 {\n",
       "            background-color:  #b7318a;\n",
       "            color:  #f1f1f1;\n",
       "        }    #T_ef51a392_a8bb_11eb_84df_a45e60f3cb6drow32_col3 {\n",
       "            background-color:  #7b02a8;\n",
       "            color:  #f1f1f1;\n",
       "        }    #T_ef51a392_a8bb_11eb_84df_a45e60f3cb6drow32_col4 {\n",
       "            background-color:  #ca457a;\n",
       "            color:  #f1f1f1;\n",
       "        }    #T_ef51a392_a8bb_11eb_84df_a45e60f3cb6drow33_col1 {\n",
       "            background-color:  #5002a2;\n",
       "            color:  #f1f1f1;\n",
       "        }    #T_ef51a392_a8bb_11eb_84df_a45e60f3cb6drow33_col2 {\n",
       "            background-color:  #5302a3;\n",
       "            color:  #f1f1f1;\n",
       "        }    #T_ef51a392_a8bb_11eb_84df_a45e60f3cb6drow33_col3 {\n",
       "            background-color:  #220690;\n",
       "            color:  #f1f1f1;\n",
       "        }    #T_ef51a392_a8bb_11eb_84df_a45e60f3cb6drow33_col4 {\n",
       "            background-color:  #6600a7;\n",
       "            color:  #f1f1f1;\n",
       "        }    #T_ef51a392_a8bb_11eb_84df_a45e60f3cb6drow34_col1 {\n",
       "            background-color:  #16078a;\n",
       "            color:  #f1f1f1;\n",
       "        }    #T_ef51a392_a8bb_11eb_84df_a45e60f3cb6drow34_col2 {\n",
       "            background-color:  #19068c;\n",
       "            color:  #f1f1f1;\n",
       "        }    #T_ef51a392_a8bb_11eb_84df_a45e60f3cb6drow34_col3 {\n",
       "            background-color:  #100788;\n",
       "            color:  #f1f1f1;\n",
       "        }    #T_ef51a392_a8bb_11eb_84df_a45e60f3cb6drow34_col4 {\n",
       "            background-color:  #a72197;\n",
       "            color:  #f1f1f1;\n",
       "        }    #T_ef51a392_a8bb_11eb_84df_a45e60f3cb6drow35_col1 {\n",
       "            background-color:  #0d0887;\n",
       "            color:  #f1f1f1;\n",
       "        }    #T_ef51a392_a8bb_11eb_84df_a45e60f3cb6drow35_col2 {\n",
       "            background-color:  #0d0887;\n",
       "            color:  #f1f1f1;\n",
       "        }    #T_ef51a392_a8bb_11eb_84df_a45e60f3cb6drow35_col3 {\n",
       "            background-color:  #0d0887;\n",
       "            color:  #f1f1f1;\n",
       "        }    #T_ef51a392_a8bb_11eb_84df_a45e60f3cb6drow35_col4 {\n",
       "            background-color:  #0d0887;\n",
       "            color:  #f1f1f1;\n",
       "        }    #T_ef51a392_a8bb_11eb_84df_a45e60f3cb6drow36_col1 {\n",
       "            background-color:  #8606a6;\n",
       "            color:  #f1f1f1;\n",
       "        }    #T_ef51a392_a8bb_11eb_84df_a45e60f3cb6drow36_col2 {\n",
       "            background-color:  #8a09a5;\n",
       "            color:  #f1f1f1;\n",
       "        }    #T_ef51a392_a8bb_11eb_84df_a45e60f3cb6drow36_col3 {\n",
       "            background-color:  #5901a5;\n",
       "            color:  #f1f1f1;\n",
       "        }    #T_ef51a392_a8bb_11eb_84df_a45e60f3cb6drow36_col4 {\n",
       "            background-color:  #c43e7f;\n",
       "            color:  #f1f1f1;\n",
       "        }    #T_ef51a392_a8bb_11eb_84df_a45e60f3cb6drow37_col1 {\n",
       "            background-color:  #240691;\n",
       "            color:  #f1f1f1;\n",
       "        }    #T_ef51a392_a8bb_11eb_84df_a45e60f3cb6drow37_col2 {\n",
       "            background-color:  #260591;\n",
       "            color:  #f1f1f1;\n",
       "        }    #T_ef51a392_a8bb_11eb_84df_a45e60f3cb6drow37_col3 {\n",
       "            background-color:  #1d068e;\n",
       "            color:  #f1f1f1;\n",
       "        }    #T_ef51a392_a8bb_11eb_84df_a45e60f3cb6drow37_col4 {\n",
       "            background-color:  #d35171;\n",
       "            color:  #000000;\n",
       "        }    #T_ef51a392_a8bb_11eb_84df_a45e60f3cb6drow38_col1 {\n",
       "            background-color:  #7701a8;\n",
       "            color:  #f1f1f1;\n",
       "        }    #T_ef51a392_a8bb_11eb_84df_a45e60f3cb6drow38_col2 {\n",
       "            background-color:  #7d03a8;\n",
       "            color:  #f1f1f1;\n",
       "        }    #T_ef51a392_a8bb_11eb_84df_a45e60f3cb6drow38_col3 {\n",
       "            background-color:  #6001a6;\n",
       "            color:  #f1f1f1;\n",
       "        }    #T_ef51a392_a8bb_11eb_84df_a45e60f3cb6drow38_col4 {\n",
       "            background-color:  #e06363;\n",
       "            color:  #000000;\n",
       "        }</style><table id=\"T_ef51a392_a8bb_11eb_84df_a45e60f3cb6d\" ><thead>    <tr>        <th class=\"blank level0\" ></th>        <th class=\"col_heading level0 col0\" >State/UnionTerritory</th>        <th class=\"col_heading level0 col1\" >Confirmed</th>        <th class=\"col_heading level0 col2\" >Cured</th>        <th class=\"col_heading level0 col3\" >Deaths</th>        <th class=\"col_heading level0 col4\" >Death_percentage</th>    </tr></thead><tbody>\n",
       "                <tr>\n",
       "                        <th id=\"T_ef51a392_a8bb_11eb_84df_a45e60f3cb6dlevel0_row0\" class=\"row_heading level0 row0\" >0</th>\n",
       "                        <td id=\"T_ef51a392_a8bb_11eb_84df_a45e60f3cb6drow0_col0\" class=\"data row0 col0\" >Andaman and Nicobar Islands</td>\n",
       "                        <td id=\"T_ef51a392_a8bb_11eb_84df_a45e60f3cb6drow0_col1\" class=\"data row0 col1\" >1189952</td>\n",
       "                        <td id=\"T_ef51a392_a8bb_11eb_84df_a45e60f3cb6drow0_col2\" class=\"data row0 col2\" >1122556</td>\n",
       "                        <td id=\"T_ef51a392_a8bb_11eb_84df_a45e60f3cb6drow0_col3\" class=\"data row0 col3\" >15123</td>\n",
       "                        <td id=\"T_ef51a392_a8bb_11eb_84df_a45e60f3cb6drow0_col4\" class=\"data row0 col4\" >1.27089</td>\n",
       "            </tr>\n",
       "            <tr>\n",
       "                        <th id=\"T_ef51a392_a8bb_11eb_84df_a45e60f3cb6dlevel0_row1\" class=\"row_heading level0 row1\" >1</th>\n",
       "                        <td id=\"T_ef51a392_a8bb_11eb_84df_a45e60f3cb6drow1_col0\" class=\"data row1 col0\" >Andhra Pradesh</td>\n",
       "                        <td id=\"T_ef51a392_a8bb_11eb_84df_a45e60f3cb6drow1_col1\" class=\"data row1 col1\" >210789590</td>\n",
       "                        <td id=\"T_ef51a392_a8bb_11eb_84df_a45e60f3cb6drow1_col2\" class=\"data row1 col2\" >199693140</td>\n",
       "                        <td id=\"T_ef51a392_a8bb_11eb_84df_a45e60f3cb6drow1_col3\" class=\"data row1 col3\" >1722554</td>\n",
       "                        <td id=\"T_ef51a392_a8bb_11eb_84df_a45e60f3cb6drow1_col4\" class=\"data row1 col4\" >0.817191</td>\n",
       "            </tr>\n",
       "            <tr>\n",
       "                        <th id=\"T_ef51a392_a8bb_11eb_84df_a45e60f3cb6dlevel0_row2\" class=\"row_heading level0 row2\" >2</th>\n",
       "                        <td id=\"T_ef51a392_a8bb_11eb_84df_a45e60f3cb6drow2_col0\" class=\"data row2 col0\" >Arunachal Pradesh</td>\n",
       "                        <td id=\"T_ef51a392_a8bb_11eb_84df_a45e60f3cb6drow2_col1\" class=\"data row2 col1\" >3671031</td>\n",
       "                        <td id=\"T_ef51a392_a8bb_11eb_84df_a45e60f3cb6drow2_col2\" class=\"data row2 col2\" >3420792</td>\n",
       "                        <td id=\"T_ef51a392_a8bb_11eb_84df_a45e60f3cb6drow2_col3\" class=\"data row2 col3\" >11102</td>\n",
       "                        <td id=\"T_ef51a392_a8bb_11eb_84df_a45e60f3cb6drow2_col4\" class=\"data row2 col4\" >0.302422</td>\n",
       "            </tr>\n",
       "            <tr>\n",
       "                        <th id=\"T_ef51a392_a8bb_11eb_84df_a45e60f3cb6dlevel0_row3\" class=\"row_heading level0 row3\" >3</th>\n",
       "                        <td id=\"T_ef51a392_a8bb_11eb_84df_a45e60f3cb6drow3_col0\" class=\"data row3 col0\" >Assam</td>\n",
       "                        <td id=\"T_ef51a392_a8bb_11eb_84df_a45e60f3cb6drow3_col1\" class=\"data row3 col1\" >52286878</td>\n",
       "                        <td id=\"T_ef51a392_a8bb_11eb_84df_a45e60f3cb6drow3_col2\" class=\"data row3 col2\" >48905420</td>\n",
       "                        <td id=\"T_ef51a392_a8bb_11eb_84df_a45e60f3cb6drow3_col3\" class=\"data row3 col3\" >237440</td>\n",
       "                        <td id=\"T_ef51a392_a8bb_11eb_84df_a45e60f3cb6drow3_col4\" class=\"data row3 col4\" >0.45411</td>\n",
       "            </tr>\n",
       "            <tr>\n",
       "                        <th id=\"T_ef51a392_a8bb_11eb_84df_a45e60f3cb6dlevel0_row4\" class=\"row_heading level0 row4\" >4</th>\n",
       "                        <td id=\"T_ef51a392_a8bb_11eb_84df_a45e60f3cb6drow4_col0\" class=\"data row4 col0\" >Bihar</td>\n",
       "                        <td id=\"T_ef51a392_a8bb_11eb_84df_a45e60f3cb6drow4_col1\" class=\"data row4 col1\" >61519210</td>\n",
       "                        <td id=\"T_ef51a392_a8bb_11eb_84df_a45e60f3cb6drow4_col2\" class=\"data row4 col2\" >57902184</td>\n",
       "                        <td id=\"T_ef51a392_a8bb_11eb_84df_a45e60f3cb6drow4_col3\" class=\"data row4 col3\" >336514</td>\n",
       "                        <td id=\"T_ef51a392_a8bb_11eb_84df_a45e60f3cb6drow4_col4\" class=\"data row4 col4\" >0.547006</td>\n",
       "            </tr>\n",
       "            <tr>\n",
       "                        <th id=\"T_ef51a392_a8bb_11eb_84df_a45e60f3cb6dlevel0_row5\" class=\"row_heading level0 row5\" >5</th>\n",
       "                        <td id=\"T_ef51a392_a8bb_11eb_84df_a45e60f3cb6drow5_col0\" class=\"data row5 col0\" >Cases being reassigned to states</td>\n",
       "                        <td id=\"T_ef51a392_a8bb_11eb_84df_a45e60f3cb6drow5_col1\" class=\"data row5 col1\" >345565</td>\n",
       "                        <td id=\"T_ef51a392_a8bb_11eb_84df_a45e60f3cb6drow5_col2\" class=\"data row5 col2\" >0</td>\n",
       "                        <td id=\"T_ef51a392_a8bb_11eb_84df_a45e60f3cb6drow5_col3\" class=\"data row5 col3\" >0</td>\n",
       "                        <td id=\"T_ef51a392_a8bb_11eb_84df_a45e60f3cb6drow5_col4\" class=\"data row5 col4\" >0</td>\n",
       "            </tr>\n",
       "            <tr>\n",
       "                        <th id=\"T_ef51a392_a8bb_11eb_84df_a45e60f3cb6dlevel0_row6\" class=\"row_heading level0 row6\" >6</th>\n",
       "                        <td id=\"T_ef51a392_a8bb_11eb_84df_a45e60f3cb6drow6_col0\" class=\"data row6 col0\" >Chandigarh</td>\n",
       "                        <td id=\"T_ef51a392_a8bb_11eb_84df_a45e60f3cb6drow6_col1\" class=\"data row6 col1\" >4690884</td>\n",
       "                        <td id=\"T_ef51a392_a8bb_11eb_84df_a45e60f3cb6drow6_col2\" class=\"data row6 col2\" >4264128</td>\n",
       "                        <td id=\"T_ef51a392_a8bb_11eb_84df_a45e60f3cb6drow6_col3\" class=\"data row6 col3\" >69824</td>\n",
       "                        <td id=\"T_ef51a392_a8bb_11eb_84df_a45e60f3cb6drow6_col4\" class=\"data row6 col4\" >1.4885</td>\n",
       "            </tr>\n",
       "            <tr>\n",
       "                        <th id=\"T_ef51a392_a8bb_11eb_84df_a45e60f3cb6dlevel0_row7\" class=\"row_heading level0 row7\" >7</th>\n",
       "                        <td id=\"T_ef51a392_a8bb_11eb_84df_a45e60f3cb6drow7_col0\" class=\"data row7 col0\" >Chhattisgarh</td>\n",
       "                        <td id=\"T_ef51a392_a8bb_11eb_84df_a45e60f3cb6drow7_col1\" class=\"data row7 col1\" >63339141</td>\n",
       "                        <td id=\"T_ef51a392_a8bb_11eb_84df_a45e60f3cb6drow7_col2\" class=\"data row7 col2\" >56340704</td>\n",
       "                        <td id=\"T_ef51a392_a8bb_11eb_84df_a45e60f3cb6drow7_col3\" class=\"data row7 col3\" >730776</td>\n",
       "                        <td id=\"T_ef51a392_a8bb_11eb_84df_a45e60f3cb6drow7_col4\" class=\"data row7 col4\" >1.15375</td>\n",
       "            </tr>\n",
       "            <tr>\n",
       "                        <th id=\"T_ef51a392_a8bb_11eb_84df_a45e60f3cb6dlevel0_row8\" class=\"row_heading level0 row8\" >8</th>\n",
       "                        <td id=\"T_ef51a392_a8bb_11eb_84df_a45e60f3cb6drow8_col0\" class=\"data row8 col0\" >Dadra and Nagar Haveli and Daman and Diu</td>\n",
       "                        <td id=\"T_ef51a392_a8bb_11eb_84df_a45e60f3cb6drow8_col1\" class=\"data row8 col1\" >898744</td>\n",
       "                        <td id=\"T_ef51a392_a8bb_11eb_84df_a45e60f3cb6drow8_col2\" class=\"data row8 col2\" >840759</td>\n",
       "                        <td id=\"T_ef51a392_a8bb_11eb_84df_a45e60f3cb6drow8_col3\" class=\"data row8 col3\" >602</td>\n",
       "                        <td id=\"T_ef51a392_a8bb_11eb_84df_a45e60f3cb6drow8_col4\" class=\"data row8 col4\" >0.0669824</td>\n",
       "            </tr>\n",
       "            <tr>\n",
       "                        <th id=\"T_ef51a392_a8bb_11eb_84df_a45e60f3cb6dlevel0_row9\" class=\"row_heading level0 row9\" >9</th>\n",
       "                        <td id=\"T_ef51a392_a8bb_11eb_84df_a45e60f3cb6drow9_col0\" class=\"data row9 col0\" >Daman & Diu</td>\n",
       "                        <td id=\"T_ef51a392_a8bb_11eb_84df_a45e60f3cb6drow9_col1\" class=\"data row9 col1\" >2</td>\n",
       "                        <td id=\"T_ef51a392_a8bb_11eb_84df_a45e60f3cb6drow9_col2\" class=\"data row9 col2\" >0</td>\n",
       "                        <td id=\"T_ef51a392_a8bb_11eb_84df_a45e60f3cb6drow9_col3\" class=\"data row9 col3\" >0</td>\n",
       "                        <td id=\"T_ef51a392_a8bb_11eb_84df_a45e60f3cb6drow9_col4\" class=\"data row9 col4\" >0</td>\n",
       "            </tr>\n",
       "            <tr>\n",
       "                        <th id=\"T_ef51a392_a8bb_11eb_84df_a45e60f3cb6dlevel0_row10\" class=\"row_heading level0 row10\" >10</th>\n",
       "                        <td id=\"T_ef51a392_a8bb_11eb_84df_a45e60f3cb6drow10_col0\" class=\"data row10 col0\" >Delhi</td>\n",
       "                        <td id=\"T_ef51a392_a8bb_11eb_84df_a45e60f3cb6drow10_col1\" class=\"data row10 col1\" >139960345</td>\n",
       "                        <td id=\"T_ef51a392_a8bb_11eb_84df_a45e60f3cb6drow10_col2\" class=\"data row10 col2\" >130834020</td>\n",
       "                        <td id=\"T_ef51a392_a8bb_11eb_84df_a45e60f3cb6drow10_col3\" class=\"data row10 col3\" >2470634</td>\n",
       "                        <td id=\"T_ef51a392_a8bb_11eb_84df_a45e60f3cb6drow10_col4\" class=\"data row10 col4\" >1.76524</td>\n",
       "            </tr>\n",
       "            <tr>\n",
       "                        <th id=\"T_ef51a392_a8bb_11eb_84df_a45e60f3cb6dlevel0_row11\" class=\"row_heading level0 row11\" >11</th>\n",
       "                        <td id=\"T_ef51a392_a8bb_11eb_84df_a45e60f3cb6drow11_col0\" class=\"data row11 col0\" >Goa</td>\n",
       "                        <td id=\"T_ef51a392_a8bb_11eb_84df_a45e60f3cb6drow11_col1\" class=\"data row11 col1\" >12066208</td>\n",
       "                        <td id=\"T_ef51a392_a8bb_11eb_84df_a45e60f3cb6drow11_col2\" class=\"data row11 col2\" >11152075</td>\n",
       "                        <td id=\"T_ef51a392_a8bb_11eb_84df_a45e60f3cb6drow11_col3\" class=\"data row11 col3\" >166245</td>\n",
       "                        <td id=\"T_ef51a392_a8bb_11eb_84df_a45e60f3cb6drow11_col4\" class=\"data row11 col4\" >1.37777</td>\n",
       "            </tr>\n",
       "            <tr>\n",
       "                        <th id=\"T_ef51a392_a8bb_11eb_84df_a45e60f3cb6dlevel0_row12\" class=\"row_heading level0 row12\" >12</th>\n",
       "                        <td id=\"T_ef51a392_a8bb_11eb_84df_a45e60f3cb6drow12_col0\" class=\"data row12 col0\" >Gujarat</td>\n",
       "                        <td id=\"T_ef51a392_a8bb_11eb_84df_a45e60f3cb6drow12_col1\" class=\"data row12 col1\" >60760431</td>\n",
       "                        <td id=\"T_ef51a392_a8bb_11eb_84df_a45e60f3cb6drow12_col2\" class=\"data row12 col2\" >54777621</td>\n",
       "                        <td id=\"T_ef51a392_a8bb_11eb_84df_a45e60f3cb6drow12_col3\" class=\"data row12 col3\" >1209027</td>\n",
       "                        <td id=\"T_ef51a392_a8bb_11eb_84df_a45e60f3cb6drow12_col4\" class=\"data row12 col4\" >1.98983</td>\n",
       "            </tr>\n",
       "            <tr>\n",
       "                        <th id=\"T_ef51a392_a8bb_11eb_84df_a45e60f3cb6dlevel0_row13\" class=\"row_heading level0 row13\" >13</th>\n",
       "                        <td id=\"T_ef51a392_a8bb_11eb_84df_a45e60f3cb6drow13_col0\" class=\"data row13 col0\" >Haryana</td>\n",
       "                        <td id=\"T_ef51a392_a8bb_11eb_84df_a45e60f3cb6drow13_col1\" class=\"data row13 col1\" >57687972</td>\n",
       "                        <td id=\"T_ef51a392_a8bb_11eb_84df_a45e60f3cb6drow13_col2\" class=\"data row13 col2\" >53653150</td>\n",
       "                        <td id=\"T_ef51a392_a8bb_11eb_84df_a45e60f3cb6drow13_col3\" class=\"data row13 col3\" >623975</td>\n",
       "                        <td id=\"T_ef51a392_a8bb_11eb_84df_a45e60f3cb6drow13_col4\" class=\"data row13 col4\" >1.08164</td>\n",
       "            </tr>\n",
       "            <tr>\n",
       "                        <th id=\"T_ef51a392_a8bb_11eb_84df_a45e60f3cb6dlevel0_row14\" class=\"row_heading level0 row14\" >14</th>\n",
       "                        <td id=\"T_ef51a392_a8bb_11eb_84df_a45e60f3cb6drow14_col0\" class=\"data row14 col0\" >Himachal Pradesh</td>\n",
       "                        <td id=\"T_ef51a392_a8bb_11eb_84df_a45e60f3cb6drow14_col1\" class=\"data row14 col1\" >10811952</td>\n",
       "                        <td id=\"T_ef51a392_a8bb_11eb_84df_a45e60f3cb6drow14_col2\" class=\"data row14 col2\" >9733014</td>\n",
       "                        <td id=\"T_ef51a392_a8bb_11eb_84df_a45e60f3cb6drow14_col3\" class=\"data row14 col3\" >172732</td>\n",
       "                        <td id=\"T_ef51a392_a8bb_11eb_84df_a45e60f3cb6drow14_col4\" class=\"data row14 col4\" >1.5976</td>\n",
       "            </tr>\n",
       "            <tr>\n",
       "                        <th id=\"T_ef51a392_a8bb_11eb_84df_a45e60f3cb6dlevel0_row15\" class=\"row_heading level0 row15\" >15</th>\n",
       "                        <td id=\"T_ef51a392_a8bb_11eb_84df_a45e60f3cb6drow15_col0\" class=\"data row15 col0\" >Jammu and Kashmir</td>\n",
       "                        <td id=\"T_ef51a392_a8bb_11eb_84df_a45e60f3cb6drow15_col1\" class=\"data row15 col1\" >27775558</td>\n",
       "                        <td id=\"T_ef51a392_a8bb_11eb_84df_a45e60f3cb6drow15_col2\" class=\"data row15 col2\" >25373472</td>\n",
       "                        <td id=\"T_ef51a392_a8bb_11eb_84df_a45e60f3cb6drow15_col3\" class=\"data row15 col3\" >430991</td>\n",
       "                        <td id=\"T_ef51a392_a8bb_11eb_84df_a45e60f3cb6drow15_col4\" class=\"data row15 col4\" >1.55169</td>\n",
       "            </tr>\n",
       "            <tr>\n",
       "                        <th id=\"T_ef51a392_a8bb_11eb_84df_a45e60f3cb6dlevel0_row16\" class=\"row_heading level0 row16\" >16</th>\n",
       "                        <td id=\"T_ef51a392_a8bb_11eb_84df_a45e60f3cb6drow16_col0\" class=\"data row16 col0\" >Jharkhand</td>\n",
       "                        <td id=\"T_ef51a392_a8bb_11eb_84df_a45e60f3cb6drow16_col1\" class=\"data row16 col1\" >27455287</td>\n",
       "                        <td id=\"T_ef51a392_a8bb_11eb_84df_a45e60f3cb6drow16_col2\" class=\"data row16 col2\" >25324064</td>\n",
       "                        <td id=\"T_ef51a392_a8bb_11eb_84df_a45e60f3cb6drow16_col3\" class=\"data row16 col3\" >246285</td>\n",
       "                        <td id=\"T_ef51a392_a8bb_11eb_84df_a45e60f3cb6drow16_col4\" class=\"data row16 col4\" >0.89704</td>\n",
       "            </tr>\n",
       "            <tr>\n",
       "                        <th id=\"T_ef51a392_a8bb_11eb_84df_a45e60f3cb6dlevel0_row17\" class=\"row_heading level0 row17\" >17</th>\n",
       "                        <td id=\"T_ef51a392_a8bb_11eb_84df_a45e60f3cb6drow17_col0\" class=\"data row17 col0\" >Karnataka</td>\n",
       "                        <td id=\"T_ef51a392_a8bb_11eb_84df_a45e60f3cb6drow17_col1\" class=\"data row17 col1\" >216181457</td>\n",
       "                        <td id=\"T_ef51a392_a8bb_11eb_84df_a45e60f3cb6drow17_col2\" class=\"data row17 col2\" >198076638</td>\n",
       "                        <td id=\"T_ef51a392_a8bb_11eb_84df_a45e60f3cb6drow17_col3\" class=\"data row17 col3\" >2885294</td>\n",
       "                        <td id=\"T_ef51a392_a8bb_11eb_84df_a45e60f3cb6drow17_col4\" class=\"data row17 col4\" >1.33466</td>\n",
       "            </tr>\n",
       "            <tr>\n",
       "                        <th id=\"T_ef51a392_a8bb_11eb_84df_a45e60f3cb6dlevel0_row18\" class=\"row_heading level0 row18\" >18</th>\n",
       "                        <td id=\"T_ef51a392_a8bb_11eb_84df_a45e60f3cb6drow18_col0\" class=\"data row18 col0\" >Kerala</td>\n",
       "                        <td id=\"T_ef51a392_a8bb_11eb_84df_a45e60f3cb6drow18_col1\" class=\"data row18 col1\" >173919539</td>\n",
       "                        <td id=\"T_ef51a392_a8bb_11eb_84df_a45e60f3cb6drow18_col2\" class=\"data row18 col2\" >157227894</td>\n",
       "                        <td id=\"T_ef51a392_a8bb_11eb_84df_a45e60f3cb6drow18_col3\" class=\"data row18 col3\" >682629</td>\n",
       "                        <td id=\"T_ef51a392_a8bb_11eb_84df_a45e60f3cb6drow18_col4\" class=\"data row18 col4\" >0.392497</td>\n",
       "            </tr>\n",
       "            <tr>\n",
       "                        <th id=\"T_ef51a392_a8bb_11eb_84df_a45e60f3cb6dlevel0_row19\" class=\"row_heading level0 row19\" >19</th>\n",
       "                        <td id=\"T_ef51a392_a8bb_11eb_84df_a45e60f3cb6drow19_col0\" class=\"data row19 col0\" >Ladakh</td>\n",
       "                        <td id=\"T_ef51a392_a8bb_11eb_84df_a45e60f3cb6drow19_col1\" class=\"data row19 col1\" >2085695</td>\n",
       "                        <td id=\"T_ef51a392_a8bb_11eb_84df_a45e60f3cb6drow19_col2\" class=\"data row19 col2\" >1886982</td>\n",
       "                        <td id=\"T_ef51a392_a8bb_11eb_84df_a45e60f3cb6drow19_col3\" class=\"data row19 col3\" >25833</td>\n",
       "                        <td id=\"T_ef51a392_a8bb_11eb_84df_a45e60f3cb6drow19_col4\" class=\"data row19 col4\" >1.23858</td>\n",
       "            </tr>\n",
       "            <tr>\n",
       "                        <th id=\"T_ef51a392_a8bb_11eb_84df_a45e60f3cb6dlevel0_row20\" class=\"row_heading level0 row20\" >20</th>\n",
       "                        <td id=\"T_ef51a392_a8bb_11eb_84df_a45e60f3cb6drow20_col0\" class=\"data row20 col0\" >Lakshadweep</td>\n",
       "                        <td id=\"T_ef51a392_a8bb_11eb_84df_a45e60f3cb6drow20_col1\" class=\"data row20 col1\" >56944</td>\n",
       "                        <td id=\"T_ef51a392_a8bb_11eb_84df_a45e60f3cb6drow20_col2\" class=\"data row20 col2\" >39926</td>\n",
       "                        <td id=\"T_ef51a392_a8bb_11eb_84df_a45e60f3cb6drow20_col3\" class=\"data row20 col3\" >62</td>\n",
       "                        <td id=\"T_ef51a392_a8bb_11eb_84df_a45e60f3cb6drow20_col4\" class=\"data row20 col4\" >0.108879</td>\n",
       "            </tr>\n",
       "            <tr>\n",
       "                        <th id=\"T_ef51a392_a8bb_11eb_84df_a45e60f3cb6dlevel0_row21\" class=\"row_heading level0 row21\" >21</th>\n",
       "                        <td id=\"T_ef51a392_a8bb_11eb_84df_a45e60f3cb6drow21_col0\" class=\"data row21 col0\" >Madhya Pradesh</td>\n",
       "                        <td id=\"T_ef51a392_a8bb_11eb_84df_a45e60f3cb6drow21_col1\" class=\"data row21 col1\" >56660576</td>\n",
       "                        <td id=\"T_ef51a392_a8bb_11eb_84df_a45e60f3cb6drow21_col2\" class=\"data row21 col2\" >51485610</td>\n",
       "                        <td id=\"T_ef51a392_a8bb_11eb_84df_a45e60f3cb6drow21_col3\" class=\"data row21 col3\" >883050</td>\n",
       "                        <td id=\"T_ef51a392_a8bb_11eb_84df_a45e60f3cb6drow21_col4\" class=\"data row21 col4\" >1.55849</td>\n",
       "            </tr>\n",
       "            <tr>\n",
       "                        <th id=\"T_ef51a392_a8bb_11eb_84df_a45e60f3cb6dlevel0_row22\" class=\"row_heading level0 row22\" >22</th>\n",
       "                        <td id=\"T_ef51a392_a8bb_11eb_84df_a45e60f3cb6drow22_col0\" class=\"data row22 col0\" >Maharashtra</td>\n",
       "                        <td id=\"T_ef51a392_a8bb_11eb_84df_a45e60f3cb6drow22_col1\" class=\"data row22 col1\" >516281626</td>\n",
       "                        <td id=\"T_ef51a392_a8bb_11eb_84df_a45e60f3cb6drow22_col2\" class=\"data row22 col2\" >450020912</td>\n",
       "                        <td id=\"T_ef51a392_a8bb_11eb_84df_a45e60f3cb6drow22_col3\" class=\"data row22 col3\" >12492099</td>\n",
       "                        <td id=\"T_ef51a392_a8bb_11eb_84df_a45e60f3cb6drow22_col4\" class=\"data row22 col4\" >2.41963</td>\n",
       "            </tr>\n",
       "            <tr>\n",
       "                        <th id=\"T_ef51a392_a8bb_11eb_84df_a45e60f3cb6dlevel0_row23\" class=\"row_heading level0 row23\" >23</th>\n",
       "                        <td id=\"T_ef51a392_a8bb_11eb_84df_a45e60f3cb6drow23_col0\" class=\"data row23 col0\" >Manipur</td>\n",
       "                        <td id=\"T_ef51a392_a8bb_11eb_84df_a45e60f3cb6drow23_col1\" class=\"data row23 col1\" >5843202</td>\n",
       "                        <td id=\"T_ef51a392_a8bb_11eb_84df_a45e60f3cb6drow23_col2\" class=\"data row23 col2\" >5342630</td>\n",
       "                        <td id=\"T_ef51a392_a8bb_11eb_84df_a45e60f3cb6drow23_col3\" class=\"data row23 col3\" >65697</td>\n",
       "                        <td id=\"T_ef51a392_a8bb_11eb_84df_a45e60f3cb6drow23_col4\" class=\"data row23 col4\" >1.12433</td>\n",
       "            </tr>\n",
       "            <tr>\n",
       "                        <th id=\"T_ef51a392_a8bb_11eb_84df_a45e60f3cb6dlevel0_row24\" class=\"row_heading level0 row24\" >24</th>\n",
       "                        <td id=\"T_ef51a392_a8bb_11eb_84df_a45e60f3cb6drow24_col0\" class=\"data row24 col0\" >Meghalaya</td>\n",
       "                        <td id=\"T_ef51a392_a8bb_11eb_84df_a45e60f3cb6drow24_col1\" class=\"data row24 col1\" >2801586</td>\n",
       "                        <td id=\"T_ef51a392_a8bb_11eb_84df_a45e60f3cb6drow24_col2\" class=\"data row24 col2\" >2557622</td>\n",
       "                        <td id=\"T_ef51a392_a8bb_11eb_84df_a45e60f3cb6drow24_col3\" class=\"data row24 col3\" >27788</td>\n",
       "                        <td id=\"T_ef51a392_a8bb_11eb_84df_a45e60f3cb6drow24_col4\" class=\"data row24 col4\" >0.991867</td>\n",
       "            </tr>\n",
       "            <tr>\n",
       "                        <th id=\"T_ef51a392_a8bb_11eb_84df_a45e60f3cb6dlevel0_row25\" class=\"row_heading level0 row25\" >25</th>\n",
       "                        <td id=\"T_ef51a392_a8bb_11eb_84df_a45e60f3cb6drow25_col0\" class=\"data row25 col0\" >Mizoram</td>\n",
       "                        <td id=\"T_ef51a392_a8bb_11eb_84df_a45e60f3cb6drow25_col1\" class=\"data row25 col1\" >904891</td>\n",
       "                        <td id=\"T_ef51a392_a8bb_11eb_84df_a45e60f3cb6drow25_col2\" class=\"data row25 col2\" >830518</td>\n",
       "                        <td id=\"T_ef51a392_a8bb_11eb_84df_a45e60f3cb6drow25_col3\" class=\"data row25 col3\" >1506</td>\n",
       "                        <td id=\"T_ef51a392_a8bb_11eb_84df_a45e60f3cb6drow25_col4\" class=\"data row25 col4\" >0.166429</td>\n",
       "            </tr>\n",
       "            <tr>\n",
       "                        <th id=\"T_ef51a392_a8bb_11eb_84df_a45e60f3cb6dlevel0_row26\" class=\"row_heading level0 row26\" >26</th>\n",
       "                        <td id=\"T_ef51a392_a8bb_11eb_84df_a45e60f3cb6drow26_col0\" class=\"data row26 col0\" >Nagaland</td>\n",
       "                        <td id=\"T_ef51a392_a8bb_11eb_84df_a45e60f3cb6drow26_col1\" class=\"data row26 col1\" >2622854</td>\n",
       "                        <td id=\"T_ef51a392_a8bb_11eb_84df_a45e60f3cb6drow26_col2\" class=\"data row26 col2\" >2399352</td>\n",
       "                        <td id=\"T_ef51a392_a8bb_11eb_84df_a45e60f3cb6drow26_col3\" class=\"data row26 col3\" >15719</td>\n",
       "                        <td id=\"T_ef51a392_a8bb_11eb_84df_a45e60f3cb6drow26_col4\" class=\"data row26 col4\" >0.599309</td>\n",
       "            </tr>\n",
       "            <tr>\n",
       "                        <th id=\"T_ef51a392_a8bb_11eb_84df_a45e60f3cb6dlevel0_row27\" class=\"row_heading level0 row27\" >27</th>\n",
       "                        <td id=\"T_ef51a392_a8bb_11eb_84df_a45e60f3cb6drow27_col0\" class=\"data row27 col0\" >Odisha</td>\n",
       "                        <td id=\"T_ef51a392_a8bb_11eb_84df_a45e60f3cb6drow27_col1\" class=\"data row27 col1\" >74984512</td>\n",
       "                        <td id=\"T_ef51a392_a8bb_11eb_84df_a45e60f3cb6drow27_col2\" class=\"data row27 col2\" >71258583</td>\n",
       "                        <td id=\"T_ef51a392_a8bb_11eb_84df_a45e60f3cb6drow27_col3\" class=\"data row27 col3\" >394259</td>\n",
       "                        <td id=\"T_ef51a392_a8bb_11eb_84df_a45e60f3cb6drow27_col4\" class=\"data row27 col4\" >0.525787</td>\n",
       "            </tr>\n",
       "            <tr>\n",
       "                        <th id=\"T_ef51a392_a8bb_11eb_84df_a45e60f3cb6dlevel0_row28\" class=\"row_heading level0 row28\" >28</th>\n",
       "                        <td id=\"T_ef51a392_a8bb_11eb_84df_a45e60f3cb6drow28_col0\" class=\"data row28 col0\" >Puducherry</td>\n",
       "                        <td id=\"T_ef51a392_a8bb_11eb_84df_a45e60f3cb6drow28_col1\" class=\"data row28 col1\" >9009636</td>\n",
       "                        <td id=\"T_ef51a392_a8bb_11eb_84df_a45e60f3cb6drow28_col2\" class=\"data row28 col2\" >8282335</td>\n",
       "                        <td id=\"T_ef51a392_a8bb_11eb_84df_a45e60f3cb6drow28_col3\" class=\"data row28 col3\" >150203</td>\n",
       "                        <td id=\"T_ef51a392_a8bb_11eb_84df_a45e60f3cb6drow28_col4\" class=\"data row28 col4\" >1.66714</td>\n",
       "            </tr>\n",
       "            <tr>\n",
       "                        <th id=\"T_ef51a392_a8bb_11eb_84df_a45e60f3cb6dlevel0_row29\" class=\"row_heading level0 row29\" >29</th>\n",
       "                        <td id=\"T_ef51a392_a8bb_11eb_84df_a45e60f3cb6drow29_col0\" class=\"data row29 col0\" >Punjab</td>\n",
       "                        <td id=\"T_ef51a392_a8bb_11eb_84df_a45e60f3cb6drow29_col1\" class=\"data row29 col1\" >41589604</td>\n",
       "                        <td id=\"T_ef51a392_a8bb_11eb_84df_a45e60f3cb6drow29_col2\" class=\"data row29 col2\" >37197301</td>\n",
       "                        <td id=\"T_ef51a392_a8bb_11eb_84df_a45e60f3cb6drow29_col3\" class=\"data row29 col3\" >1258134</td>\n",
       "                        <td id=\"T_ef51a392_a8bb_11eb_84df_a45e60f3cb6drow29_col4\" class=\"data row29 col4\" >3.02512</td>\n",
       "            </tr>\n",
       "            <tr>\n",
       "                        <th id=\"T_ef51a392_a8bb_11eb_84df_a45e60f3cb6dlevel0_row30\" class=\"row_heading level0 row30\" >30</th>\n",
       "                        <td id=\"T_ef51a392_a8bb_11eb_84df_a45e60f3cb6drow30_col0\" class=\"data row30 col0\" >Rajasthan</td>\n",
       "                        <td id=\"T_ef51a392_a8bb_11eb_84df_a45e60f3cb6drow30_col1\" class=\"data row30 col1\" >67438958</td>\n",
       "                        <td id=\"T_ef51a392_a8bb_11eb_84df_a45e60f3cb6drow30_col2\" class=\"data row30 col2\" >61843189</td>\n",
       "                        <td id=\"T_ef51a392_a8bb_11eb_84df_a45e60f3cb6drow30_col3\" class=\"data row30 col3\" >624248</td>\n",
       "                        <td id=\"T_ef51a392_a8bb_11eb_84df_a45e60f3cb6drow30_col4\" class=\"data row30 col4\" >0.925649</td>\n",
       "            </tr>\n",
       "            <tr>\n",
       "                        <th id=\"T_ef51a392_a8bb_11eb_84df_a45e60f3cb6dlevel0_row31\" class=\"row_heading level0 row31\" >31</th>\n",
       "                        <td id=\"T_ef51a392_a8bb_11eb_84df_a45e60f3cb6drow31_col0\" class=\"data row31 col0\" >Sikkim</td>\n",
       "                        <td id=\"T_ef51a392_a8bb_11eb_84df_a45e60f3cb6drow31_col1\" class=\"data row31 col1\" >1255806</td>\n",
       "                        <td id=\"T_ef51a392_a8bb_11eb_84df_a45e60f3cb6drow31_col2\" class=\"data row31 col2\" >1142598</td>\n",
       "                        <td id=\"T_ef51a392_a8bb_11eb_84df_a45e60f3cb6drow31_col3\" class=\"data row31 col3\" >24511</td>\n",
       "                        <td id=\"T_ef51a392_a8bb_11eb_84df_a45e60f3cb6drow31_col4\" class=\"data row31 col4\" >1.95181</td>\n",
       "            </tr>\n",
       "            <tr>\n",
       "                        <th id=\"T_ef51a392_a8bb_11eb_84df_a45e60f3cb6dlevel0_row32\" class=\"row_heading level0 row32\" >32</th>\n",
       "                        <td id=\"T_ef51a392_a8bb_11eb_84df_a45e60f3cb6drow32_col0\" class=\"data row32 col0\" >Tamil Nadu</td>\n",
       "                        <td id=\"T_ef51a392_a8bb_11eb_84df_a45e60f3cb6drow32_col1\" class=\"data row32 col1\" >203749579</td>\n",
       "                        <td id=\"T_ef51a392_a8bb_11eb_84df_a45e60f3cb6drow32_col2\" class=\"data row32 col2\" >191154437</td>\n",
       "                        <td id=\"T_ef51a392_a8bb_11eb_84df_a45e60f3cb6drow32_col3\" class=\"data row32 col3\" >3037164</td>\n",
       "                        <td id=\"T_ef51a392_a8bb_11eb_84df_a45e60f3cb6drow32_col4\" class=\"data row32 col4\" >1.49064</td>\n",
       "            </tr>\n",
       "            <tr>\n",
       "                        <th id=\"T_ef51a392_a8bb_11eb_84df_a45e60f3cb6dlevel0_row33\" class=\"row_heading level0 row33\" >33</th>\n",
       "                        <td id=\"T_ef51a392_a8bb_11eb_84df_a45e60f3cb6drow33_col0\" class=\"data row33 col0\" >Telengana</td>\n",
       "                        <td id=\"T_ef51a392_a8bb_11eb_84df_a45e60f3cb6drow33_col1\" class=\"data row33 col1\" >68683742</td>\n",
       "                        <td id=\"T_ef51a392_a8bb_11eb_84df_a45e60f3cb6drow33_col2\" class=\"data row33 col2\" >63598797</td>\n",
       "                        <td id=\"T_ef51a392_a8bb_11eb_84df_a45e60f3cb6drow33_col3\" class=\"data row33 col3\" >393646</td>\n",
       "                        <td id=\"T_ef51a392_a8bb_11eb_84df_a45e60f3cb6drow33_col4\" class=\"data row33 col4\" >0.573128</td>\n",
       "            </tr>\n",
       "            <tr>\n",
       "                        <th id=\"T_ef51a392_a8bb_11eb_84df_a45e60f3cb6dlevel0_row34\" class=\"row_heading level0 row34\" >34</th>\n",
       "                        <td id=\"T_ef51a392_a8bb_11eb_84df_a45e60f3cb6drow34_col0\" class=\"data row34 col0\" >Tripura</td>\n",
       "                        <td id=\"T_ef51a392_a8bb_11eb_84df_a45e60f3cb6drow34_col1\" class=\"data row34 col1\" >7769307</td>\n",
       "                        <td id=\"T_ef51a392_a8bb_11eb_84df_a45e60f3cb6drow34_col2\" class=\"data row34 col2\" >7216377</td>\n",
       "                        <td id=\"T_ef51a392_a8bb_11eb_84df_a45e60f3cb6drow34_col3\" class=\"data row34 col3\" >86784</td>\n",
       "                        <td id=\"T_ef51a392_a8bb_11eb_84df_a45e60f3cb6drow34_col4\" class=\"data row34 col4\" >1.11701</td>\n",
       "            </tr>\n",
       "            <tr>\n",
       "                        <th id=\"T_ef51a392_a8bb_11eb_84df_a45e60f3cb6dlevel0_row35\" class=\"row_heading level0 row35\" >35</th>\n",
       "                        <td id=\"T_ef51a392_a8bb_11eb_84df_a45e60f3cb6drow35_col0\" class=\"data row35 col0\" >Unassigned</td>\n",
       "                        <td id=\"T_ef51a392_a8bb_11eb_84df_a45e60f3cb6drow35_col1\" class=\"data row35 col1\" >161</td>\n",
       "                        <td id=\"T_ef51a392_a8bb_11eb_84df_a45e60f3cb6drow35_col2\" class=\"data row35 col2\" >0</td>\n",
       "                        <td id=\"T_ef51a392_a8bb_11eb_84df_a45e60f3cb6drow35_col3\" class=\"data row35 col3\" >0</td>\n",
       "                        <td id=\"T_ef51a392_a8bb_11eb_84df_a45e60f3cb6drow35_col4\" class=\"data row35 col4\" >0</td>\n",
       "            </tr>\n",
       "            <tr>\n",
       "                        <th id=\"T_ef51a392_a8bb_11eb_84df_a45e60f3cb6dlevel0_row36\" class=\"row_heading level0 row36\" >36</th>\n",
       "                        <td id=\"T_ef51a392_a8bb_11eb_84df_a45e60f3cb6drow36_col0\" class=\"data row36 col0\" >Uttar Pradesh</td>\n",
       "                        <td id=\"T_ef51a392_a8bb_11eb_84df_a45e60f3cb6drow36_col1\" class=\"data row36 col1\" >139253955</td>\n",
       "                        <td id=\"T_ef51a392_a8bb_11eb_84df_a45e60f3cb6drow36_col2\" class=\"data row36 col2\" >126597520</td>\n",
       "                        <td id=\"T_ef51a392_a8bb_11eb_84df_a45e60f3cb6drow36_col3\" class=\"data row36 col3\" >1986507</td>\n",
       "                        <td id=\"T_ef51a392_a8bb_11eb_84df_a45e60f3cb6drow36_col4\" class=\"data row36 col4\" >1.42654</td>\n",
       "            </tr>\n",
       "            <tr>\n",
       "                        <th id=\"T_ef51a392_a8bb_11eb_84df_a45e60f3cb6dlevel0_row37\" class=\"row_heading level0 row37\" >37</th>\n",
       "                        <td id=\"T_ef51a392_a8bb_11eb_84df_a45e60f3cb6drow37_col0\" class=\"data row37 col0\" >Uttarakhand</td>\n",
       "                        <td id=\"T_ef51a392_a8bb_11eb_84df_a45e60f3cb6drow37_col1\" class=\"data row37 col1\" >19979389</td>\n",
       "                        <td id=\"T_ef51a392_a8bb_11eb_84df_a45e60f3cb6drow37_col2\" class=\"data row37 col2\" >18149613</td>\n",
       "                        <td id=\"T_ef51a392_a8bb_11eb_84df_a45e60f3cb6drow37_col3\" class=\"data row37 col3\" >322720</td>\n",
       "                        <td id=\"T_ef51a392_a8bb_11eb_84df_a45e60f3cb6drow37_col4\" class=\"data row37 col4\" >1.61526</td>\n",
       "            </tr>\n",
       "            <tr>\n",
       "                        <th id=\"T_ef51a392_a8bb_11eb_84df_a45e60f3cb6dlevel0_row38\" class=\"row_heading level0 row38\" >38</th>\n",
       "                        <td id=\"T_ef51a392_a8bb_11eb_84df_a45e60f3cb6drow38_col0\" class=\"data row38 col0\" >West Bengal</td>\n",
       "                        <td id=\"T_ef51a392_a8bb_11eb_84df_a45e60f3cb6drow38_col1\" class=\"data row38 col1\" >119629349</td>\n",
       "                        <td id=\"T_ef51a392_a8bb_11eb_84df_a45e60f3cb6drow38_col2\" class=\"data row38 col2\" >111263374</td>\n",
       "                        <td id=\"T_ef51a392_a8bb_11eb_84df_a45e60f3cb6drow38_col3\" class=\"data row38 col3\" >2151821</td>\n",
       "                        <td id=\"T_ef51a392_a8bb_11eb_84df_a45e60f3cb6drow38_col4\" class=\"data row38 col4\" >1.79874</td>\n",
       "            </tr>\n",
       "    </tbody></table>"
      ],
      "text/plain": [
       "<pandas.io.formats.style.Styler at 0x7fe30cad1e50>"
      ]
     },
     "execution_count": 75,
     "metadata": {},
     "output_type": "execute_result"
    }
   ],
   "source": [
    "state_wise = df.groupby('State/UnionTerritory')['Confirmed','Cured','Deaths'].sum().reset_index()\n",
    "state_wise[\"Death_percentage\"] = ((state_wise[\"Deaths\"] / state_wise[\"Confirmed\"]) * 100)\n",
    "\n",
    "# We can explore/try various options of cmap / color map attribute\n",
    "# Try cmap as PuBu / viridis / plasma / inferno / cividis / magma for various flavor of visualizations\n",
    "state_wise.style.background_gradient(cmap='plasma')"
   ]
  },
  {
   "cell_type": "markdown",
   "metadata": {},
   "source": [
    "### Monthwise Analysis\n",
    "\n",
    "Now, we will take historical dataset of approximately 15 months and analyse that by month."
   ]
  },
  {
   "cell_type": "code",
   "execution_count": 77,
   "metadata": {
    "scrolled": true
   },
   "outputs": [
    {
     "data": {
      "text/html": [
       "<style  type=\"text/css\" >\n",
       "    #T_16120e72_a8bc_11eb_84df_a45e60f3cb6drow0_col1 {\n",
       "            background-color:  #301437;\n",
       "            color:  #f1f1f1;\n",
       "        }    #T_16120e72_a8bc_11eb_84df_a45e60f3cb6drow0_col2 {\n",
       "            background-color:  #301437;\n",
       "            color:  #f1f1f1;\n",
       "        }    #T_16120e72_a8bc_11eb_84df_a45e60f3cb6drow0_col3 {\n",
       "            background-color:  #301437;\n",
       "            color:  #f1f1f1;\n",
       "        }    #T_16120e72_a8bc_11eb_84df_a45e60f3cb6drow0_col4 {\n",
       "            background-color:  #301437;\n",
       "            color:  #f1f1f1;\n",
       "        }    #T_16120e72_a8bc_11eb_84df_a45e60f3cb6drow1_col1 {\n",
       "            background-color:  #301437;\n",
       "            color:  #f1f1f1;\n",
       "        }    #T_16120e72_a8bc_11eb_84df_a45e60f3cb6drow1_col2 {\n",
       "            background-color:  #301437;\n",
       "            color:  #f1f1f1;\n",
       "        }    #T_16120e72_a8bc_11eb_84df_a45e60f3cb6drow1_col3 {\n",
       "            background-color:  #301437;\n",
       "            color:  #f1f1f1;\n",
       "        }    #T_16120e72_a8bc_11eb_84df_a45e60f3cb6drow1_col4 {\n",
       "            background-color:  #301437;\n",
       "            color:  #f1f1f1;\n",
       "        }    #T_16120e72_a8bc_11eb_84df_a45e60f3cb6drow2_col1 {\n",
       "            background-color:  #301437;\n",
       "            color:  #f1f1f1;\n",
       "        }    #T_16120e72_a8bc_11eb_84df_a45e60f3cb6drow2_col2 {\n",
       "            background-color:  #301437;\n",
       "            color:  #f1f1f1;\n",
       "        }    #T_16120e72_a8bc_11eb_84df_a45e60f3cb6drow2_col3 {\n",
       "            background-color:  #301437;\n",
       "            color:  #f1f1f1;\n",
       "        }    #T_16120e72_a8bc_11eb_84df_a45e60f3cb6drow2_col4 {\n",
       "            background-color:  #c68b6e;\n",
       "            color:  #000000;\n",
       "        }    #T_16120e72_a8bc_11eb_84df_a45e60f3cb6drow3_col1 {\n",
       "            background-color:  #301437;\n",
       "            color:  #f1f1f1;\n",
       "        }    #T_16120e72_a8bc_11eb_84df_a45e60f3cb6drow3_col2 {\n",
       "            background-color:  #301437;\n",
       "            color:  #f1f1f1;\n",
       "        }    #T_16120e72_a8bc_11eb_84df_a45e60f3cb6drow3_col3 {\n",
       "            background-color:  #301338;\n",
       "            color:  #f1f1f1;\n",
       "        }    #T_16120e72_a8bc_11eb_84df_a45e60f3cb6drow3_col4 {\n",
       "            background-color:  #2f1436;\n",
       "            color:  #f1f1f1;\n",
       "        }    #T_16120e72_a8bc_11eb_84df_a45e60f3cb6drow4_col1 {\n",
       "            background-color:  #31123a;\n",
       "            color:  #f1f1f1;\n",
       "        }    #T_16120e72_a8bc_11eb_84df_a45e60f3cb6drow4_col2 {\n",
       "            background-color:  #301338;\n",
       "            color:  #f1f1f1;\n",
       "        }    #T_16120e72_a8bc_11eb_84df_a45e60f3cb6drow4_col3 {\n",
       "            background-color:  #34113f;\n",
       "            color:  #f1f1f1;\n",
       "        }    #T_16120e72_a8bc_11eb_84df_a45e60f3cb6drow4_col4 {\n",
       "            background-color:  #381139;\n",
       "            color:  #f1f1f1;\n",
       "        }    #T_16120e72_a8bc_11eb_84df_a45e60f3cb6drow5_col1 {\n",
       "            background-color:  #371143;\n",
       "            color:  #f1f1f1;\n",
       "        }    #T_16120e72_a8bc_11eb_84df_a45e60f3cb6drow5_col2 {\n",
       "            background-color:  #34113e;\n",
       "            color:  #f1f1f1;\n",
       "        }    #T_16120e72_a8bc_11eb_84df_a45e60f3cb6drow5_col3 {\n",
       "            background-color:  #47145f;\n",
       "            color:  #f1f1f1;\n",
       "        }    #T_16120e72_a8bc_11eb_84df_a45e60f3cb6drow5_col4 {\n",
       "            background-color:  #3c113b;\n",
       "            color:  #f1f1f1;\n",
       "        }    #T_16120e72_a8bc_11eb_84df_a45e60f3cb6drow6_col1 {\n",
       "            background-color:  #4c176b;\n",
       "            color:  #f1f1f1;\n",
       "        }    #T_16120e72_a8bc_11eb_84df_a45e60f3cb6drow6_col2 {\n",
       "            background-color:  #421257;\n",
       "            color:  #f1f1f1;\n",
       "        }    #T_16120e72_a8bc_11eb_84df_a45e60f3cb6drow6_col3 {\n",
       "            background-color:  #5d40a2;\n",
       "            color:  #f1f1f1;\n",
       "        }    #T_16120e72_a8bc_11eb_84df_a45e60f3cb6drow6_col4 {\n",
       "            background-color:  #a03d50;\n",
       "            color:  #f1f1f1;\n",
       "        }    #T_16120e72_a8bc_11eb_84df_a45e60f3cb6drow7_col1 {\n",
       "            background-color:  #5f59b1;\n",
       "            color:  #f1f1f1;\n",
       "        }    #T_16120e72_a8bc_11eb_84df_a45e60f3cb6drow7_col2 {\n",
       "            background-color:  #5e43a5;\n",
       "            color:  #f1f1f1;\n",
       "        }    #T_16120e72_a8bc_11eb_84df_a45e60f3cb6drow7_col3 {\n",
       "            background-color:  #7398c1;\n",
       "            color:  #000000;\n",
       "        }    #T_16120e72_a8bc_11eb_84df_a45e60f3cb6drow7_col4 {\n",
       "            background-color:  #ceab92;\n",
       "            color:  #000000;\n",
       "        }    #T_16120e72_a8bc_11eb_84df_a45e60f3cb6drow8_col1 {\n",
       "            background-color:  #91b2c6;\n",
       "            color:  #000000;\n",
       "        }    #T_16120e72_a8bc_11eb_84df_a45e60f3cb6drow8_col2 {\n",
       "            background-color:  #7ca2c2;\n",
       "            color:  #000000;\n",
       "        }    #T_16120e72_a8bc_11eb_84df_a45e60f3cb6drow8_col3 {\n",
       "            background-color:  #e1d9e2;\n",
       "            color:  #000000;\n",
       "        }    #T_16120e72_a8bc_11eb_84df_a45e60f3cb6drow8_col4 {\n",
       "            background-color:  #e0d6da;\n",
       "            color:  #000000;\n",
       "        }    #T_16120e72_a8bc_11eb_84df_a45e60f3cb6drow9_col1 {\n",
       "            background-color:  #d8c7be;\n",
       "            color:  #000000;\n",
       "        }    #T_16120e72_a8bc_11eb_84df_a45e60f3cb6drow9_col2 {\n",
       "            background-color:  #d8c7be;\n",
       "            color:  #000000;\n",
       "        }    #T_16120e72_a8bc_11eb_84df_a45e60f3cb6drow9_col3 {\n",
       "            background-color:  #c0745d;\n",
       "            color:  #000000;\n",
       "        }    #T_16120e72_a8bc_11eb_84df_a45e60f3cb6drow9_col4 {\n",
       "            background-color:  #ded9e1;\n",
       "            color:  #000000;\n",
       "        }    #T_16120e72_a8bc_11eb_84df_a45e60f3cb6drow10_col1 {\n",
       "            background-color:  #c89073;\n",
       "            color:  #000000;\n",
       "        }    #T_16120e72_a8bc_11eb_84df_a45e60f3cb6drow10_col2 {\n",
       "            background-color:  #c1775f;\n",
       "            color:  #000000;\n",
       "        }    #T_16120e72_a8bc_11eb_84df_a45e60f3cb6drow10_col3 {\n",
       "            background-color:  #a34150;\n",
       "            color:  #f1f1f1;\n",
       "        }    #T_16120e72_a8bc_11eb_84df_a45e60f3cb6drow10_col4 {\n",
       "            background-color:  #d6d7dd;\n",
       "            color:  #000000;\n",
       "        }    #T_16120e72_a8bc_11eb_84df_a45e60f3cb6drow11_col1 {\n",
       "            background-color:  #ae5051;\n",
       "            color:  #f1f1f1;\n",
       "        }    #T_16120e72_a8bc_11eb_84df_a45e60f3cb6drow11_col2 {\n",
       "            background-color:  #922f50;\n",
       "            color:  #f1f1f1;\n",
       "        }    #T_16120e72_a8bc_11eb_84df_a45e60f3cb6drow11_col3 {\n",
       "            background-color:  #61184b;\n",
       "            color:  #f1f1f1;\n",
       "        }    #T_16120e72_a8bc_11eb_84df_a45e60f3cb6drow11_col4 {\n",
       "            background-color:  #d3d6db;\n",
       "            color:  #000000;\n",
       "        }    #T_16120e72_a8bc_11eb_84df_a45e60f3cb6drow12_col1 {\n",
       "            background-color:  #9a3750;\n",
       "            color:  #f1f1f1;\n",
       "        }    #T_16120e72_a8bc_11eb_84df_a45e60f3cb6drow12_col2 {\n",
       "            background-color:  #6b1b4d;\n",
       "            color:  #f1f1f1;\n",
       "        }    #T_16120e72_a8bc_11eb_84df_a45e60f3cb6drow12_col3 {\n",
       "            background-color:  #41123d;\n",
       "            color:  #f1f1f1;\n",
       "        }    #T_16120e72_a8bc_11eb_84df_a45e60f3cb6drow12_col4 {\n",
       "            background-color:  #d2d5db;\n",
       "            color:  #000000;\n",
       "        }    #T_16120e72_a8bc_11eb_84df_a45e60f3cb6drow13_col1 {\n",
       "            background-color:  #af5251;\n",
       "            color:  #f1f1f1;\n",
       "        }    #T_16120e72_a8bc_11eb_84df_a45e60f3cb6drow13_col2 {\n",
       "            background-color:  #8b2a50;\n",
       "            color:  #f1f1f1;\n",
       "        }    #T_16120e72_a8bc_11eb_84df_a45e60f3cb6drow13_col3 {\n",
       "            background-color:  #6f1c4e;\n",
       "            color:  #f1f1f1;\n",
       "        }    #T_16120e72_a8bc_11eb_84df_a45e60f3cb6drow13_col4 {\n",
       "            background-color:  #ced3d9;\n",
       "            color:  #000000;\n",
       "        }    #T_16120e72_a8bc_11eb_84df_a45e60f3cb6drow14_col1 {\n",
       "            background-color:  #6f1c4e;\n",
       "            color:  #f1f1f1;\n",
       "        }    #T_16120e72_a8bc_11eb_84df_a45e60f3cb6drow14_col2 {\n",
       "            background-color:  #3b113b;\n",
       "            color:  #f1f1f1;\n",
       "        }    #T_16120e72_a8bc_11eb_84df_a45e60f3cb6drow14_col3 {\n",
       "            background-color:  #2f1436;\n",
       "            color:  #f1f1f1;\n",
       "        }    #T_16120e72_a8bc_11eb_84df_a45e60f3cb6drow14_col4 {\n",
       "            background-color:  #c5cfd5;\n",
       "            color:  #000000;\n",
       "        }    #T_16120e72_a8bc_11eb_84df_a45e60f3cb6drow15_col1 {\n",
       "            background-color:  #2f1436;\n",
       "            color:  #f1f1f1;\n",
       "        }    #T_16120e72_a8bc_11eb_84df_a45e60f3cb6drow15_col2 {\n",
       "            background-color:  #2f1436;\n",
       "            color:  #f1f1f1;\n",
       "        }    #T_16120e72_a8bc_11eb_84df_a45e60f3cb6drow15_col3 {\n",
       "            background-color:  #2f1436;\n",
       "            color:  #f1f1f1;\n",
       "        }    #T_16120e72_a8bc_11eb_84df_a45e60f3cb6drow15_col4 {\n",
       "            background-color:  #9ebbc9;\n",
       "            color:  #000000;\n",
       "        }</style><table id=\"T_16120e72_a8bc_11eb_84df_a45e60f3cb6d\" ><thead>    <tr>        <th class=\"blank level0\" ></th>        <th class=\"col_heading level0 col0\" >Date</th>        <th class=\"col_heading level0 col1\" >Confirmed</th>        <th class=\"col_heading level0 col2\" >Cured</th>        <th class=\"col_heading level0 col3\" >Deaths</th>        <th class=\"col_heading level0 col4\" >Death_percentage</th>    </tr>    <tr>        <th class=\"index_name level0\" >index</th>        <th class=\"blank\" ></th>        <th class=\"blank\" ></th>        <th class=\"blank\" ></th>        <th class=\"blank\" ></th>        <th class=\"blank\" ></th>    </tr></thead><tbody>\n",
       "                <tr>\n",
       "                        <th id=\"T_16120e72_a8bc_11eb_84df_a45e60f3cb6dlevel0_row0\" class=\"row_heading level0 row0\" >0</th>\n",
       "                        <td id=\"T_16120e72_a8bc_11eb_84df_a45e60f3cb6drow0_col0\" class=\"data row0 col0\" >2020-01-31 00:00:00</td>\n",
       "                        <td id=\"T_16120e72_a8bc_11eb_84df_a45e60f3cb6drow0_col1\" class=\"data row0 col1\" >2</td>\n",
       "                        <td id=\"T_16120e72_a8bc_11eb_84df_a45e60f3cb6drow0_col2\" class=\"data row0 col2\" >0</td>\n",
       "                        <td id=\"T_16120e72_a8bc_11eb_84df_a45e60f3cb6drow0_col3\" class=\"data row0 col3\" >0</td>\n",
       "                        <td id=\"T_16120e72_a8bc_11eb_84df_a45e60f3cb6drow0_col4\" class=\"data row0 col4\" >0</td>\n",
       "            </tr>\n",
       "            <tr>\n",
       "                        <th id=\"T_16120e72_a8bc_11eb_84df_a45e60f3cb6dlevel0_row1\" class=\"row_heading level0 row1\" >1</th>\n",
       "                        <td id=\"T_16120e72_a8bc_11eb_84df_a45e60f3cb6drow1_col0\" class=\"data row1 col0\" >2020-02-29 00:00:00</td>\n",
       "                        <td id=\"T_16120e72_a8bc_11eb_84df_a45e60f3cb6drow1_col1\" class=\"data row1 col1\" >86</td>\n",
       "                        <td id=\"T_16120e72_a8bc_11eb_84df_a45e60f3cb6drow1_col2\" class=\"data row1 col2\" >0</td>\n",
       "                        <td id=\"T_16120e72_a8bc_11eb_84df_a45e60f3cb6drow1_col3\" class=\"data row1 col3\" >0</td>\n",
       "                        <td id=\"T_16120e72_a8bc_11eb_84df_a45e60f3cb6drow1_col4\" class=\"data row1 col4\" >0</td>\n",
       "            </tr>\n",
       "            <tr>\n",
       "                        <th id=\"T_16120e72_a8bc_11eb_84df_a45e60f3cb6dlevel0_row2\" class=\"row_heading level0 row2\" >2</th>\n",
       "                        <td id=\"T_16120e72_a8bc_11eb_84df_a45e60f3cb6drow2_col0\" class=\"data row2 col0\" >2020-03-31 00:00:00</td>\n",
       "                        <td id=\"T_16120e72_a8bc_11eb_84df_a45e60f3cb6drow2_col1\" class=\"data row2 col1\" >9687</td>\n",
       "                        <td id=\"T_16120e72_a8bc_11eb_84df_a45e60f3cb6drow2_col2\" class=\"data row2 col2\" >808</td>\n",
       "                        <td id=\"T_16120e72_a8bc_11eb_84df_a45e60f3cb6drow2_col3\" class=\"data row2 col3\" >202</td>\n",
       "                        <td id=\"T_16120e72_a8bc_11eb_84df_a45e60f3cb6drow2_col4\" class=\"data row2 col4\" >2.08527</td>\n",
       "            </tr>\n",
       "            <tr>\n",
       "                        <th id=\"T_16120e72_a8bc_11eb_84df_a45e60f3cb6dlevel0_row3\" class=\"row_heading level0 row3\" >3</th>\n",
       "                        <td id=\"T_16120e72_a8bc_11eb_84df_a45e60f3cb6drow3_col0\" class=\"data row3 col0\" >2020-04-30 00:00:00</td>\n",
       "                        <td id=\"T_16120e72_a8bc_11eb_84df_a45e60f3cb6drow3_col1\" class=\"data row3 col1\" >422442</td>\n",
       "                        <td id=\"T_16120e72_a8bc_11eb_84df_a45e60f3cb6drow3_col2\" class=\"data row3 col2\" >75443</td>\n",
       "                        <td id=\"T_16120e72_a8bc_11eb_84df_a45e60f3cb6drow3_col3\" class=\"data row3 col3\" >13270</td>\n",
       "                        <td id=\"T_16120e72_a8bc_11eb_84df_a45e60f3cb6drow3_col4\" class=\"data row3 col4\" >3.14126</td>\n",
       "            </tr>\n",
       "            <tr>\n",
       "                        <th id=\"T_16120e72_a8bc_11eb_84df_a45e60f3cb6dlevel0_row4\" class=\"row_heading level0 row4\" >4</th>\n",
       "                        <td id=\"T_16120e72_a8bc_11eb_84df_a45e60f3cb6drow4_col0\" class=\"data row4 col0\" >2020-05-31 00:00:00</td>\n",
       "                        <td id=\"T_16120e72_a8bc_11eb_84df_a45e60f3cb6drow4_col1\" class=\"data row4 col1\" >2938234</td>\n",
       "                        <td id=\"T_16120e72_a8bc_11eb_84df_a45e60f3cb6drow4_col2\" class=\"data row4 col2\" >1133341</td>\n",
       "                        <td id=\"T_16120e72_a8bc_11eb_84df_a45e60f3cb6drow4_col3\" class=\"data row4 col3\" >89834</td>\n",
       "                        <td id=\"T_16120e72_a8bc_11eb_84df_a45e60f3cb6drow4_col4\" class=\"data row4 col4\" >3.05741</td>\n",
       "            </tr>\n",
       "            <tr>\n",
       "                        <th id=\"T_16120e72_a8bc_11eb_84df_a45e60f3cb6dlevel0_row5\" class=\"row_heading level0 row5\" >5</th>\n",
       "                        <td id=\"T_16120e72_a8bc_11eb_84df_a45e60f3cb6drow5_col0\" class=\"data row5 col0\" >2020-06-30 00:00:00</td>\n",
       "                        <td id=\"T_16120e72_a8bc_11eb_84df_a45e60f3cb6drow5_col1\" class=\"data row5 col1\" >10558374</td>\n",
       "                        <td id=\"T_16120e72_a8bc_11eb_84df_a45e60f3cb6drow5_col2\" class=\"data row5 col2\" >5668946</td>\n",
       "                        <td id=\"T_16120e72_a8bc_11eb_84df_a45e60f3cb6drow5_col3\" class=\"data row5 col3\" >319690</td>\n",
       "                        <td id=\"T_16120e72_a8bc_11eb_84df_a45e60f3cb6drow5_col4\" class=\"data row5 col4\" >3.02783</td>\n",
       "            </tr>\n",
       "            <tr>\n",
       "                        <th id=\"T_16120e72_a8bc_11eb_84df_a45e60f3cb6dlevel0_row6\" class=\"row_heading level0 row6\" >6</th>\n",
       "                        <td id=\"T_16120e72_a8bc_11eb_84df_a45e60f3cb6drow6_col0\" class=\"data row6 col0\" >2020-07-31 00:00:00</td>\n",
       "                        <td id=\"T_16120e72_a8bc_11eb_84df_a45e60f3cb6drow6_col1\" class=\"data row6 col1\" >31726501</td>\n",
       "                        <td id=\"T_16120e72_a8bc_11eb_84df_a45e60f3cb6drow6_col2\" class=\"data row6 col2\" >19980130</td>\n",
       "                        <td id=\"T_16120e72_a8bc_11eb_84df_a45e60f3cb6drow6_col3\" class=\"data row6 col3\" >793511</td>\n",
       "                        <td id=\"T_16120e72_a8bc_11eb_84df_a45e60f3cb6drow6_col4\" class=\"data row6 col4\" >2.5011</td>\n",
       "            </tr>\n",
       "            <tr>\n",
       "                        <th id=\"T_16120e72_a8bc_11eb_84df_a45e60f3cb6dlevel0_row7\" class=\"row_heading level0 row7\" >7</th>\n",
       "                        <td id=\"T_16120e72_a8bc_11eb_84df_a45e60f3cb6drow7_col0\" class=\"data row7 col0\" >2020-08-31 00:00:00</td>\n",
       "                        <td id=\"T_16120e72_a8bc_11eb_84df_a45e60f3cb6drow7_col1\" class=\"data row7 col1\" >80749620</td>\n",
       "                        <td id=\"T_16120e72_a8bc_11eb_84df_a45e60f3cb6drow7_col2\" class=\"data row7 col2\" >58580895</td>\n",
       "                        <td id=\"T_16120e72_a8bc_11eb_84df_a45e60f3cb6drow7_col3\" class=\"data row7 col3\" >1553468</td>\n",
       "                        <td id=\"T_16120e72_a8bc_11eb_84df_a45e60f3cb6drow7_col4\" class=\"data row7 col4\" >1.92381</td>\n",
       "            </tr>\n",
       "            <tr>\n",
       "                        <th id=\"T_16120e72_a8bc_11eb_84df_a45e60f3cb6dlevel0_row8\" class=\"row_heading level0 row8\" >8</th>\n",
       "                        <td id=\"T_16120e72_a8bc_11eb_84df_a45e60f3cb6drow8_col0\" class=\"data row8 col0\" >2020-09-30 00:00:00</td>\n",
       "                        <td id=\"T_16120e72_a8bc_11eb_84df_a45e60f3cb6drow8_col1\" class=\"data row8 col1\" >149113758</td>\n",
       "                        <td id=\"T_16120e72_a8bc_11eb_84df_a45e60f3cb6drow8_col2\" class=\"data row8 col2\" >118592934</td>\n",
       "                        <td id=\"T_16120e72_a8bc_11eb_84df_a45e60f3cb6drow8_col3\" class=\"data row8 col3\" >2443374</td>\n",
       "                        <td id=\"T_16120e72_a8bc_11eb_84df_a45e60f3cb6drow8_col4\" class=\"data row8 col4\" >1.6386</td>\n",
       "            </tr>\n",
       "            <tr>\n",
       "                        <th id=\"T_16120e72_a8bc_11eb_84df_a45e60f3cb6dlevel0_row9\" class=\"row_heading level0 row9\" >9</th>\n",
       "                        <td id=\"T_16120e72_a8bc_11eb_84df_a45e60f3cb6drow9_col0\" class=\"data row9 col0\" >2020-10-31 00:00:00</td>\n",
       "                        <td id=\"T_16120e72_a8bc_11eb_84df_a45e60f3cb6drow9_col1\" class=\"data row9 col1\" >226770312</td>\n",
       "                        <td id=\"T_16120e72_a8bc_11eb_84df_a45e60f3cb6drow9_col2\" class=\"data row9 col2\" >198824412</td>\n",
       "                        <td id=\"T_16120e72_a8bc_11eb_84df_a45e60f3cb6drow9_col3\" class=\"data row9 col3\" >3457615</td>\n",
       "                        <td id=\"T_16120e72_a8bc_11eb_84df_a45e60f3cb6drow9_col4\" class=\"data row9 col4\" >1.52472</td>\n",
       "            </tr>\n",
       "            <tr>\n",
       "                        <th id=\"T_16120e72_a8bc_11eb_84df_a45e60f3cb6dlevel0_row10\" class=\"row_heading level0 row10\" >10</th>\n",
       "                        <td id=\"T_16120e72_a8bc_11eb_84df_a45e60f3cb6drow10_col0\" class=\"data row10 col0\" >2020-11-30 00:00:00</td>\n",
       "                        <td id=\"T_16120e72_a8bc_11eb_84df_a45e60f3cb6drow10_col1\" class=\"data row10 col1\" >264556412</td>\n",
       "                        <td id=\"T_16120e72_a8bc_11eb_84df_a45e60f3cb6drow10_col2\" class=\"data row10 col2\" >246213201</td>\n",
       "                        <td id=\"T_16120e72_a8bc_11eb_84df_a45e60f3cb6drow10_col3\" class=\"data row10 col3\" >3894165</td>\n",
       "                        <td id=\"T_16120e72_a8bc_11eb_84df_a45e60f3cb6drow10_col4\" class=\"data row10 col4\" >1.47196</td>\n",
       "            </tr>\n",
       "            <tr>\n",
       "                        <th id=\"T_16120e72_a8bc_11eb_84df_a45e60f3cb6dlevel0_row11\" class=\"row_heading level0 row11\" >11</th>\n",
       "                        <td id=\"T_16120e72_a8bc_11eb_84df_a45e60f3cb6drow11_col0\" class=\"data row11 col0\" >2020-12-31 00:00:00</td>\n",
       "                        <td id=\"T_16120e72_a8bc_11eb_84df_a45e60f3cb6drow11_col1\" class=\"data row11 col1\" >307177353</td>\n",
       "                        <td id=\"T_16120e72_a8bc_11eb_84df_a45e60f3cb6drow11_col2\" class=\"data row11 col2\" >292244085</td>\n",
       "                        <td id=\"T_16120e72_a8bc_11eb_84df_a45e60f3cb6drow11_col3\" class=\"data row11 col3\" >4457379</td>\n",
       "                        <td id=\"T_16120e72_a8bc_11eb_84df_a45e60f3cb6drow11_col4\" class=\"data row11 col4\" >1.45108</td>\n",
       "            </tr>\n",
       "            <tr>\n",
       "                        <th id=\"T_16120e72_a8bc_11eb_84df_a45e60f3cb6dlevel0_row12\" class=\"row_heading level0 row12\" >12</th>\n",
       "                        <td id=\"T_16120e72_a8bc_11eb_84df_a45e60f3cb6drow12_col0\" class=\"data row12 col0\" >2021-01-31 00:00:00</td>\n",
       "                        <td id=\"T_16120e72_a8bc_11eb_84df_a45e60f3cb6drow12_col1\" class=\"data row12 col1\" >326469747</td>\n",
       "                        <td id=\"T_16120e72_a8bc_11eb_84df_a45e60f3cb6drow12_col2\" class=\"data row12 col2\" >315332019</td>\n",
       "                        <td id=\"T_16120e72_a8bc_11eb_84df_a45e60f3cb6drow12_col3\" class=\"data row12 col3\" >4709167</td>\n",
       "                        <td id=\"T_16120e72_a8bc_11eb_84df_a45e60f3cb6drow12_col4\" class=\"data row12 col4\" >1.44245</td>\n",
       "            </tr>\n",
       "            <tr>\n",
       "                        <th id=\"T_16120e72_a8bc_11eb_84df_a45e60f3cb6dlevel0_row13\" class=\"row_heading level0 row13\" >13</th>\n",
       "                        <td id=\"T_16120e72_a8bc_11eb_84df_a45e60f3cb6drow13_col0\" class=\"data row13 col0\" >2021-02-28 00:00:00</td>\n",
       "                        <td id=\"T_16120e72_a8bc_11eb_84df_a45e60f3cb6drow13_col1\" class=\"data row13 col1\" >305631803</td>\n",
       "                        <td id=\"T_16120e72_a8bc_11eb_84df_a45e60f3cb6drow13_col2\" class=\"data row13 col2\" >297133802</td>\n",
       "                        <td id=\"T_16120e72_a8bc_11eb_84df_a45e60f3cb6drow13_col3\" class=\"data row13 col3\" >4359434</td>\n",
       "                        <td id=\"T_16120e72_a8bc_11eb_84df_a45e60f3cb6drow13_col4\" class=\"data row13 col4\" >1.42637</td>\n",
       "            </tr>\n",
       "            <tr>\n",
       "                        <th id=\"T_16120e72_a8bc_11eb_84df_a45e60f3cb6dlevel0_row14\" class=\"row_heading level0 row14\" >14</th>\n",
       "                        <td id=\"T_16120e72_a8bc_11eb_84df_a45e60f3cb6drow14_col0\" class=\"data row14 col0\" >2021-03-31 00:00:00</td>\n",
       "                        <td id=\"T_16120e72_a8bc_11eb_84df_a45e60f3cb6drow14_col1\" class=\"data row14 col1\" >356305616</td>\n",
       "                        <td id=\"T_16120e72_a8bc_11eb_84df_a45e60f3cb6drow14_col2\" class=\"data row14 col2\" >342610397</td>\n",
       "                        <td id=\"T_16120e72_a8bc_11eb_84df_a45e60f3cb6drow14_col3\" class=\"data row14 col3\" >4935253</td>\n",
       "                        <td id=\"T_16120e72_a8bc_11eb_84df_a45e60f3cb6drow14_col4\" class=\"data row14 col4\" >1.38512</td>\n",
       "            </tr>\n",
       "            <tr>\n",
       "                        <th id=\"T_16120e72_a8bc_11eb_84df_a45e60f3cb6dlevel0_row15\" class=\"row_heading level0 row15\" >15</th>\n",
       "                        <td id=\"T_16120e72_a8bc_11eb_84df_a45e60f3cb6drow15_col0\" class=\"data row15 col0\" >2021-04-30 00:00:00</td>\n",
       "                        <td id=\"T_16120e72_a8bc_11eb_84df_a45e60f3cb6drow15_col1\" class=\"data row15 col1\" >403521171</td>\n",
       "                        <td id=\"T_16120e72_a8bc_11eb_84df_a45e60f3cb6drow15_col2\" class=\"data row15 col2\" >354518894</td>\n",
       "                        <td id=\"T_16120e72_a8bc_11eb_84df_a45e60f3cb6drow15_col3\" class=\"data row15 col3\" >4927136</td>\n",
       "                        <td id=\"T_16120e72_a8bc_11eb_84df_a45e60f3cb6drow15_col4\" class=\"data row15 col4\" >1.22104</td>\n",
       "            </tr>\n",
       "    </tbody></table>"
      ],
      "text/plain": [
       "<pandas.io.formats.style.Styler at 0x7fe30c985f50>"
      ]
     },
     "execution_count": 77,
     "metadata": {},
     "output_type": "execute_result"
    }
   ],
   "source": [
    "month_wise = df.groupby(pd.Grouper(key='Date',freq='M')).sum()\n",
    "\n",
    "month_wise = month_wise.drop(['Sno'], axis = 1)\n",
    "month_wise['Date'] = month_wise.index\n",
    "\n",
    "first_column = month_wise.pop('Date')\n",
    "month_wise.insert(0, 'Date', first_column)\n",
    "\n",
    "index = [x for x in range(len(month_wise))]\n",
    "month_wise['index'] = index\n",
    "month_wise = month_wise.set_index('index')\n",
    "\n",
    "second_column = month_wise.pop('Confirmed')\n",
    "month_wise.insert(1, 'Confirmed', second_column)\n",
    "month_wise[\"Death_percentage\"] = ((month_wise[\"Deaths\"] / month_wise[\"Confirmed\"]) * 100)\n",
    "month_wise.style.background_gradient(cmap='twilight_shifted')"
   ]
  },
  {
   "cell_type": "markdown",
   "metadata": {},
   "source": [
    "### Monthwise - Confimed Cases"
   ]
  },
  {
   "cell_type": "code",
   "execution_count": 78,
   "metadata": {
    "scrolled": true
   },
   "outputs": [
    {
     "data": {
      "application/vnd.plotly.v1+json": {
       "config": {
        "plotlyServerURL": "https://plot.ly"
       },
       "data": [
        {
         "alignmentgroup": "True",
         "customdata": [
          [
           0,
           0
          ]
         ],
         "hovertemplate": "Date(monthwise)=%{x}<br>Confirmed=%{y}<br>Cured=%{customdata[0]}<br>Deaths=%{customdata[1]}<extra></extra>",
         "legendgroup": "2020-01-31 00:00:00",
         "marker": {
          "color": "#FF6692"
         },
         "name": "2020-01-31 00:00:00",
         "offsetgroup": "2020-01-31 00:00:00",
         "orientation": "v",
         "showlegend": true,
         "textposition": "auto",
         "type": "bar",
         "x": [
          "2020-01-31T00:00:00"
         ],
         "xaxis": "x",
         "y": [
          2
         ],
         "yaxis": "y"
        },
        {
         "alignmentgroup": "True",
         "customdata": [
          [
           0,
           0
          ]
         ],
         "hovertemplate": "Date(monthwise)=%{x}<br>Confirmed=%{y}<br>Cured=%{customdata[0]}<br>Deaths=%{customdata[1]}<extra></extra>",
         "legendgroup": "2020-02-29 00:00:00",
         "marker": {
          "color": "#B6E880"
         },
         "name": "2020-02-29 00:00:00",
         "offsetgroup": "2020-02-29 00:00:00",
         "orientation": "v",
         "showlegend": true,
         "textposition": "auto",
         "type": "bar",
         "x": [
          "2020-02-29T00:00:00"
         ],
         "xaxis": "x",
         "y": [
          86
         ],
         "yaxis": "y"
        },
        {
         "alignmentgroup": "True",
         "customdata": [
          [
           808,
           202
          ]
         ],
         "hovertemplate": "Date(monthwise)=%{x}<br>Confirmed=%{y}<br>Cured=%{customdata[0]}<br>Deaths=%{customdata[1]}<extra></extra>",
         "legendgroup": "2020-03-31 00:00:00",
         "marker": {
          "color": "#FF97FF"
         },
         "name": "2020-03-31 00:00:00",
         "offsetgroup": "2020-03-31 00:00:00",
         "orientation": "v",
         "showlegend": true,
         "textposition": "auto",
         "type": "bar",
         "x": [
          "2020-03-31T00:00:00"
         ],
         "xaxis": "x",
         "y": [
          9687
         ],
         "yaxis": "y"
        },
        {
         "alignmentgroup": "True",
         "customdata": [
          [
           75443,
           13270
          ]
         ],
         "hovertemplate": "Date(monthwise)=%{x}<br>Confirmed=%{y}<br>Cured=%{customdata[0]}<br>Deaths=%{customdata[1]}<extra></extra>",
         "legendgroup": "2020-04-30 00:00:00",
         "marker": {
          "color": "#FECB52"
         },
         "name": "2020-04-30 00:00:00",
         "offsetgroup": "2020-04-30 00:00:00",
         "orientation": "v",
         "showlegend": true,
         "textposition": "auto",
         "type": "bar",
         "x": [
          "2020-04-30T00:00:00"
         ],
         "xaxis": "x",
         "y": [
          422442
         ],
         "yaxis": "y"
        },
        {
         "alignmentgroup": "True",
         "customdata": [
          [
           1133341,
           89834
          ]
         ],
         "hovertemplate": "Date(monthwise)=%{x}<br>Confirmed=%{y}<br>Cured=%{customdata[0]}<br>Deaths=%{customdata[1]}<extra></extra>",
         "legendgroup": "2020-05-31 00:00:00",
         "marker": {
          "color": "#636efa"
         },
         "name": "2020-05-31 00:00:00",
         "offsetgroup": "2020-05-31 00:00:00",
         "orientation": "v",
         "showlegend": true,
         "textposition": "auto",
         "type": "bar",
         "x": [
          "2020-05-31T00:00:00"
         ],
         "xaxis": "x",
         "y": [
          2938234
         ],
         "yaxis": "y"
        },
        {
         "alignmentgroup": "True",
         "customdata": [
          [
           5668946,
           319690
          ]
         ],
         "hovertemplate": "Date(monthwise)=%{x}<br>Confirmed=%{y}<br>Cured=%{customdata[0]}<br>Deaths=%{customdata[1]}<extra></extra>",
         "legendgroup": "2020-06-30 00:00:00",
         "marker": {
          "color": "#EF553B"
         },
         "name": "2020-06-30 00:00:00",
         "offsetgroup": "2020-06-30 00:00:00",
         "orientation": "v",
         "showlegend": true,
         "textposition": "auto",
         "type": "bar",
         "x": [
          "2020-06-30T00:00:00"
         ],
         "xaxis": "x",
         "y": [
          10558374
         ],
         "yaxis": "y"
        },
        {
         "alignmentgroup": "True",
         "customdata": [
          [
           19980130,
           793511
          ]
         ],
         "hovertemplate": "Date(monthwise)=%{x}<br>Confirmed=%{y}<br>Cured=%{customdata[0]}<br>Deaths=%{customdata[1]}<extra></extra>",
         "legendgroup": "2020-07-31 00:00:00",
         "marker": {
          "color": "#00cc96"
         },
         "name": "2020-07-31 00:00:00",
         "offsetgroup": "2020-07-31 00:00:00",
         "orientation": "v",
         "showlegend": true,
         "textposition": "auto",
         "type": "bar",
         "x": [
          "2020-07-31T00:00:00"
         ],
         "xaxis": "x",
         "y": [
          31726501
         ],
         "yaxis": "y"
        },
        {
         "alignmentgroup": "True",
         "customdata": [
          [
           58580895,
           1553468
          ]
         ],
         "hovertemplate": "Date(monthwise)=%{x}<br>Confirmed=%{y}<br>Cured=%{customdata[0]}<br>Deaths=%{customdata[1]}<extra></extra>",
         "legendgroup": "2020-08-31 00:00:00",
         "marker": {
          "color": "#ab63fa"
         },
         "name": "2020-08-31 00:00:00",
         "offsetgroup": "2020-08-31 00:00:00",
         "orientation": "v",
         "showlegend": true,
         "textposition": "auto",
         "type": "bar",
         "x": [
          "2020-08-31T00:00:00"
         ],
         "xaxis": "x",
         "y": [
          80749620
         ],
         "yaxis": "y"
        },
        {
         "alignmentgroup": "True",
         "customdata": [
          [
           118592934,
           2443374
          ]
         ],
         "hovertemplate": "Date(monthwise)=%{x}<br>Confirmed=%{y}<br>Cured=%{customdata[0]}<br>Deaths=%{customdata[1]}<extra></extra>",
         "legendgroup": "2020-09-30 00:00:00",
         "marker": {
          "color": "#FFA15A"
         },
         "name": "2020-09-30 00:00:00",
         "offsetgroup": "2020-09-30 00:00:00",
         "orientation": "v",
         "showlegend": true,
         "textposition": "auto",
         "type": "bar",
         "x": [
          "2020-09-30T00:00:00"
         ],
         "xaxis": "x",
         "y": [
          149113758
         ],
         "yaxis": "y"
        },
        {
         "alignmentgroup": "True",
         "customdata": [
          [
           198824412,
           3457615
          ]
         ],
         "hovertemplate": "Date(monthwise)=%{x}<br>Confirmed=%{y}<br>Cured=%{customdata[0]}<br>Deaths=%{customdata[1]}<extra></extra>",
         "legendgroup": "2020-10-31 00:00:00",
         "marker": {
          "color": "#19d3f3"
         },
         "name": "2020-10-31 00:00:00",
         "offsetgroup": "2020-10-31 00:00:00",
         "orientation": "v",
         "showlegend": true,
         "textposition": "auto",
         "type": "bar",
         "x": [
          "2020-10-31T00:00:00"
         ],
         "xaxis": "x",
         "y": [
          226770312
         ],
         "yaxis": "y"
        },
        {
         "alignmentgroup": "True",
         "customdata": [
          [
           246213201,
           3894165
          ]
         ],
         "hovertemplate": "Date(monthwise)=%{x}<br>Confirmed=%{y}<br>Cured=%{customdata[0]}<br>Deaths=%{customdata[1]}<extra></extra>",
         "legendgroup": "2020-11-30 00:00:00",
         "marker": {
          "color": "#FF6692"
         },
         "name": "2020-11-30 00:00:00",
         "offsetgroup": "2020-11-30 00:00:00",
         "orientation": "v",
         "showlegend": true,
         "textposition": "auto",
         "type": "bar",
         "x": [
          "2020-11-30T00:00:00"
         ],
         "xaxis": "x",
         "y": [
          264556412
         ],
         "yaxis": "y"
        },
        {
         "alignmentgroup": "True",
         "customdata": [
          [
           292244085,
           4457379
          ]
         ],
         "hovertemplate": "Date(monthwise)=%{x}<br>Confirmed=%{y}<br>Cured=%{customdata[0]}<br>Deaths=%{customdata[1]}<extra></extra>",
         "legendgroup": "2020-12-31 00:00:00",
         "marker": {
          "color": "#B6E880"
         },
         "name": "2020-12-31 00:00:00",
         "offsetgroup": "2020-12-31 00:00:00",
         "orientation": "v",
         "showlegend": true,
         "textposition": "auto",
         "type": "bar",
         "x": [
          "2020-12-31T00:00:00"
         ],
         "xaxis": "x",
         "y": [
          307177353
         ],
         "yaxis": "y"
        },
        {
         "alignmentgroup": "True",
         "customdata": [
          [
           315332019,
           4709167
          ]
         ],
         "hovertemplate": "Date(monthwise)=%{x}<br>Confirmed=%{y}<br>Cured=%{customdata[0]}<br>Deaths=%{customdata[1]}<extra></extra>",
         "legendgroup": "2021-01-31 00:00:00",
         "marker": {
          "color": "#FF97FF"
         },
         "name": "2021-01-31 00:00:00",
         "offsetgroup": "2021-01-31 00:00:00",
         "orientation": "v",
         "showlegend": true,
         "textposition": "auto",
         "type": "bar",
         "x": [
          "2021-01-31T00:00:00"
         ],
         "xaxis": "x",
         "y": [
          326469747
         ],
         "yaxis": "y"
        },
        {
         "alignmentgroup": "True",
         "customdata": [
          [
           297133802,
           4359434
          ]
         ],
         "hovertemplate": "Date(monthwise)=%{x}<br>Confirmed=%{y}<br>Cured=%{customdata[0]}<br>Deaths=%{customdata[1]}<extra></extra>",
         "legendgroup": "2021-02-28 00:00:00",
         "marker": {
          "color": "#FECB52"
         },
         "name": "2021-02-28 00:00:00",
         "offsetgroup": "2021-02-28 00:00:00",
         "orientation": "v",
         "showlegend": true,
         "textposition": "auto",
         "type": "bar",
         "x": [
          "2021-02-28T00:00:00"
         ],
         "xaxis": "x",
         "y": [
          305631803
         ],
         "yaxis": "y"
        },
        {
         "alignmentgroup": "True",
         "customdata": [
          [
           342610397,
           4935253
          ]
         ],
         "hovertemplate": "Date(monthwise)=%{x}<br>Confirmed=%{y}<br>Cured=%{customdata[0]}<br>Deaths=%{customdata[1]}<extra></extra>",
         "legendgroup": "2021-03-31 00:00:00",
         "marker": {
          "color": "#636efa"
         },
         "name": "2021-03-31 00:00:00",
         "offsetgroup": "2021-03-31 00:00:00",
         "orientation": "v",
         "showlegend": true,
         "textposition": "auto",
         "type": "bar",
         "x": [
          "2021-03-31T00:00:00"
         ],
         "xaxis": "x",
         "y": [
          356305616
         ],
         "yaxis": "y"
        },
        {
         "alignmentgroup": "True",
         "customdata": [
          [
           354518894,
           4927136
          ]
         ],
         "hovertemplate": "Date(monthwise)=%{x}<br>Confirmed=%{y}<br>Cured=%{customdata[0]}<br>Deaths=%{customdata[1]}<extra></extra>",
         "legendgroup": "2021-04-30 00:00:00",
         "marker": {
          "color": "#EF553B"
         },
         "name": "2021-04-30 00:00:00",
         "offsetgroup": "2021-04-30 00:00:00",
         "orientation": "v",
         "showlegend": true,
         "textposition": "auto",
         "type": "bar",
         "x": [
          "2021-04-30T00:00:00"
         ],
         "xaxis": "x",
         "y": [
          403521171
         ],
         "yaxis": "y"
        }
       ],
       "layout": {
        "barmode": "relative",
        "height": 600,
        "legend": {
         "title": {
          "text": "Date(monthwise)"
         },
         "tracegroupgap": 0
        },
        "template": {
         "data": {
          "bar": [
           {
            "error_x": {
             "color": "#2a3f5f"
            },
            "error_y": {
             "color": "#2a3f5f"
            },
            "marker": {
             "line": {
              "color": "#E5ECF6",
              "width": 0.5
             }
            },
            "type": "bar"
           }
          ],
          "barpolar": [
           {
            "marker": {
             "line": {
              "color": "#E5ECF6",
              "width": 0.5
             }
            },
            "type": "barpolar"
           }
          ],
          "carpet": [
           {
            "aaxis": {
             "endlinecolor": "#2a3f5f",
             "gridcolor": "white",
             "linecolor": "white",
             "minorgridcolor": "white",
             "startlinecolor": "#2a3f5f"
            },
            "baxis": {
             "endlinecolor": "#2a3f5f",
             "gridcolor": "white",
             "linecolor": "white",
             "minorgridcolor": "white",
             "startlinecolor": "#2a3f5f"
            },
            "type": "carpet"
           }
          ],
          "choropleth": [
           {
            "colorbar": {
             "outlinewidth": 0,
             "ticks": ""
            },
            "type": "choropleth"
           }
          ],
          "contour": [
           {
            "colorbar": {
             "outlinewidth": 0,
             "ticks": ""
            },
            "colorscale": [
             [
              0,
              "#0d0887"
             ],
             [
              0.1111111111111111,
              "#46039f"
             ],
             [
              0.2222222222222222,
              "#7201a8"
             ],
             [
              0.3333333333333333,
              "#9c179e"
             ],
             [
              0.4444444444444444,
              "#bd3786"
             ],
             [
              0.5555555555555556,
              "#d8576b"
             ],
             [
              0.6666666666666666,
              "#ed7953"
             ],
             [
              0.7777777777777778,
              "#fb9f3a"
             ],
             [
              0.8888888888888888,
              "#fdca26"
             ],
             [
              1,
              "#f0f921"
             ]
            ],
            "type": "contour"
           }
          ],
          "contourcarpet": [
           {
            "colorbar": {
             "outlinewidth": 0,
             "ticks": ""
            },
            "type": "contourcarpet"
           }
          ],
          "heatmap": [
           {
            "colorbar": {
             "outlinewidth": 0,
             "ticks": ""
            },
            "colorscale": [
             [
              0,
              "#0d0887"
             ],
             [
              0.1111111111111111,
              "#46039f"
             ],
             [
              0.2222222222222222,
              "#7201a8"
             ],
             [
              0.3333333333333333,
              "#9c179e"
             ],
             [
              0.4444444444444444,
              "#bd3786"
             ],
             [
              0.5555555555555556,
              "#d8576b"
             ],
             [
              0.6666666666666666,
              "#ed7953"
             ],
             [
              0.7777777777777778,
              "#fb9f3a"
             ],
             [
              0.8888888888888888,
              "#fdca26"
             ],
             [
              1,
              "#f0f921"
             ]
            ],
            "type": "heatmap"
           }
          ],
          "heatmapgl": [
           {
            "colorbar": {
             "outlinewidth": 0,
             "ticks": ""
            },
            "colorscale": [
             [
              0,
              "#0d0887"
             ],
             [
              0.1111111111111111,
              "#46039f"
             ],
             [
              0.2222222222222222,
              "#7201a8"
             ],
             [
              0.3333333333333333,
              "#9c179e"
             ],
             [
              0.4444444444444444,
              "#bd3786"
             ],
             [
              0.5555555555555556,
              "#d8576b"
             ],
             [
              0.6666666666666666,
              "#ed7953"
             ],
             [
              0.7777777777777778,
              "#fb9f3a"
             ],
             [
              0.8888888888888888,
              "#fdca26"
             ],
             [
              1,
              "#f0f921"
             ]
            ],
            "type": "heatmapgl"
           }
          ],
          "histogram": [
           {
            "marker": {
             "colorbar": {
              "outlinewidth": 0,
              "ticks": ""
             }
            },
            "type": "histogram"
           }
          ],
          "histogram2d": [
           {
            "colorbar": {
             "outlinewidth": 0,
             "ticks": ""
            },
            "colorscale": [
             [
              0,
              "#0d0887"
             ],
             [
              0.1111111111111111,
              "#46039f"
             ],
             [
              0.2222222222222222,
              "#7201a8"
             ],
             [
              0.3333333333333333,
              "#9c179e"
             ],
             [
              0.4444444444444444,
              "#bd3786"
             ],
             [
              0.5555555555555556,
              "#d8576b"
             ],
             [
              0.6666666666666666,
              "#ed7953"
             ],
             [
              0.7777777777777778,
              "#fb9f3a"
             ],
             [
              0.8888888888888888,
              "#fdca26"
             ],
             [
              1,
              "#f0f921"
             ]
            ],
            "type": "histogram2d"
           }
          ],
          "histogram2dcontour": [
           {
            "colorbar": {
             "outlinewidth": 0,
             "ticks": ""
            },
            "colorscale": [
             [
              0,
              "#0d0887"
             ],
             [
              0.1111111111111111,
              "#46039f"
             ],
             [
              0.2222222222222222,
              "#7201a8"
             ],
             [
              0.3333333333333333,
              "#9c179e"
             ],
             [
              0.4444444444444444,
              "#bd3786"
             ],
             [
              0.5555555555555556,
              "#d8576b"
             ],
             [
              0.6666666666666666,
              "#ed7953"
             ],
             [
              0.7777777777777778,
              "#fb9f3a"
             ],
             [
              0.8888888888888888,
              "#fdca26"
             ],
             [
              1,
              "#f0f921"
             ]
            ],
            "type": "histogram2dcontour"
           }
          ],
          "mesh3d": [
           {
            "colorbar": {
             "outlinewidth": 0,
             "ticks": ""
            },
            "type": "mesh3d"
           }
          ],
          "parcoords": [
           {
            "line": {
             "colorbar": {
              "outlinewidth": 0,
              "ticks": ""
             }
            },
            "type": "parcoords"
           }
          ],
          "pie": [
           {
            "automargin": true,
            "type": "pie"
           }
          ],
          "scatter": [
           {
            "marker": {
             "colorbar": {
              "outlinewidth": 0,
              "ticks": ""
             }
            },
            "type": "scatter"
           }
          ],
          "scatter3d": [
           {
            "line": {
             "colorbar": {
              "outlinewidth": 0,
              "ticks": ""
             }
            },
            "marker": {
             "colorbar": {
              "outlinewidth": 0,
              "ticks": ""
             }
            },
            "type": "scatter3d"
           }
          ],
          "scattercarpet": [
           {
            "marker": {
             "colorbar": {
              "outlinewidth": 0,
              "ticks": ""
             }
            },
            "type": "scattercarpet"
           }
          ],
          "scattergeo": [
           {
            "marker": {
             "colorbar": {
              "outlinewidth": 0,
              "ticks": ""
             }
            },
            "type": "scattergeo"
           }
          ],
          "scattergl": [
           {
            "marker": {
             "colorbar": {
              "outlinewidth": 0,
              "ticks": ""
             }
            },
            "type": "scattergl"
           }
          ],
          "scattermapbox": [
           {
            "marker": {
             "colorbar": {
              "outlinewidth": 0,
              "ticks": ""
             }
            },
            "type": "scattermapbox"
           }
          ],
          "scatterpolar": [
           {
            "marker": {
             "colorbar": {
              "outlinewidth": 0,
              "ticks": ""
             }
            },
            "type": "scatterpolar"
           }
          ],
          "scatterpolargl": [
           {
            "marker": {
             "colorbar": {
              "outlinewidth": 0,
              "ticks": ""
             }
            },
            "type": "scatterpolargl"
           }
          ],
          "scatterternary": [
           {
            "marker": {
             "colorbar": {
              "outlinewidth": 0,
              "ticks": ""
             }
            },
            "type": "scatterternary"
           }
          ],
          "surface": [
           {
            "colorbar": {
             "outlinewidth": 0,
             "ticks": ""
            },
            "colorscale": [
             [
              0,
              "#0d0887"
             ],
             [
              0.1111111111111111,
              "#46039f"
             ],
             [
              0.2222222222222222,
              "#7201a8"
             ],
             [
              0.3333333333333333,
              "#9c179e"
             ],
             [
              0.4444444444444444,
              "#bd3786"
             ],
             [
              0.5555555555555556,
              "#d8576b"
             ],
             [
              0.6666666666666666,
              "#ed7953"
             ],
             [
              0.7777777777777778,
              "#fb9f3a"
             ],
             [
              0.8888888888888888,
              "#fdca26"
             ],
             [
              1,
              "#f0f921"
             ]
            ],
            "type": "surface"
           }
          ],
          "table": [
           {
            "cells": {
             "fill": {
              "color": "#EBF0F8"
             },
             "line": {
              "color": "white"
             }
            },
            "header": {
             "fill": {
              "color": "#C8D4E3"
             },
             "line": {
              "color": "white"
             }
            },
            "type": "table"
           }
          ]
         },
         "layout": {
          "annotationdefaults": {
           "arrowcolor": "#2a3f5f",
           "arrowhead": 0,
           "arrowwidth": 1
          },
          "autotypenumbers": "strict",
          "coloraxis": {
           "colorbar": {
            "outlinewidth": 0,
            "ticks": ""
           }
          },
          "colorscale": {
           "diverging": [
            [
             0,
             "#8e0152"
            ],
            [
             0.1,
             "#c51b7d"
            ],
            [
             0.2,
             "#de77ae"
            ],
            [
             0.3,
             "#f1b6da"
            ],
            [
             0.4,
             "#fde0ef"
            ],
            [
             0.5,
             "#f7f7f7"
            ],
            [
             0.6,
             "#e6f5d0"
            ],
            [
             0.7,
             "#b8e186"
            ],
            [
             0.8,
             "#7fbc41"
            ],
            [
             0.9,
             "#4d9221"
            ],
            [
             1,
             "#276419"
            ]
           ],
           "sequential": [
            [
             0,
             "#0d0887"
            ],
            [
             0.1111111111111111,
             "#46039f"
            ],
            [
             0.2222222222222222,
             "#7201a8"
            ],
            [
             0.3333333333333333,
             "#9c179e"
            ],
            [
             0.4444444444444444,
             "#bd3786"
            ],
            [
             0.5555555555555556,
             "#d8576b"
            ],
            [
             0.6666666666666666,
             "#ed7953"
            ],
            [
             0.7777777777777778,
             "#fb9f3a"
            ],
            [
             0.8888888888888888,
             "#fdca26"
            ],
            [
             1,
             "#f0f921"
            ]
           ],
           "sequentialminus": [
            [
             0,
             "#0d0887"
            ],
            [
             0.1111111111111111,
             "#46039f"
            ],
            [
             0.2222222222222222,
             "#7201a8"
            ],
            [
             0.3333333333333333,
             "#9c179e"
            ],
            [
             0.4444444444444444,
             "#bd3786"
            ],
            [
             0.5555555555555556,
             "#d8576b"
            ],
            [
             0.6666666666666666,
             "#ed7953"
            ],
            [
             0.7777777777777778,
             "#fb9f3a"
            ],
            [
             0.8888888888888888,
             "#fdca26"
            ],
            [
             1,
             "#f0f921"
            ]
           ]
          },
          "colorway": [
           "#636efa",
           "#EF553B",
           "#00cc96",
           "#ab63fa",
           "#FFA15A",
           "#19d3f3",
           "#FF6692",
           "#B6E880",
           "#FF97FF",
           "#FECB52"
          ],
          "font": {
           "color": "#2a3f5f"
          },
          "geo": {
           "bgcolor": "white",
           "lakecolor": "white",
           "landcolor": "#E5ECF6",
           "showlakes": true,
           "showland": true,
           "subunitcolor": "white"
          },
          "hoverlabel": {
           "align": "left"
          },
          "hovermode": "closest",
          "mapbox": {
           "style": "light"
          },
          "paper_bgcolor": "white",
          "plot_bgcolor": "#E5ECF6",
          "polar": {
           "angularaxis": {
            "gridcolor": "white",
            "linecolor": "white",
            "ticks": ""
           },
           "bgcolor": "#E5ECF6",
           "radialaxis": {
            "gridcolor": "white",
            "linecolor": "white",
            "ticks": ""
           }
          },
          "scene": {
           "xaxis": {
            "backgroundcolor": "#E5ECF6",
            "gridcolor": "white",
            "gridwidth": 2,
            "linecolor": "white",
            "showbackground": true,
            "ticks": "",
            "zerolinecolor": "white"
           },
           "yaxis": {
            "backgroundcolor": "#E5ECF6",
            "gridcolor": "white",
            "gridwidth": 2,
            "linecolor": "white",
            "showbackground": true,
            "ticks": "",
            "zerolinecolor": "white"
           },
           "zaxis": {
            "backgroundcolor": "#E5ECF6",
            "gridcolor": "white",
            "gridwidth": 2,
            "linecolor": "white",
            "showbackground": true,
            "ticks": "",
            "zerolinecolor": "white"
           }
          },
          "shapedefaults": {
           "line": {
            "color": "#2a3f5f"
           }
          },
          "ternary": {
           "aaxis": {
            "gridcolor": "white",
            "linecolor": "white",
            "ticks": ""
           },
           "baxis": {
            "gridcolor": "white",
            "linecolor": "white",
            "ticks": ""
           },
           "bgcolor": "#E5ECF6",
           "caxis": {
            "gridcolor": "white",
            "linecolor": "white",
            "ticks": ""
           }
          },
          "title": {
           "x": 0.05
          },
          "xaxis": {
           "automargin": true,
           "gridcolor": "white",
           "linecolor": "white",
           "ticks": "",
           "title": {
            "standoff": 15
           },
           "zerolinecolor": "white",
           "zerolinewidth": 2
          },
          "yaxis": {
           "automargin": true,
           "gridcolor": "white",
           "linecolor": "white",
           "ticks": "",
           "title": {
            "standoff": 15
           },
           "zerolinecolor": "white",
           "zerolinewidth": 2
          }
         }
        },
        "title": {
         "text": "Monthwise Increase in Confirmed cases"
        },
        "xaxis": {
         "anchor": "y",
         "categoryarray": [
          1580428800000000000,
          1582934400000000000,
          1585612800000000000,
          1588204800000000000,
          1590883200000000000,
          1593475200000000000,
          1596153600000000000,
          1598832000000000000,
          1601424000000000000,
          1604102400000000000,
          1606694400000000000,
          1609372800000000000,
          1612051200000000000,
          1614470400000000000,
          1617148800000000000,
          1619740800000000000
         ],
         "categoryorder": "array",
         "domain": [
          0,
          1
         ],
         "title": {
          "text": "Date(monthwise)"
         }
        },
        "yaxis": {
         "anchor": "x",
         "domain": [
          0,
          1
         ],
         "title": {
          "text": "Confirmed"
         }
        }
       }
      },
      "text/html": [
       "<div>                            <div id=\"926f5ed8-fc82-4b93-b83a-9f212b410018\" class=\"plotly-graph-div\" style=\"height:600px; width:100%;\"></div>            <script type=\"text/javascript\">                require([\"plotly\"], function(Plotly) {                    window.PLOTLYENV=window.PLOTLYENV || {};                                    if (document.getElementById(\"926f5ed8-fc82-4b93-b83a-9f212b410018\")) {                    Plotly.newPlot(                        \"926f5ed8-fc82-4b93-b83a-9f212b410018\",                        [{\"alignmentgroup\": \"True\", \"customdata\": [[0, 0]], \"hovertemplate\": \"Date(monthwise)=%{x}<br>Confirmed=%{y}<br>Cured=%{customdata[0]}<br>Deaths=%{customdata[1]}<extra></extra>\", \"legendgroup\": \"2020-01-31 00:00:00\", \"marker\": {\"color\": \"#FF6692\"}, \"name\": \"2020-01-31 00:00:00\", \"offsetgroup\": \"2020-01-31 00:00:00\", \"orientation\": \"v\", \"showlegend\": true, \"textposition\": \"auto\", \"type\": \"bar\", \"x\": [\"2020-01-31T00:00:00\"], \"xaxis\": \"x\", \"y\": [2], \"yaxis\": \"y\"}, {\"alignmentgroup\": \"True\", \"customdata\": [[0, 0]], \"hovertemplate\": \"Date(monthwise)=%{x}<br>Confirmed=%{y}<br>Cured=%{customdata[0]}<br>Deaths=%{customdata[1]}<extra></extra>\", \"legendgroup\": \"2020-02-29 00:00:00\", \"marker\": {\"color\": \"#B6E880\"}, \"name\": \"2020-02-29 00:00:00\", \"offsetgroup\": \"2020-02-29 00:00:00\", \"orientation\": \"v\", \"showlegend\": true, \"textposition\": \"auto\", \"type\": \"bar\", \"x\": [\"2020-02-29T00:00:00\"], \"xaxis\": \"x\", \"y\": [86], \"yaxis\": \"y\"}, {\"alignmentgroup\": \"True\", \"customdata\": [[808, 202]], \"hovertemplate\": \"Date(monthwise)=%{x}<br>Confirmed=%{y}<br>Cured=%{customdata[0]}<br>Deaths=%{customdata[1]}<extra></extra>\", \"legendgroup\": \"2020-03-31 00:00:00\", \"marker\": {\"color\": \"#FF97FF\"}, \"name\": \"2020-03-31 00:00:00\", \"offsetgroup\": \"2020-03-31 00:00:00\", \"orientation\": \"v\", \"showlegend\": true, \"textposition\": \"auto\", \"type\": \"bar\", \"x\": [\"2020-03-31T00:00:00\"], \"xaxis\": \"x\", \"y\": [9687], \"yaxis\": \"y\"}, {\"alignmentgroup\": \"True\", \"customdata\": [[75443, 13270]], \"hovertemplate\": \"Date(monthwise)=%{x}<br>Confirmed=%{y}<br>Cured=%{customdata[0]}<br>Deaths=%{customdata[1]}<extra></extra>\", \"legendgroup\": \"2020-04-30 00:00:00\", \"marker\": {\"color\": \"#FECB52\"}, \"name\": \"2020-04-30 00:00:00\", \"offsetgroup\": \"2020-04-30 00:00:00\", \"orientation\": \"v\", \"showlegend\": true, \"textposition\": \"auto\", \"type\": \"bar\", \"x\": [\"2020-04-30T00:00:00\"], \"xaxis\": \"x\", \"y\": [422442], \"yaxis\": \"y\"}, {\"alignmentgroup\": \"True\", \"customdata\": [[1133341, 89834]], \"hovertemplate\": \"Date(monthwise)=%{x}<br>Confirmed=%{y}<br>Cured=%{customdata[0]}<br>Deaths=%{customdata[1]}<extra></extra>\", \"legendgroup\": \"2020-05-31 00:00:00\", \"marker\": {\"color\": \"#636efa\"}, \"name\": \"2020-05-31 00:00:00\", \"offsetgroup\": \"2020-05-31 00:00:00\", \"orientation\": \"v\", \"showlegend\": true, \"textposition\": \"auto\", \"type\": \"bar\", \"x\": [\"2020-05-31T00:00:00\"], \"xaxis\": \"x\", \"y\": [2938234], \"yaxis\": \"y\"}, {\"alignmentgroup\": \"True\", \"customdata\": [[5668946, 319690]], \"hovertemplate\": \"Date(monthwise)=%{x}<br>Confirmed=%{y}<br>Cured=%{customdata[0]}<br>Deaths=%{customdata[1]}<extra></extra>\", \"legendgroup\": \"2020-06-30 00:00:00\", \"marker\": {\"color\": \"#EF553B\"}, \"name\": \"2020-06-30 00:00:00\", \"offsetgroup\": \"2020-06-30 00:00:00\", \"orientation\": \"v\", \"showlegend\": true, \"textposition\": \"auto\", \"type\": \"bar\", \"x\": [\"2020-06-30T00:00:00\"], \"xaxis\": \"x\", \"y\": [10558374], \"yaxis\": \"y\"}, {\"alignmentgroup\": \"True\", \"customdata\": [[19980130, 793511]], \"hovertemplate\": \"Date(monthwise)=%{x}<br>Confirmed=%{y}<br>Cured=%{customdata[0]}<br>Deaths=%{customdata[1]}<extra></extra>\", \"legendgroup\": \"2020-07-31 00:00:00\", \"marker\": {\"color\": \"#00cc96\"}, \"name\": \"2020-07-31 00:00:00\", \"offsetgroup\": \"2020-07-31 00:00:00\", \"orientation\": \"v\", \"showlegend\": true, \"textposition\": \"auto\", \"type\": \"bar\", \"x\": [\"2020-07-31T00:00:00\"], \"xaxis\": \"x\", \"y\": [31726501], \"yaxis\": \"y\"}, {\"alignmentgroup\": \"True\", \"customdata\": [[58580895, 1553468]], \"hovertemplate\": \"Date(monthwise)=%{x}<br>Confirmed=%{y}<br>Cured=%{customdata[0]}<br>Deaths=%{customdata[1]}<extra></extra>\", \"legendgroup\": \"2020-08-31 00:00:00\", \"marker\": {\"color\": \"#ab63fa\"}, \"name\": \"2020-08-31 00:00:00\", \"offsetgroup\": \"2020-08-31 00:00:00\", \"orientation\": \"v\", \"showlegend\": true, \"textposition\": \"auto\", \"type\": \"bar\", \"x\": [\"2020-08-31T00:00:00\"], \"xaxis\": \"x\", \"y\": [80749620], \"yaxis\": \"y\"}, {\"alignmentgroup\": \"True\", \"customdata\": [[118592934, 2443374]], \"hovertemplate\": \"Date(monthwise)=%{x}<br>Confirmed=%{y}<br>Cured=%{customdata[0]}<br>Deaths=%{customdata[1]}<extra></extra>\", \"legendgroup\": \"2020-09-30 00:00:00\", \"marker\": {\"color\": \"#FFA15A\"}, \"name\": \"2020-09-30 00:00:00\", \"offsetgroup\": \"2020-09-30 00:00:00\", \"orientation\": \"v\", \"showlegend\": true, \"textposition\": \"auto\", \"type\": \"bar\", \"x\": [\"2020-09-30T00:00:00\"], \"xaxis\": \"x\", \"y\": [149113758], \"yaxis\": \"y\"}, {\"alignmentgroup\": \"True\", \"customdata\": [[198824412, 3457615]], \"hovertemplate\": \"Date(monthwise)=%{x}<br>Confirmed=%{y}<br>Cured=%{customdata[0]}<br>Deaths=%{customdata[1]}<extra></extra>\", \"legendgroup\": \"2020-10-31 00:00:00\", \"marker\": {\"color\": \"#19d3f3\"}, \"name\": \"2020-10-31 00:00:00\", \"offsetgroup\": \"2020-10-31 00:00:00\", \"orientation\": \"v\", \"showlegend\": true, \"textposition\": \"auto\", \"type\": \"bar\", \"x\": [\"2020-10-31T00:00:00\"], \"xaxis\": \"x\", \"y\": [226770312], \"yaxis\": \"y\"}, {\"alignmentgroup\": \"True\", \"customdata\": [[246213201, 3894165]], \"hovertemplate\": \"Date(monthwise)=%{x}<br>Confirmed=%{y}<br>Cured=%{customdata[0]}<br>Deaths=%{customdata[1]}<extra></extra>\", \"legendgroup\": \"2020-11-30 00:00:00\", \"marker\": {\"color\": \"#FF6692\"}, \"name\": \"2020-11-30 00:00:00\", \"offsetgroup\": \"2020-11-30 00:00:00\", \"orientation\": \"v\", \"showlegend\": true, \"textposition\": \"auto\", \"type\": \"bar\", \"x\": [\"2020-11-30T00:00:00\"], \"xaxis\": \"x\", \"y\": [264556412], \"yaxis\": \"y\"}, {\"alignmentgroup\": \"True\", \"customdata\": [[292244085, 4457379]], \"hovertemplate\": \"Date(monthwise)=%{x}<br>Confirmed=%{y}<br>Cured=%{customdata[0]}<br>Deaths=%{customdata[1]}<extra></extra>\", \"legendgroup\": \"2020-12-31 00:00:00\", \"marker\": {\"color\": \"#B6E880\"}, \"name\": \"2020-12-31 00:00:00\", \"offsetgroup\": \"2020-12-31 00:00:00\", \"orientation\": \"v\", \"showlegend\": true, \"textposition\": \"auto\", \"type\": \"bar\", \"x\": [\"2020-12-31T00:00:00\"], \"xaxis\": \"x\", \"y\": [307177353], \"yaxis\": \"y\"}, {\"alignmentgroup\": \"True\", \"customdata\": [[315332019, 4709167]], \"hovertemplate\": \"Date(monthwise)=%{x}<br>Confirmed=%{y}<br>Cured=%{customdata[0]}<br>Deaths=%{customdata[1]}<extra></extra>\", \"legendgroup\": \"2021-01-31 00:00:00\", \"marker\": {\"color\": \"#FF97FF\"}, \"name\": \"2021-01-31 00:00:00\", \"offsetgroup\": \"2021-01-31 00:00:00\", \"orientation\": \"v\", \"showlegend\": true, \"textposition\": \"auto\", \"type\": \"bar\", \"x\": [\"2021-01-31T00:00:00\"], \"xaxis\": \"x\", \"y\": [326469747], \"yaxis\": \"y\"}, {\"alignmentgroup\": \"True\", \"customdata\": [[297133802, 4359434]], \"hovertemplate\": \"Date(monthwise)=%{x}<br>Confirmed=%{y}<br>Cured=%{customdata[0]}<br>Deaths=%{customdata[1]}<extra></extra>\", \"legendgroup\": \"2021-02-28 00:00:00\", \"marker\": {\"color\": \"#FECB52\"}, \"name\": \"2021-02-28 00:00:00\", \"offsetgroup\": \"2021-02-28 00:00:00\", \"orientation\": \"v\", \"showlegend\": true, \"textposition\": \"auto\", \"type\": \"bar\", \"x\": [\"2021-02-28T00:00:00\"], \"xaxis\": \"x\", \"y\": [305631803], \"yaxis\": \"y\"}, {\"alignmentgroup\": \"True\", \"customdata\": [[342610397, 4935253]], \"hovertemplate\": \"Date(monthwise)=%{x}<br>Confirmed=%{y}<br>Cured=%{customdata[0]}<br>Deaths=%{customdata[1]}<extra></extra>\", \"legendgroup\": \"2021-03-31 00:00:00\", \"marker\": {\"color\": \"#636efa\"}, \"name\": \"2021-03-31 00:00:00\", \"offsetgroup\": \"2021-03-31 00:00:00\", \"orientation\": \"v\", \"showlegend\": true, \"textposition\": \"auto\", \"type\": \"bar\", \"x\": [\"2021-03-31T00:00:00\"], \"xaxis\": \"x\", \"y\": [356305616], \"yaxis\": \"y\"}, {\"alignmentgroup\": \"True\", \"customdata\": [[354518894, 4927136]], \"hovertemplate\": \"Date(monthwise)=%{x}<br>Confirmed=%{y}<br>Cured=%{customdata[0]}<br>Deaths=%{customdata[1]}<extra></extra>\", \"legendgroup\": \"2021-04-30 00:00:00\", \"marker\": {\"color\": \"#EF553B\"}, \"name\": \"2021-04-30 00:00:00\", \"offsetgroup\": \"2021-04-30 00:00:00\", \"orientation\": \"v\", \"showlegend\": true, \"textposition\": \"auto\", \"type\": \"bar\", \"x\": [\"2021-04-30T00:00:00\"], \"xaxis\": \"x\", \"y\": [403521171], \"yaxis\": \"y\"}],                        {\"barmode\": \"relative\", \"height\": 600, \"legend\": {\"title\": {\"text\": \"Date(monthwise)\"}, \"tracegroupgap\": 0}, \"template\": {\"data\": {\"bar\": [{\"error_x\": {\"color\": \"#2a3f5f\"}, \"error_y\": {\"color\": \"#2a3f5f\"}, \"marker\": {\"line\": {\"color\": \"#E5ECF6\", \"width\": 0.5}}, \"type\": \"bar\"}], \"barpolar\": [{\"marker\": {\"line\": {\"color\": \"#E5ECF6\", \"width\": 0.5}}, \"type\": \"barpolar\"}], \"carpet\": [{\"aaxis\": {\"endlinecolor\": \"#2a3f5f\", \"gridcolor\": \"white\", \"linecolor\": \"white\", \"minorgridcolor\": \"white\", \"startlinecolor\": \"#2a3f5f\"}, \"baxis\": {\"endlinecolor\": \"#2a3f5f\", \"gridcolor\": \"white\", \"linecolor\": \"white\", \"minorgridcolor\": \"white\", \"startlinecolor\": \"#2a3f5f\"}, \"type\": \"carpet\"}], \"choropleth\": [{\"colorbar\": {\"outlinewidth\": 0, \"ticks\": \"\"}, \"type\": \"choropleth\"}], \"contour\": [{\"colorbar\": {\"outlinewidth\": 0, \"ticks\": \"\"}, \"colorscale\": [[0.0, \"#0d0887\"], [0.1111111111111111, \"#46039f\"], [0.2222222222222222, \"#7201a8\"], [0.3333333333333333, \"#9c179e\"], [0.4444444444444444, \"#bd3786\"], [0.5555555555555556, \"#d8576b\"], [0.6666666666666666, \"#ed7953\"], [0.7777777777777778, \"#fb9f3a\"], [0.8888888888888888, \"#fdca26\"], [1.0, \"#f0f921\"]], \"type\": \"contour\"}], \"contourcarpet\": [{\"colorbar\": {\"outlinewidth\": 0, \"ticks\": \"\"}, \"type\": \"contourcarpet\"}], \"heatmap\": [{\"colorbar\": {\"outlinewidth\": 0, \"ticks\": \"\"}, \"colorscale\": [[0.0, \"#0d0887\"], [0.1111111111111111, \"#46039f\"], [0.2222222222222222, \"#7201a8\"], [0.3333333333333333, \"#9c179e\"], [0.4444444444444444, \"#bd3786\"], [0.5555555555555556, \"#d8576b\"], [0.6666666666666666, \"#ed7953\"], [0.7777777777777778, \"#fb9f3a\"], [0.8888888888888888, \"#fdca26\"], [1.0, \"#f0f921\"]], \"type\": \"heatmap\"}], \"heatmapgl\": [{\"colorbar\": {\"outlinewidth\": 0, \"ticks\": \"\"}, \"colorscale\": [[0.0, \"#0d0887\"], [0.1111111111111111, \"#46039f\"], [0.2222222222222222, \"#7201a8\"], [0.3333333333333333, \"#9c179e\"], [0.4444444444444444, \"#bd3786\"], [0.5555555555555556, \"#d8576b\"], [0.6666666666666666, \"#ed7953\"], [0.7777777777777778, \"#fb9f3a\"], [0.8888888888888888, \"#fdca26\"], [1.0, \"#f0f921\"]], \"type\": \"heatmapgl\"}], \"histogram\": [{\"marker\": {\"colorbar\": {\"outlinewidth\": 0, \"ticks\": \"\"}}, \"type\": \"histogram\"}], \"histogram2d\": [{\"colorbar\": {\"outlinewidth\": 0, \"ticks\": \"\"}, \"colorscale\": [[0.0, \"#0d0887\"], [0.1111111111111111, \"#46039f\"], [0.2222222222222222, \"#7201a8\"], [0.3333333333333333, \"#9c179e\"], [0.4444444444444444, \"#bd3786\"], [0.5555555555555556, \"#d8576b\"], [0.6666666666666666, \"#ed7953\"], [0.7777777777777778, \"#fb9f3a\"], [0.8888888888888888, \"#fdca26\"], [1.0, \"#f0f921\"]], \"type\": \"histogram2d\"}], \"histogram2dcontour\": [{\"colorbar\": {\"outlinewidth\": 0, \"ticks\": \"\"}, \"colorscale\": [[0.0, \"#0d0887\"], [0.1111111111111111, \"#46039f\"], [0.2222222222222222, \"#7201a8\"], [0.3333333333333333, \"#9c179e\"], [0.4444444444444444, \"#bd3786\"], [0.5555555555555556, \"#d8576b\"], [0.6666666666666666, \"#ed7953\"], [0.7777777777777778, \"#fb9f3a\"], [0.8888888888888888, \"#fdca26\"], [1.0, \"#f0f921\"]], \"type\": \"histogram2dcontour\"}], \"mesh3d\": [{\"colorbar\": {\"outlinewidth\": 0, \"ticks\": \"\"}, \"type\": \"mesh3d\"}], \"parcoords\": [{\"line\": {\"colorbar\": {\"outlinewidth\": 0, \"ticks\": \"\"}}, \"type\": \"parcoords\"}], \"pie\": [{\"automargin\": true, \"type\": \"pie\"}], \"scatter\": [{\"marker\": {\"colorbar\": {\"outlinewidth\": 0, \"ticks\": \"\"}}, \"type\": \"scatter\"}], \"scatter3d\": [{\"line\": {\"colorbar\": {\"outlinewidth\": 0, \"ticks\": \"\"}}, \"marker\": {\"colorbar\": {\"outlinewidth\": 0, \"ticks\": \"\"}}, \"type\": \"scatter3d\"}], \"scattercarpet\": [{\"marker\": {\"colorbar\": {\"outlinewidth\": 0, \"ticks\": \"\"}}, \"type\": \"scattercarpet\"}], \"scattergeo\": [{\"marker\": {\"colorbar\": {\"outlinewidth\": 0, \"ticks\": \"\"}}, \"type\": \"scattergeo\"}], \"scattergl\": [{\"marker\": {\"colorbar\": {\"outlinewidth\": 0, \"ticks\": \"\"}}, \"type\": \"scattergl\"}], \"scattermapbox\": [{\"marker\": {\"colorbar\": {\"outlinewidth\": 0, \"ticks\": \"\"}}, \"type\": \"scattermapbox\"}], \"scatterpolar\": [{\"marker\": {\"colorbar\": {\"outlinewidth\": 0, \"ticks\": \"\"}}, \"type\": \"scatterpolar\"}], \"scatterpolargl\": [{\"marker\": {\"colorbar\": {\"outlinewidth\": 0, \"ticks\": \"\"}}, \"type\": \"scatterpolargl\"}], \"scatterternary\": [{\"marker\": {\"colorbar\": {\"outlinewidth\": 0, \"ticks\": \"\"}}, \"type\": \"scatterternary\"}], \"surface\": [{\"colorbar\": {\"outlinewidth\": 0, \"ticks\": \"\"}, \"colorscale\": [[0.0, \"#0d0887\"], [0.1111111111111111, \"#46039f\"], [0.2222222222222222, \"#7201a8\"], [0.3333333333333333, \"#9c179e\"], [0.4444444444444444, \"#bd3786\"], [0.5555555555555556, \"#d8576b\"], [0.6666666666666666, \"#ed7953\"], [0.7777777777777778, \"#fb9f3a\"], [0.8888888888888888, \"#fdca26\"], [1.0, \"#f0f921\"]], \"type\": \"surface\"}], \"table\": [{\"cells\": {\"fill\": {\"color\": \"#EBF0F8\"}, \"line\": {\"color\": \"white\"}}, \"header\": {\"fill\": {\"color\": \"#C8D4E3\"}, \"line\": {\"color\": \"white\"}}, \"type\": \"table\"}]}, \"layout\": {\"annotationdefaults\": {\"arrowcolor\": \"#2a3f5f\", \"arrowhead\": 0, \"arrowwidth\": 1}, \"autotypenumbers\": \"strict\", \"coloraxis\": {\"colorbar\": {\"outlinewidth\": 0, \"ticks\": \"\"}}, \"colorscale\": {\"diverging\": [[0, \"#8e0152\"], [0.1, \"#c51b7d\"], [0.2, \"#de77ae\"], [0.3, \"#f1b6da\"], [0.4, \"#fde0ef\"], [0.5, \"#f7f7f7\"], [0.6, \"#e6f5d0\"], [0.7, \"#b8e186\"], [0.8, \"#7fbc41\"], [0.9, \"#4d9221\"], [1, \"#276419\"]], \"sequential\": [[0.0, \"#0d0887\"], [0.1111111111111111, \"#46039f\"], [0.2222222222222222, \"#7201a8\"], [0.3333333333333333, \"#9c179e\"], [0.4444444444444444, \"#bd3786\"], [0.5555555555555556, \"#d8576b\"], [0.6666666666666666, \"#ed7953\"], [0.7777777777777778, \"#fb9f3a\"], [0.8888888888888888, \"#fdca26\"], [1.0, \"#f0f921\"]], \"sequentialminus\": [[0.0, \"#0d0887\"], [0.1111111111111111, \"#46039f\"], [0.2222222222222222, \"#7201a8\"], [0.3333333333333333, \"#9c179e\"], [0.4444444444444444, \"#bd3786\"], [0.5555555555555556, \"#d8576b\"], [0.6666666666666666, \"#ed7953\"], [0.7777777777777778, \"#fb9f3a\"], [0.8888888888888888, \"#fdca26\"], [1.0, \"#f0f921\"]]}, \"colorway\": [\"#636efa\", \"#EF553B\", \"#00cc96\", \"#ab63fa\", \"#FFA15A\", \"#19d3f3\", \"#FF6692\", \"#B6E880\", \"#FF97FF\", \"#FECB52\"], \"font\": {\"color\": \"#2a3f5f\"}, \"geo\": {\"bgcolor\": \"white\", \"lakecolor\": \"white\", \"landcolor\": \"#E5ECF6\", \"showlakes\": true, \"showland\": true, \"subunitcolor\": \"white\"}, \"hoverlabel\": {\"align\": \"left\"}, \"hovermode\": \"closest\", \"mapbox\": {\"style\": \"light\"}, \"paper_bgcolor\": \"white\", \"plot_bgcolor\": \"#E5ECF6\", \"polar\": {\"angularaxis\": {\"gridcolor\": \"white\", \"linecolor\": \"white\", \"ticks\": \"\"}, \"bgcolor\": \"#E5ECF6\", \"radialaxis\": {\"gridcolor\": \"white\", \"linecolor\": \"white\", \"ticks\": \"\"}}, \"scene\": {\"xaxis\": {\"backgroundcolor\": \"#E5ECF6\", \"gridcolor\": \"white\", \"gridwidth\": 2, \"linecolor\": \"white\", \"showbackground\": true, \"ticks\": \"\", \"zerolinecolor\": \"white\"}, \"yaxis\": {\"backgroundcolor\": \"#E5ECF6\", \"gridcolor\": \"white\", \"gridwidth\": 2, \"linecolor\": \"white\", \"showbackground\": true, \"ticks\": \"\", \"zerolinecolor\": \"white\"}, \"zaxis\": {\"backgroundcolor\": \"#E5ECF6\", \"gridcolor\": \"white\", \"gridwidth\": 2, \"linecolor\": \"white\", \"showbackground\": true, \"ticks\": \"\", \"zerolinecolor\": \"white\"}}, \"shapedefaults\": {\"line\": {\"color\": \"#2a3f5f\"}}, \"ternary\": {\"aaxis\": {\"gridcolor\": \"white\", \"linecolor\": \"white\", \"ticks\": \"\"}, \"baxis\": {\"gridcolor\": \"white\", \"linecolor\": \"white\", \"ticks\": \"\"}, \"bgcolor\": \"#E5ECF6\", \"caxis\": {\"gridcolor\": \"white\", \"linecolor\": \"white\", \"ticks\": \"\"}}, \"title\": {\"x\": 0.05}, \"xaxis\": {\"automargin\": true, \"gridcolor\": \"white\", \"linecolor\": \"white\", \"ticks\": \"\", \"title\": {\"standoff\": 15}, \"zerolinecolor\": \"white\", \"zerolinewidth\": 2}, \"yaxis\": {\"automargin\": true, \"gridcolor\": \"white\", \"linecolor\": \"white\", \"ticks\": \"\", \"title\": {\"standoff\": 15}, \"zerolinecolor\": \"white\", \"zerolinewidth\": 2}}}, \"title\": {\"text\": \"Monthwise Increase in Confirmed cases\"}, \"xaxis\": {\"anchor\": \"y\", \"categoryarray\": [1580428800000000000, 1582934400000000000, 1585612800000000000, 1588204800000000000, 1590883200000000000, 1593475200000000000, 1596153600000000000, 1598832000000000000, 1601424000000000000, 1604102400000000000, 1606694400000000000, 1609372800000000000, 1612051200000000000, 1614470400000000000, 1617148800000000000, 1619740800000000000], \"categoryorder\": \"array\", \"domain\": [0.0, 1.0], \"title\": {\"text\": \"Date(monthwise)\"}}, \"yaxis\": {\"anchor\": \"x\", \"domain\": [0.0, 1.0], \"title\": {\"text\": \"Confirmed\"}}},                        {\"responsive\": true}                    ).then(function(){\n",
       "                            \n",
       "var gd = document.getElementById('926f5ed8-fc82-4b93-b83a-9f212b410018');\n",
       "var x = new MutationObserver(function (mutations, observer) {{\n",
       "        var display = window.getComputedStyle(gd).display;\n",
       "        if (!display || display === 'none') {{\n",
       "            console.log([gd, 'removed!']);\n",
       "            Plotly.purge(gd);\n",
       "            observer.disconnect();\n",
       "        }}\n",
       "}});\n",
       "\n",
       "// Listen for the removal of the full notebook cells\n",
       "var notebookContainer = gd.closest('#notebook-container');\n",
       "if (notebookContainer) {{\n",
       "    x.observe(notebookContainer, {childList: true});\n",
       "}}\n",
       "\n",
       "// Listen for the clearing of the current output cell\n",
       "var outputEl = gd.closest('.output');\n",
       "if (outputEl) {{\n",
       "    x.observe(outputEl, {childList: true});\n",
       "}}\n",
       "\n",
       "                        })                };                });            </script>        </div>"
      ]
     },
     "metadata": {},
     "output_type": "display_data"
    }
   ],
   "source": [
    "fig = px.bar(month_wise, x='Date', y='Confirmed',\n",
    "             hover_data=['Cured', 'Deaths'], color='Date',\n",
    "             labels={'Date':'Date(monthwise)'}, height=600,\n",
    "             title=\"Monthwise Increase in Confirmed cases\")\n",
    "fig.show()"
   ]
  },
  {
   "cell_type": "markdown",
   "metadata": {},
   "source": [
    "### Monthwise - Cured Cases "
   ]
  },
  {
   "cell_type": "code",
   "execution_count": 79,
   "metadata": {},
   "outputs": [
    {
     "data": {
      "application/vnd.plotly.v1+json": {
       "config": {
        "plotlyServerURL": "https://plot.ly"
       },
       "data": [
        {
         "alignmentgroup": "True",
         "customdata": [
          [
           2,
           0
          ]
         ],
         "hovertemplate": "Date(monthwise)=%{x}<br>Cured=%{y}<br>Confirmed=%{customdata[0]}<br>Deaths=%{customdata[1]}<extra></extra>",
         "legendgroup": "2020-01-31 00:00:00",
         "marker": {
          "color": "#FF6692"
         },
         "name": "2020-01-31 00:00:00",
         "offsetgroup": "2020-01-31 00:00:00",
         "orientation": "v",
         "showlegend": true,
         "textposition": "auto",
         "type": "bar",
         "x": [
          "2020-01-31T00:00:00"
         ],
         "xaxis": "x",
         "y": [
          0
         ],
         "yaxis": "y"
        },
        {
         "alignmentgroup": "True",
         "customdata": [
          [
           86,
           0
          ]
         ],
         "hovertemplate": "Date(monthwise)=%{x}<br>Cured=%{y}<br>Confirmed=%{customdata[0]}<br>Deaths=%{customdata[1]}<extra></extra>",
         "legendgroup": "2020-02-29 00:00:00",
         "marker": {
          "color": "#B6E880"
         },
         "name": "2020-02-29 00:00:00",
         "offsetgroup": "2020-02-29 00:00:00",
         "orientation": "v",
         "showlegend": true,
         "textposition": "auto",
         "type": "bar",
         "x": [
          "2020-02-29T00:00:00"
         ],
         "xaxis": "x",
         "y": [
          0
         ],
         "yaxis": "y"
        },
        {
         "alignmentgroup": "True",
         "customdata": [
          [
           9687,
           202
          ]
         ],
         "hovertemplate": "Date(monthwise)=%{x}<br>Cured=%{y}<br>Confirmed=%{customdata[0]}<br>Deaths=%{customdata[1]}<extra></extra>",
         "legendgroup": "2020-03-31 00:00:00",
         "marker": {
          "color": "#FF97FF"
         },
         "name": "2020-03-31 00:00:00",
         "offsetgroup": "2020-03-31 00:00:00",
         "orientation": "v",
         "showlegend": true,
         "textposition": "auto",
         "type": "bar",
         "x": [
          "2020-03-31T00:00:00"
         ],
         "xaxis": "x",
         "y": [
          808
         ],
         "yaxis": "y"
        },
        {
         "alignmentgroup": "True",
         "customdata": [
          [
           422442,
           13270
          ]
         ],
         "hovertemplate": "Date(monthwise)=%{x}<br>Cured=%{y}<br>Confirmed=%{customdata[0]}<br>Deaths=%{customdata[1]}<extra></extra>",
         "legendgroup": "2020-04-30 00:00:00",
         "marker": {
          "color": "#FECB52"
         },
         "name": "2020-04-30 00:00:00",
         "offsetgroup": "2020-04-30 00:00:00",
         "orientation": "v",
         "showlegend": true,
         "textposition": "auto",
         "type": "bar",
         "x": [
          "2020-04-30T00:00:00"
         ],
         "xaxis": "x",
         "y": [
          75443
         ],
         "yaxis": "y"
        },
        {
         "alignmentgroup": "True",
         "customdata": [
          [
           2938234,
           89834
          ]
         ],
         "hovertemplate": "Date(monthwise)=%{x}<br>Cured=%{y}<br>Confirmed=%{customdata[0]}<br>Deaths=%{customdata[1]}<extra></extra>",
         "legendgroup": "2020-05-31 00:00:00",
         "marker": {
          "color": "#636efa"
         },
         "name": "2020-05-31 00:00:00",
         "offsetgroup": "2020-05-31 00:00:00",
         "orientation": "v",
         "showlegend": true,
         "textposition": "auto",
         "type": "bar",
         "x": [
          "2020-05-31T00:00:00"
         ],
         "xaxis": "x",
         "y": [
          1133341
         ],
         "yaxis": "y"
        },
        {
         "alignmentgroup": "True",
         "customdata": [
          [
           10558374,
           319690
          ]
         ],
         "hovertemplate": "Date(monthwise)=%{x}<br>Cured=%{y}<br>Confirmed=%{customdata[0]}<br>Deaths=%{customdata[1]}<extra></extra>",
         "legendgroup": "2020-06-30 00:00:00",
         "marker": {
          "color": "#EF553B"
         },
         "name": "2020-06-30 00:00:00",
         "offsetgroup": "2020-06-30 00:00:00",
         "orientation": "v",
         "showlegend": true,
         "textposition": "auto",
         "type": "bar",
         "x": [
          "2020-06-30T00:00:00"
         ],
         "xaxis": "x",
         "y": [
          5668946
         ],
         "yaxis": "y"
        },
        {
         "alignmentgroup": "True",
         "customdata": [
          [
           31726501,
           793511
          ]
         ],
         "hovertemplate": "Date(monthwise)=%{x}<br>Cured=%{y}<br>Confirmed=%{customdata[0]}<br>Deaths=%{customdata[1]}<extra></extra>",
         "legendgroup": "2020-07-31 00:00:00",
         "marker": {
          "color": "#00cc96"
         },
         "name": "2020-07-31 00:00:00",
         "offsetgroup": "2020-07-31 00:00:00",
         "orientation": "v",
         "showlegend": true,
         "textposition": "auto",
         "type": "bar",
         "x": [
          "2020-07-31T00:00:00"
         ],
         "xaxis": "x",
         "y": [
          19980130
         ],
         "yaxis": "y"
        },
        {
         "alignmentgroup": "True",
         "customdata": [
          [
           80749620,
           1553468
          ]
         ],
         "hovertemplate": "Date(monthwise)=%{x}<br>Cured=%{y}<br>Confirmed=%{customdata[0]}<br>Deaths=%{customdata[1]}<extra></extra>",
         "legendgroup": "2020-08-31 00:00:00",
         "marker": {
          "color": "#ab63fa"
         },
         "name": "2020-08-31 00:00:00",
         "offsetgroup": "2020-08-31 00:00:00",
         "orientation": "v",
         "showlegend": true,
         "textposition": "auto",
         "type": "bar",
         "x": [
          "2020-08-31T00:00:00"
         ],
         "xaxis": "x",
         "y": [
          58580895
         ],
         "yaxis": "y"
        },
        {
         "alignmentgroup": "True",
         "customdata": [
          [
           149113758,
           2443374
          ]
         ],
         "hovertemplate": "Date(monthwise)=%{x}<br>Cured=%{y}<br>Confirmed=%{customdata[0]}<br>Deaths=%{customdata[1]}<extra></extra>",
         "legendgroup": "2020-09-30 00:00:00",
         "marker": {
          "color": "#FFA15A"
         },
         "name": "2020-09-30 00:00:00",
         "offsetgroup": "2020-09-30 00:00:00",
         "orientation": "v",
         "showlegend": true,
         "textposition": "auto",
         "type": "bar",
         "x": [
          "2020-09-30T00:00:00"
         ],
         "xaxis": "x",
         "y": [
          118592934
         ],
         "yaxis": "y"
        },
        {
         "alignmentgroup": "True",
         "customdata": [
          [
           226770312,
           3457615
          ]
         ],
         "hovertemplate": "Date(monthwise)=%{x}<br>Cured=%{y}<br>Confirmed=%{customdata[0]}<br>Deaths=%{customdata[1]}<extra></extra>",
         "legendgroup": "2020-10-31 00:00:00",
         "marker": {
          "color": "#19d3f3"
         },
         "name": "2020-10-31 00:00:00",
         "offsetgroup": "2020-10-31 00:00:00",
         "orientation": "v",
         "showlegend": true,
         "textposition": "auto",
         "type": "bar",
         "x": [
          "2020-10-31T00:00:00"
         ],
         "xaxis": "x",
         "y": [
          198824412
         ],
         "yaxis": "y"
        },
        {
         "alignmentgroup": "True",
         "customdata": [
          [
           264556412,
           3894165
          ]
         ],
         "hovertemplate": "Date(monthwise)=%{x}<br>Cured=%{y}<br>Confirmed=%{customdata[0]}<br>Deaths=%{customdata[1]}<extra></extra>",
         "legendgroup": "2020-11-30 00:00:00",
         "marker": {
          "color": "#FF6692"
         },
         "name": "2020-11-30 00:00:00",
         "offsetgroup": "2020-11-30 00:00:00",
         "orientation": "v",
         "showlegend": true,
         "textposition": "auto",
         "type": "bar",
         "x": [
          "2020-11-30T00:00:00"
         ],
         "xaxis": "x",
         "y": [
          246213201
         ],
         "yaxis": "y"
        },
        {
         "alignmentgroup": "True",
         "customdata": [
          [
           307177353,
           4457379
          ]
         ],
         "hovertemplate": "Date(monthwise)=%{x}<br>Cured=%{y}<br>Confirmed=%{customdata[0]}<br>Deaths=%{customdata[1]}<extra></extra>",
         "legendgroup": "2020-12-31 00:00:00",
         "marker": {
          "color": "#B6E880"
         },
         "name": "2020-12-31 00:00:00",
         "offsetgroup": "2020-12-31 00:00:00",
         "orientation": "v",
         "showlegend": true,
         "textposition": "auto",
         "type": "bar",
         "x": [
          "2020-12-31T00:00:00"
         ],
         "xaxis": "x",
         "y": [
          292244085
         ],
         "yaxis": "y"
        },
        {
         "alignmentgroup": "True",
         "customdata": [
          [
           326469747,
           4709167
          ]
         ],
         "hovertemplate": "Date(monthwise)=%{x}<br>Cured=%{y}<br>Confirmed=%{customdata[0]}<br>Deaths=%{customdata[1]}<extra></extra>",
         "legendgroup": "2021-01-31 00:00:00",
         "marker": {
          "color": "#FF97FF"
         },
         "name": "2021-01-31 00:00:00",
         "offsetgroup": "2021-01-31 00:00:00",
         "orientation": "v",
         "showlegend": true,
         "textposition": "auto",
         "type": "bar",
         "x": [
          "2021-01-31T00:00:00"
         ],
         "xaxis": "x",
         "y": [
          315332019
         ],
         "yaxis": "y"
        },
        {
         "alignmentgroup": "True",
         "customdata": [
          [
           305631803,
           4359434
          ]
         ],
         "hovertemplate": "Date(monthwise)=%{x}<br>Cured=%{y}<br>Confirmed=%{customdata[0]}<br>Deaths=%{customdata[1]}<extra></extra>",
         "legendgroup": "2021-02-28 00:00:00",
         "marker": {
          "color": "#FECB52"
         },
         "name": "2021-02-28 00:00:00",
         "offsetgroup": "2021-02-28 00:00:00",
         "orientation": "v",
         "showlegend": true,
         "textposition": "auto",
         "type": "bar",
         "x": [
          "2021-02-28T00:00:00"
         ],
         "xaxis": "x",
         "y": [
          297133802
         ],
         "yaxis": "y"
        },
        {
         "alignmentgroup": "True",
         "customdata": [
          [
           356305616,
           4935253
          ]
         ],
         "hovertemplate": "Date(monthwise)=%{x}<br>Cured=%{y}<br>Confirmed=%{customdata[0]}<br>Deaths=%{customdata[1]}<extra></extra>",
         "legendgroup": "2021-03-31 00:00:00",
         "marker": {
          "color": "#636efa"
         },
         "name": "2021-03-31 00:00:00",
         "offsetgroup": "2021-03-31 00:00:00",
         "orientation": "v",
         "showlegend": true,
         "textposition": "auto",
         "type": "bar",
         "x": [
          "2021-03-31T00:00:00"
         ],
         "xaxis": "x",
         "y": [
          342610397
         ],
         "yaxis": "y"
        },
        {
         "alignmentgroup": "True",
         "customdata": [
          [
           403521171,
           4927136
          ]
         ],
         "hovertemplate": "Date(monthwise)=%{x}<br>Cured=%{y}<br>Confirmed=%{customdata[0]}<br>Deaths=%{customdata[1]}<extra></extra>",
         "legendgroup": "2021-04-30 00:00:00",
         "marker": {
          "color": "#EF553B"
         },
         "name": "2021-04-30 00:00:00",
         "offsetgroup": "2021-04-30 00:00:00",
         "orientation": "v",
         "showlegend": true,
         "textposition": "auto",
         "type": "bar",
         "x": [
          "2021-04-30T00:00:00"
         ],
         "xaxis": "x",
         "y": [
          354518894
         ],
         "yaxis": "y"
        }
       ],
       "layout": {
        "barmode": "relative",
        "height": 600,
        "legend": {
         "title": {
          "text": "Date(monthwise)"
         },
         "tracegroupgap": 0
        },
        "template": {
         "data": {
          "bar": [
           {
            "error_x": {
             "color": "#2a3f5f"
            },
            "error_y": {
             "color": "#2a3f5f"
            },
            "marker": {
             "line": {
              "color": "#E5ECF6",
              "width": 0.5
             }
            },
            "type": "bar"
           }
          ],
          "barpolar": [
           {
            "marker": {
             "line": {
              "color": "#E5ECF6",
              "width": 0.5
             }
            },
            "type": "barpolar"
           }
          ],
          "carpet": [
           {
            "aaxis": {
             "endlinecolor": "#2a3f5f",
             "gridcolor": "white",
             "linecolor": "white",
             "minorgridcolor": "white",
             "startlinecolor": "#2a3f5f"
            },
            "baxis": {
             "endlinecolor": "#2a3f5f",
             "gridcolor": "white",
             "linecolor": "white",
             "minorgridcolor": "white",
             "startlinecolor": "#2a3f5f"
            },
            "type": "carpet"
           }
          ],
          "choropleth": [
           {
            "colorbar": {
             "outlinewidth": 0,
             "ticks": ""
            },
            "type": "choropleth"
           }
          ],
          "contour": [
           {
            "colorbar": {
             "outlinewidth": 0,
             "ticks": ""
            },
            "colorscale": [
             [
              0,
              "#0d0887"
             ],
             [
              0.1111111111111111,
              "#46039f"
             ],
             [
              0.2222222222222222,
              "#7201a8"
             ],
             [
              0.3333333333333333,
              "#9c179e"
             ],
             [
              0.4444444444444444,
              "#bd3786"
             ],
             [
              0.5555555555555556,
              "#d8576b"
             ],
             [
              0.6666666666666666,
              "#ed7953"
             ],
             [
              0.7777777777777778,
              "#fb9f3a"
             ],
             [
              0.8888888888888888,
              "#fdca26"
             ],
             [
              1,
              "#f0f921"
             ]
            ],
            "type": "contour"
           }
          ],
          "contourcarpet": [
           {
            "colorbar": {
             "outlinewidth": 0,
             "ticks": ""
            },
            "type": "contourcarpet"
           }
          ],
          "heatmap": [
           {
            "colorbar": {
             "outlinewidth": 0,
             "ticks": ""
            },
            "colorscale": [
             [
              0,
              "#0d0887"
             ],
             [
              0.1111111111111111,
              "#46039f"
             ],
             [
              0.2222222222222222,
              "#7201a8"
             ],
             [
              0.3333333333333333,
              "#9c179e"
             ],
             [
              0.4444444444444444,
              "#bd3786"
             ],
             [
              0.5555555555555556,
              "#d8576b"
             ],
             [
              0.6666666666666666,
              "#ed7953"
             ],
             [
              0.7777777777777778,
              "#fb9f3a"
             ],
             [
              0.8888888888888888,
              "#fdca26"
             ],
             [
              1,
              "#f0f921"
             ]
            ],
            "type": "heatmap"
           }
          ],
          "heatmapgl": [
           {
            "colorbar": {
             "outlinewidth": 0,
             "ticks": ""
            },
            "colorscale": [
             [
              0,
              "#0d0887"
             ],
             [
              0.1111111111111111,
              "#46039f"
             ],
             [
              0.2222222222222222,
              "#7201a8"
             ],
             [
              0.3333333333333333,
              "#9c179e"
             ],
             [
              0.4444444444444444,
              "#bd3786"
             ],
             [
              0.5555555555555556,
              "#d8576b"
             ],
             [
              0.6666666666666666,
              "#ed7953"
             ],
             [
              0.7777777777777778,
              "#fb9f3a"
             ],
             [
              0.8888888888888888,
              "#fdca26"
             ],
             [
              1,
              "#f0f921"
             ]
            ],
            "type": "heatmapgl"
           }
          ],
          "histogram": [
           {
            "marker": {
             "colorbar": {
              "outlinewidth": 0,
              "ticks": ""
             }
            },
            "type": "histogram"
           }
          ],
          "histogram2d": [
           {
            "colorbar": {
             "outlinewidth": 0,
             "ticks": ""
            },
            "colorscale": [
             [
              0,
              "#0d0887"
             ],
             [
              0.1111111111111111,
              "#46039f"
             ],
             [
              0.2222222222222222,
              "#7201a8"
             ],
             [
              0.3333333333333333,
              "#9c179e"
             ],
             [
              0.4444444444444444,
              "#bd3786"
             ],
             [
              0.5555555555555556,
              "#d8576b"
             ],
             [
              0.6666666666666666,
              "#ed7953"
             ],
             [
              0.7777777777777778,
              "#fb9f3a"
             ],
             [
              0.8888888888888888,
              "#fdca26"
             ],
             [
              1,
              "#f0f921"
             ]
            ],
            "type": "histogram2d"
           }
          ],
          "histogram2dcontour": [
           {
            "colorbar": {
             "outlinewidth": 0,
             "ticks": ""
            },
            "colorscale": [
             [
              0,
              "#0d0887"
             ],
             [
              0.1111111111111111,
              "#46039f"
             ],
             [
              0.2222222222222222,
              "#7201a8"
             ],
             [
              0.3333333333333333,
              "#9c179e"
             ],
             [
              0.4444444444444444,
              "#bd3786"
             ],
             [
              0.5555555555555556,
              "#d8576b"
             ],
             [
              0.6666666666666666,
              "#ed7953"
             ],
             [
              0.7777777777777778,
              "#fb9f3a"
             ],
             [
              0.8888888888888888,
              "#fdca26"
             ],
             [
              1,
              "#f0f921"
             ]
            ],
            "type": "histogram2dcontour"
           }
          ],
          "mesh3d": [
           {
            "colorbar": {
             "outlinewidth": 0,
             "ticks": ""
            },
            "type": "mesh3d"
           }
          ],
          "parcoords": [
           {
            "line": {
             "colorbar": {
              "outlinewidth": 0,
              "ticks": ""
             }
            },
            "type": "parcoords"
           }
          ],
          "pie": [
           {
            "automargin": true,
            "type": "pie"
           }
          ],
          "scatter": [
           {
            "marker": {
             "colorbar": {
              "outlinewidth": 0,
              "ticks": ""
             }
            },
            "type": "scatter"
           }
          ],
          "scatter3d": [
           {
            "line": {
             "colorbar": {
              "outlinewidth": 0,
              "ticks": ""
             }
            },
            "marker": {
             "colorbar": {
              "outlinewidth": 0,
              "ticks": ""
             }
            },
            "type": "scatter3d"
           }
          ],
          "scattercarpet": [
           {
            "marker": {
             "colorbar": {
              "outlinewidth": 0,
              "ticks": ""
             }
            },
            "type": "scattercarpet"
           }
          ],
          "scattergeo": [
           {
            "marker": {
             "colorbar": {
              "outlinewidth": 0,
              "ticks": ""
             }
            },
            "type": "scattergeo"
           }
          ],
          "scattergl": [
           {
            "marker": {
             "colorbar": {
              "outlinewidth": 0,
              "ticks": ""
             }
            },
            "type": "scattergl"
           }
          ],
          "scattermapbox": [
           {
            "marker": {
             "colorbar": {
              "outlinewidth": 0,
              "ticks": ""
             }
            },
            "type": "scattermapbox"
           }
          ],
          "scatterpolar": [
           {
            "marker": {
             "colorbar": {
              "outlinewidth": 0,
              "ticks": ""
             }
            },
            "type": "scatterpolar"
           }
          ],
          "scatterpolargl": [
           {
            "marker": {
             "colorbar": {
              "outlinewidth": 0,
              "ticks": ""
             }
            },
            "type": "scatterpolargl"
           }
          ],
          "scatterternary": [
           {
            "marker": {
             "colorbar": {
              "outlinewidth": 0,
              "ticks": ""
             }
            },
            "type": "scatterternary"
           }
          ],
          "surface": [
           {
            "colorbar": {
             "outlinewidth": 0,
             "ticks": ""
            },
            "colorscale": [
             [
              0,
              "#0d0887"
             ],
             [
              0.1111111111111111,
              "#46039f"
             ],
             [
              0.2222222222222222,
              "#7201a8"
             ],
             [
              0.3333333333333333,
              "#9c179e"
             ],
             [
              0.4444444444444444,
              "#bd3786"
             ],
             [
              0.5555555555555556,
              "#d8576b"
             ],
             [
              0.6666666666666666,
              "#ed7953"
             ],
             [
              0.7777777777777778,
              "#fb9f3a"
             ],
             [
              0.8888888888888888,
              "#fdca26"
             ],
             [
              1,
              "#f0f921"
             ]
            ],
            "type": "surface"
           }
          ],
          "table": [
           {
            "cells": {
             "fill": {
              "color": "#EBF0F8"
             },
             "line": {
              "color": "white"
             }
            },
            "header": {
             "fill": {
              "color": "#C8D4E3"
             },
             "line": {
              "color": "white"
             }
            },
            "type": "table"
           }
          ]
         },
         "layout": {
          "annotationdefaults": {
           "arrowcolor": "#2a3f5f",
           "arrowhead": 0,
           "arrowwidth": 1
          },
          "autotypenumbers": "strict",
          "coloraxis": {
           "colorbar": {
            "outlinewidth": 0,
            "ticks": ""
           }
          },
          "colorscale": {
           "diverging": [
            [
             0,
             "#8e0152"
            ],
            [
             0.1,
             "#c51b7d"
            ],
            [
             0.2,
             "#de77ae"
            ],
            [
             0.3,
             "#f1b6da"
            ],
            [
             0.4,
             "#fde0ef"
            ],
            [
             0.5,
             "#f7f7f7"
            ],
            [
             0.6,
             "#e6f5d0"
            ],
            [
             0.7,
             "#b8e186"
            ],
            [
             0.8,
             "#7fbc41"
            ],
            [
             0.9,
             "#4d9221"
            ],
            [
             1,
             "#276419"
            ]
           ],
           "sequential": [
            [
             0,
             "#0d0887"
            ],
            [
             0.1111111111111111,
             "#46039f"
            ],
            [
             0.2222222222222222,
             "#7201a8"
            ],
            [
             0.3333333333333333,
             "#9c179e"
            ],
            [
             0.4444444444444444,
             "#bd3786"
            ],
            [
             0.5555555555555556,
             "#d8576b"
            ],
            [
             0.6666666666666666,
             "#ed7953"
            ],
            [
             0.7777777777777778,
             "#fb9f3a"
            ],
            [
             0.8888888888888888,
             "#fdca26"
            ],
            [
             1,
             "#f0f921"
            ]
           ],
           "sequentialminus": [
            [
             0,
             "#0d0887"
            ],
            [
             0.1111111111111111,
             "#46039f"
            ],
            [
             0.2222222222222222,
             "#7201a8"
            ],
            [
             0.3333333333333333,
             "#9c179e"
            ],
            [
             0.4444444444444444,
             "#bd3786"
            ],
            [
             0.5555555555555556,
             "#d8576b"
            ],
            [
             0.6666666666666666,
             "#ed7953"
            ],
            [
             0.7777777777777778,
             "#fb9f3a"
            ],
            [
             0.8888888888888888,
             "#fdca26"
            ],
            [
             1,
             "#f0f921"
            ]
           ]
          },
          "colorway": [
           "#636efa",
           "#EF553B",
           "#00cc96",
           "#ab63fa",
           "#FFA15A",
           "#19d3f3",
           "#FF6692",
           "#B6E880",
           "#FF97FF",
           "#FECB52"
          ],
          "font": {
           "color": "#2a3f5f"
          },
          "geo": {
           "bgcolor": "white",
           "lakecolor": "white",
           "landcolor": "#E5ECF6",
           "showlakes": true,
           "showland": true,
           "subunitcolor": "white"
          },
          "hoverlabel": {
           "align": "left"
          },
          "hovermode": "closest",
          "mapbox": {
           "style": "light"
          },
          "paper_bgcolor": "white",
          "plot_bgcolor": "#E5ECF6",
          "polar": {
           "angularaxis": {
            "gridcolor": "white",
            "linecolor": "white",
            "ticks": ""
           },
           "bgcolor": "#E5ECF6",
           "radialaxis": {
            "gridcolor": "white",
            "linecolor": "white",
            "ticks": ""
           }
          },
          "scene": {
           "xaxis": {
            "backgroundcolor": "#E5ECF6",
            "gridcolor": "white",
            "gridwidth": 2,
            "linecolor": "white",
            "showbackground": true,
            "ticks": "",
            "zerolinecolor": "white"
           },
           "yaxis": {
            "backgroundcolor": "#E5ECF6",
            "gridcolor": "white",
            "gridwidth": 2,
            "linecolor": "white",
            "showbackground": true,
            "ticks": "",
            "zerolinecolor": "white"
           },
           "zaxis": {
            "backgroundcolor": "#E5ECF6",
            "gridcolor": "white",
            "gridwidth": 2,
            "linecolor": "white",
            "showbackground": true,
            "ticks": "",
            "zerolinecolor": "white"
           }
          },
          "shapedefaults": {
           "line": {
            "color": "#2a3f5f"
           }
          },
          "ternary": {
           "aaxis": {
            "gridcolor": "white",
            "linecolor": "white",
            "ticks": ""
           },
           "baxis": {
            "gridcolor": "white",
            "linecolor": "white",
            "ticks": ""
           },
           "bgcolor": "#E5ECF6",
           "caxis": {
            "gridcolor": "white",
            "linecolor": "white",
            "ticks": ""
           }
          },
          "title": {
           "x": 0.05
          },
          "xaxis": {
           "automargin": true,
           "gridcolor": "white",
           "linecolor": "white",
           "ticks": "",
           "title": {
            "standoff": 15
           },
           "zerolinecolor": "white",
           "zerolinewidth": 2
          },
          "yaxis": {
           "automargin": true,
           "gridcolor": "white",
           "linecolor": "white",
           "ticks": "",
           "title": {
            "standoff": 15
           },
           "zerolinecolor": "white",
           "zerolinewidth": 2
          }
         }
        },
        "title": {
         "text": "Monthwise Increase in Cured cases"
        },
        "xaxis": {
         "anchor": "y",
         "categoryarray": [
          1580428800000000000,
          1582934400000000000,
          1585612800000000000,
          1588204800000000000,
          1590883200000000000,
          1593475200000000000,
          1596153600000000000,
          1598832000000000000,
          1601424000000000000,
          1604102400000000000,
          1606694400000000000,
          1609372800000000000,
          1612051200000000000,
          1614470400000000000,
          1617148800000000000,
          1619740800000000000
         ],
         "categoryorder": "array",
         "domain": [
          0,
          1
         ],
         "title": {
          "text": "Date(monthwise)"
         }
        },
        "yaxis": {
         "anchor": "x",
         "domain": [
          0,
          1
         ],
         "title": {
          "text": "Cured"
         }
        }
       }
      },
      "text/html": [
       "<div>                            <div id=\"5e972525-65de-4b74-84b0-2319b51cdd56\" class=\"plotly-graph-div\" style=\"height:600px; width:100%;\"></div>            <script type=\"text/javascript\">                require([\"plotly\"], function(Plotly) {                    window.PLOTLYENV=window.PLOTLYENV || {};                                    if (document.getElementById(\"5e972525-65de-4b74-84b0-2319b51cdd56\")) {                    Plotly.newPlot(                        \"5e972525-65de-4b74-84b0-2319b51cdd56\",                        [{\"alignmentgroup\": \"True\", \"customdata\": [[2, 0]], \"hovertemplate\": \"Date(monthwise)=%{x}<br>Cured=%{y}<br>Confirmed=%{customdata[0]}<br>Deaths=%{customdata[1]}<extra></extra>\", \"legendgroup\": \"2020-01-31 00:00:00\", \"marker\": {\"color\": \"#FF6692\"}, \"name\": \"2020-01-31 00:00:00\", \"offsetgroup\": \"2020-01-31 00:00:00\", \"orientation\": \"v\", \"showlegend\": true, \"textposition\": \"auto\", \"type\": \"bar\", \"x\": [\"2020-01-31T00:00:00\"], \"xaxis\": \"x\", \"y\": [0], \"yaxis\": \"y\"}, {\"alignmentgroup\": \"True\", \"customdata\": [[86, 0]], \"hovertemplate\": \"Date(monthwise)=%{x}<br>Cured=%{y}<br>Confirmed=%{customdata[0]}<br>Deaths=%{customdata[1]}<extra></extra>\", \"legendgroup\": \"2020-02-29 00:00:00\", \"marker\": {\"color\": \"#B6E880\"}, \"name\": \"2020-02-29 00:00:00\", \"offsetgroup\": \"2020-02-29 00:00:00\", \"orientation\": \"v\", \"showlegend\": true, \"textposition\": \"auto\", \"type\": \"bar\", \"x\": [\"2020-02-29T00:00:00\"], \"xaxis\": \"x\", \"y\": [0], \"yaxis\": \"y\"}, {\"alignmentgroup\": \"True\", \"customdata\": [[9687, 202]], \"hovertemplate\": \"Date(monthwise)=%{x}<br>Cured=%{y}<br>Confirmed=%{customdata[0]}<br>Deaths=%{customdata[1]}<extra></extra>\", \"legendgroup\": \"2020-03-31 00:00:00\", \"marker\": {\"color\": \"#FF97FF\"}, \"name\": \"2020-03-31 00:00:00\", \"offsetgroup\": \"2020-03-31 00:00:00\", \"orientation\": \"v\", \"showlegend\": true, \"textposition\": \"auto\", \"type\": \"bar\", \"x\": [\"2020-03-31T00:00:00\"], \"xaxis\": \"x\", \"y\": [808], \"yaxis\": \"y\"}, {\"alignmentgroup\": \"True\", \"customdata\": [[422442, 13270]], \"hovertemplate\": \"Date(monthwise)=%{x}<br>Cured=%{y}<br>Confirmed=%{customdata[0]}<br>Deaths=%{customdata[1]}<extra></extra>\", \"legendgroup\": \"2020-04-30 00:00:00\", \"marker\": {\"color\": \"#FECB52\"}, \"name\": \"2020-04-30 00:00:00\", \"offsetgroup\": \"2020-04-30 00:00:00\", \"orientation\": \"v\", \"showlegend\": true, \"textposition\": \"auto\", \"type\": \"bar\", \"x\": [\"2020-04-30T00:00:00\"], \"xaxis\": \"x\", \"y\": [75443], \"yaxis\": \"y\"}, {\"alignmentgroup\": \"True\", \"customdata\": [[2938234, 89834]], \"hovertemplate\": \"Date(monthwise)=%{x}<br>Cured=%{y}<br>Confirmed=%{customdata[0]}<br>Deaths=%{customdata[1]}<extra></extra>\", \"legendgroup\": \"2020-05-31 00:00:00\", \"marker\": {\"color\": \"#636efa\"}, \"name\": \"2020-05-31 00:00:00\", \"offsetgroup\": \"2020-05-31 00:00:00\", \"orientation\": \"v\", \"showlegend\": true, \"textposition\": \"auto\", \"type\": \"bar\", \"x\": [\"2020-05-31T00:00:00\"], \"xaxis\": \"x\", \"y\": [1133341], \"yaxis\": \"y\"}, {\"alignmentgroup\": \"True\", \"customdata\": [[10558374, 319690]], \"hovertemplate\": \"Date(monthwise)=%{x}<br>Cured=%{y}<br>Confirmed=%{customdata[0]}<br>Deaths=%{customdata[1]}<extra></extra>\", \"legendgroup\": \"2020-06-30 00:00:00\", \"marker\": {\"color\": \"#EF553B\"}, \"name\": \"2020-06-30 00:00:00\", \"offsetgroup\": \"2020-06-30 00:00:00\", \"orientation\": \"v\", \"showlegend\": true, \"textposition\": \"auto\", \"type\": \"bar\", \"x\": [\"2020-06-30T00:00:00\"], \"xaxis\": \"x\", \"y\": [5668946], \"yaxis\": \"y\"}, {\"alignmentgroup\": \"True\", \"customdata\": [[31726501, 793511]], \"hovertemplate\": \"Date(monthwise)=%{x}<br>Cured=%{y}<br>Confirmed=%{customdata[0]}<br>Deaths=%{customdata[1]}<extra></extra>\", \"legendgroup\": \"2020-07-31 00:00:00\", \"marker\": {\"color\": \"#00cc96\"}, \"name\": \"2020-07-31 00:00:00\", \"offsetgroup\": \"2020-07-31 00:00:00\", \"orientation\": \"v\", \"showlegend\": true, \"textposition\": \"auto\", \"type\": \"bar\", \"x\": [\"2020-07-31T00:00:00\"], \"xaxis\": \"x\", \"y\": [19980130], \"yaxis\": \"y\"}, {\"alignmentgroup\": \"True\", \"customdata\": [[80749620, 1553468]], \"hovertemplate\": \"Date(monthwise)=%{x}<br>Cured=%{y}<br>Confirmed=%{customdata[0]}<br>Deaths=%{customdata[1]}<extra></extra>\", \"legendgroup\": \"2020-08-31 00:00:00\", \"marker\": {\"color\": \"#ab63fa\"}, \"name\": \"2020-08-31 00:00:00\", \"offsetgroup\": \"2020-08-31 00:00:00\", \"orientation\": \"v\", \"showlegend\": true, \"textposition\": \"auto\", \"type\": \"bar\", \"x\": [\"2020-08-31T00:00:00\"], \"xaxis\": \"x\", \"y\": [58580895], \"yaxis\": \"y\"}, {\"alignmentgroup\": \"True\", \"customdata\": [[149113758, 2443374]], \"hovertemplate\": \"Date(monthwise)=%{x}<br>Cured=%{y}<br>Confirmed=%{customdata[0]}<br>Deaths=%{customdata[1]}<extra></extra>\", \"legendgroup\": \"2020-09-30 00:00:00\", \"marker\": {\"color\": \"#FFA15A\"}, \"name\": \"2020-09-30 00:00:00\", \"offsetgroup\": \"2020-09-30 00:00:00\", \"orientation\": \"v\", \"showlegend\": true, \"textposition\": \"auto\", \"type\": \"bar\", \"x\": [\"2020-09-30T00:00:00\"], \"xaxis\": \"x\", \"y\": [118592934], \"yaxis\": \"y\"}, {\"alignmentgroup\": \"True\", \"customdata\": [[226770312, 3457615]], \"hovertemplate\": \"Date(monthwise)=%{x}<br>Cured=%{y}<br>Confirmed=%{customdata[0]}<br>Deaths=%{customdata[1]}<extra></extra>\", \"legendgroup\": \"2020-10-31 00:00:00\", \"marker\": {\"color\": \"#19d3f3\"}, \"name\": \"2020-10-31 00:00:00\", \"offsetgroup\": \"2020-10-31 00:00:00\", \"orientation\": \"v\", \"showlegend\": true, \"textposition\": \"auto\", \"type\": \"bar\", \"x\": [\"2020-10-31T00:00:00\"], \"xaxis\": \"x\", \"y\": [198824412], \"yaxis\": \"y\"}, {\"alignmentgroup\": \"True\", \"customdata\": [[264556412, 3894165]], \"hovertemplate\": \"Date(monthwise)=%{x}<br>Cured=%{y}<br>Confirmed=%{customdata[0]}<br>Deaths=%{customdata[1]}<extra></extra>\", \"legendgroup\": \"2020-11-30 00:00:00\", \"marker\": {\"color\": \"#FF6692\"}, \"name\": \"2020-11-30 00:00:00\", \"offsetgroup\": \"2020-11-30 00:00:00\", \"orientation\": \"v\", \"showlegend\": true, \"textposition\": \"auto\", \"type\": \"bar\", \"x\": [\"2020-11-30T00:00:00\"], \"xaxis\": \"x\", \"y\": [246213201], \"yaxis\": \"y\"}, {\"alignmentgroup\": \"True\", \"customdata\": [[307177353, 4457379]], \"hovertemplate\": \"Date(monthwise)=%{x}<br>Cured=%{y}<br>Confirmed=%{customdata[0]}<br>Deaths=%{customdata[1]}<extra></extra>\", \"legendgroup\": \"2020-12-31 00:00:00\", \"marker\": {\"color\": \"#B6E880\"}, \"name\": \"2020-12-31 00:00:00\", \"offsetgroup\": \"2020-12-31 00:00:00\", \"orientation\": \"v\", \"showlegend\": true, \"textposition\": \"auto\", \"type\": \"bar\", \"x\": [\"2020-12-31T00:00:00\"], \"xaxis\": \"x\", \"y\": [292244085], \"yaxis\": \"y\"}, {\"alignmentgroup\": \"True\", \"customdata\": [[326469747, 4709167]], \"hovertemplate\": \"Date(monthwise)=%{x}<br>Cured=%{y}<br>Confirmed=%{customdata[0]}<br>Deaths=%{customdata[1]}<extra></extra>\", \"legendgroup\": \"2021-01-31 00:00:00\", \"marker\": {\"color\": \"#FF97FF\"}, \"name\": \"2021-01-31 00:00:00\", \"offsetgroup\": \"2021-01-31 00:00:00\", \"orientation\": \"v\", \"showlegend\": true, \"textposition\": \"auto\", \"type\": \"bar\", \"x\": [\"2021-01-31T00:00:00\"], \"xaxis\": \"x\", \"y\": [315332019], \"yaxis\": \"y\"}, {\"alignmentgroup\": \"True\", \"customdata\": [[305631803, 4359434]], \"hovertemplate\": \"Date(monthwise)=%{x}<br>Cured=%{y}<br>Confirmed=%{customdata[0]}<br>Deaths=%{customdata[1]}<extra></extra>\", \"legendgroup\": \"2021-02-28 00:00:00\", \"marker\": {\"color\": \"#FECB52\"}, \"name\": \"2021-02-28 00:00:00\", \"offsetgroup\": \"2021-02-28 00:00:00\", \"orientation\": \"v\", \"showlegend\": true, \"textposition\": \"auto\", \"type\": \"bar\", \"x\": [\"2021-02-28T00:00:00\"], \"xaxis\": \"x\", \"y\": [297133802], \"yaxis\": \"y\"}, {\"alignmentgroup\": \"True\", \"customdata\": [[356305616, 4935253]], \"hovertemplate\": \"Date(monthwise)=%{x}<br>Cured=%{y}<br>Confirmed=%{customdata[0]}<br>Deaths=%{customdata[1]}<extra></extra>\", \"legendgroup\": \"2021-03-31 00:00:00\", \"marker\": {\"color\": \"#636efa\"}, \"name\": \"2021-03-31 00:00:00\", \"offsetgroup\": \"2021-03-31 00:00:00\", \"orientation\": \"v\", \"showlegend\": true, \"textposition\": \"auto\", \"type\": \"bar\", \"x\": [\"2021-03-31T00:00:00\"], \"xaxis\": \"x\", \"y\": [342610397], \"yaxis\": \"y\"}, {\"alignmentgroup\": \"True\", \"customdata\": [[403521171, 4927136]], \"hovertemplate\": \"Date(monthwise)=%{x}<br>Cured=%{y}<br>Confirmed=%{customdata[0]}<br>Deaths=%{customdata[1]}<extra></extra>\", \"legendgroup\": \"2021-04-30 00:00:00\", \"marker\": {\"color\": \"#EF553B\"}, \"name\": \"2021-04-30 00:00:00\", \"offsetgroup\": \"2021-04-30 00:00:00\", \"orientation\": \"v\", \"showlegend\": true, \"textposition\": \"auto\", \"type\": \"bar\", \"x\": [\"2021-04-30T00:00:00\"], \"xaxis\": \"x\", \"y\": [354518894], \"yaxis\": \"y\"}],                        {\"barmode\": \"relative\", \"height\": 600, \"legend\": {\"title\": {\"text\": \"Date(monthwise)\"}, \"tracegroupgap\": 0}, \"template\": {\"data\": {\"bar\": [{\"error_x\": {\"color\": \"#2a3f5f\"}, \"error_y\": {\"color\": \"#2a3f5f\"}, \"marker\": {\"line\": {\"color\": \"#E5ECF6\", \"width\": 0.5}}, \"type\": \"bar\"}], \"barpolar\": [{\"marker\": {\"line\": {\"color\": \"#E5ECF6\", \"width\": 0.5}}, \"type\": \"barpolar\"}], \"carpet\": [{\"aaxis\": {\"endlinecolor\": \"#2a3f5f\", \"gridcolor\": \"white\", \"linecolor\": \"white\", \"minorgridcolor\": \"white\", \"startlinecolor\": \"#2a3f5f\"}, \"baxis\": {\"endlinecolor\": \"#2a3f5f\", \"gridcolor\": \"white\", \"linecolor\": \"white\", \"minorgridcolor\": \"white\", \"startlinecolor\": \"#2a3f5f\"}, \"type\": \"carpet\"}], \"choropleth\": [{\"colorbar\": {\"outlinewidth\": 0, \"ticks\": \"\"}, \"type\": \"choropleth\"}], \"contour\": [{\"colorbar\": {\"outlinewidth\": 0, \"ticks\": \"\"}, \"colorscale\": [[0.0, \"#0d0887\"], [0.1111111111111111, \"#46039f\"], [0.2222222222222222, \"#7201a8\"], [0.3333333333333333, \"#9c179e\"], [0.4444444444444444, \"#bd3786\"], [0.5555555555555556, \"#d8576b\"], [0.6666666666666666, \"#ed7953\"], [0.7777777777777778, \"#fb9f3a\"], [0.8888888888888888, \"#fdca26\"], [1.0, \"#f0f921\"]], \"type\": \"contour\"}], \"contourcarpet\": [{\"colorbar\": {\"outlinewidth\": 0, \"ticks\": \"\"}, \"type\": \"contourcarpet\"}], \"heatmap\": [{\"colorbar\": {\"outlinewidth\": 0, \"ticks\": \"\"}, \"colorscale\": [[0.0, \"#0d0887\"], [0.1111111111111111, \"#46039f\"], [0.2222222222222222, \"#7201a8\"], [0.3333333333333333, \"#9c179e\"], [0.4444444444444444, \"#bd3786\"], [0.5555555555555556, \"#d8576b\"], [0.6666666666666666, \"#ed7953\"], [0.7777777777777778, \"#fb9f3a\"], [0.8888888888888888, \"#fdca26\"], [1.0, \"#f0f921\"]], \"type\": \"heatmap\"}], \"heatmapgl\": [{\"colorbar\": {\"outlinewidth\": 0, \"ticks\": \"\"}, \"colorscale\": [[0.0, \"#0d0887\"], [0.1111111111111111, \"#46039f\"], [0.2222222222222222, \"#7201a8\"], [0.3333333333333333, \"#9c179e\"], [0.4444444444444444, \"#bd3786\"], [0.5555555555555556, \"#d8576b\"], [0.6666666666666666, \"#ed7953\"], [0.7777777777777778, \"#fb9f3a\"], [0.8888888888888888, \"#fdca26\"], [1.0, \"#f0f921\"]], \"type\": \"heatmapgl\"}], \"histogram\": [{\"marker\": {\"colorbar\": {\"outlinewidth\": 0, \"ticks\": \"\"}}, \"type\": \"histogram\"}], \"histogram2d\": [{\"colorbar\": {\"outlinewidth\": 0, \"ticks\": \"\"}, \"colorscale\": [[0.0, \"#0d0887\"], [0.1111111111111111, \"#46039f\"], [0.2222222222222222, \"#7201a8\"], [0.3333333333333333, \"#9c179e\"], [0.4444444444444444, \"#bd3786\"], [0.5555555555555556, \"#d8576b\"], [0.6666666666666666, \"#ed7953\"], [0.7777777777777778, \"#fb9f3a\"], [0.8888888888888888, \"#fdca26\"], [1.0, \"#f0f921\"]], \"type\": \"histogram2d\"}], \"histogram2dcontour\": [{\"colorbar\": {\"outlinewidth\": 0, \"ticks\": \"\"}, \"colorscale\": [[0.0, \"#0d0887\"], [0.1111111111111111, \"#46039f\"], [0.2222222222222222, \"#7201a8\"], [0.3333333333333333, \"#9c179e\"], [0.4444444444444444, \"#bd3786\"], [0.5555555555555556, \"#d8576b\"], [0.6666666666666666, \"#ed7953\"], [0.7777777777777778, \"#fb9f3a\"], [0.8888888888888888, \"#fdca26\"], [1.0, \"#f0f921\"]], \"type\": \"histogram2dcontour\"}], \"mesh3d\": [{\"colorbar\": {\"outlinewidth\": 0, \"ticks\": \"\"}, \"type\": \"mesh3d\"}], \"parcoords\": [{\"line\": {\"colorbar\": {\"outlinewidth\": 0, \"ticks\": \"\"}}, \"type\": \"parcoords\"}], \"pie\": [{\"automargin\": true, \"type\": \"pie\"}], \"scatter\": [{\"marker\": {\"colorbar\": {\"outlinewidth\": 0, \"ticks\": \"\"}}, \"type\": \"scatter\"}], \"scatter3d\": [{\"line\": {\"colorbar\": {\"outlinewidth\": 0, \"ticks\": \"\"}}, \"marker\": {\"colorbar\": {\"outlinewidth\": 0, \"ticks\": \"\"}}, \"type\": \"scatter3d\"}], \"scattercarpet\": [{\"marker\": {\"colorbar\": {\"outlinewidth\": 0, \"ticks\": \"\"}}, \"type\": \"scattercarpet\"}], \"scattergeo\": [{\"marker\": {\"colorbar\": {\"outlinewidth\": 0, \"ticks\": \"\"}}, \"type\": \"scattergeo\"}], \"scattergl\": [{\"marker\": {\"colorbar\": {\"outlinewidth\": 0, \"ticks\": \"\"}}, \"type\": \"scattergl\"}], \"scattermapbox\": [{\"marker\": {\"colorbar\": {\"outlinewidth\": 0, \"ticks\": \"\"}}, \"type\": \"scattermapbox\"}], \"scatterpolar\": [{\"marker\": {\"colorbar\": {\"outlinewidth\": 0, \"ticks\": \"\"}}, \"type\": \"scatterpolar\"}], \"scatterpolargl\": [{\"marker\": {\"colorbar\": {\"outlinewidth\": 0, \"ticks\": \"\"}}, \"type\": \"scatterpolargl\"}], \"scatterternary\": [{\"marker\": {\"colorbar\": {\"outlinewidth\": 0, \"ticks\": \"\"}}, \"type\": \"scatterternary\"}], \"surface\": [{\"colorbar\": {\"outlinewidth\": 0, \"ticks\": \"\"}, \"colorscale\": [[0.0, \"#0d0887\"], [0.1111111111111111, \"#46039f\"], [0.2222222222222222, \"#7201a8\"], [0.3333333333333333, \"#9c179e\"], [0.4444444444444444, \"#bd3786\"], [0.5555555555555556, \"#d8576b\"], [0.6666666666666666, \"#ed7953\"], [0.7777777777777778, \"#fb9f3a\"], [0.8888888888888888, \"#fdca26\"], [1.0, \"#f0f921\"]], \"type\": \"surface\"}], \"table\": [{\"cells\": {\"fill\": {\"color\": \"#EBF0F8\"}, \"line\": {\"color\": \"white\"}}, \"header\": {\"fill\": {\"color\": \"#C8D4E3\"}, \"line\": {\"color\": \"white\"}}, \"type\": \"table\"}]}, \"layout\": {\"annotationdefaults\": {\"arrowcolor\": \"#2a3f5f\", \"arrowhead\": 0, \"arrowwidth\": 1}, \"autotypenumbers\": \"strict\", \"coloraxis\": {\"colorbar\": {\"outlinewidth\": 0, \"ticks\": \"\"}}, \"colorscale\": {\"diverging\": [[0, \"#8e0152\"], [0.1, \"#c51b7d\"], [0.2, \"#de77ae\"], [0.3, \"#f1b6da\"], [0.4, \"#fde0ef\"], [0.5, \"#f7f7f7\"], [0.6, \"#e6f5d0\"], [0.7, \"#b8e186\"], [0.8, \"#7fbc41\"], [0.9, \"#4d9221\"], [1, \"#276419\"]], \"sequential\": [[0.0, \"#0d0887\"], [0.1111111111111111, \"#46039f\"], [0.2222222222222222, \"#7201a8\"], [0.3333333333333333, \"#9c179e\"], [0.4444444444444444, \"#bd3786\"], [0.5555555555555556, \"#d8576b\"], [0.6666666666666666, \"#ed7953\"], [0.7777777777777778, \"#fb9f3a\"], [0.8888888888888888, \"#fdca26\"], [1.0, \"#f0f921\"]], \"sequentialminus\": [[0.0, \"#0d0887\"], [0.1111111111111111, \"#46039f\"], [0.2222222222222222, \"#7201a8\"], [0.3333333333333333, \"#9c179e\"], [0.4444444444444444, \"#bd3786\"], [0.5555555555555556, \"#d8576b\"], [0.6666666666666666, \"#ed7953\"], [0.7777777777777778, \"#fb9f3a\"], [0.8888888888888888, \"#fdca26\"], [1.0, \"#f0f921\"]]}, \"colorway\": [\"#636efa\", \"#EF553B\", \"#00cc96\", \"#ab63fa\", \"#FFA15A\", \"#19d3f3\", \"#FF6692\", \"#B6E880\", \"#FF97FF\", \"#FECB52\"], \"font\": {\"color\": \"#2a3f5f\"}, \"geo\": {\"bgcolor\": \"white\", \"lakecolor\": \"white\", \"landcolor\": \"#E5ECF6\", \"showlakes\": true, \"showland\": true, \"subunitcolor\": \"white\"}, \"hoverlabel\": {\"align\": \"left\"}, \"hovermode\": \"closest\", \"mapbox\": {\"style\": \"light\"}, \"paper_bgcolor\": \"white\", \"plot_bgcolor\": \"#E5ECF6\", \"polar\": {\"angularaxis\": {\"gridcolor\": \"white\", \"linecolor\": \"white\", \"ticks\": \"\"}, \"bgcolor\": \"#E5ECF6\", \"radialaxis\": {\"gridcolor\": \"white\", \"linecolor\": \"white\", \"ticks\": \"\"}}, \"scene\": {\"xaxis\": {\"backgroundcolor\": \"#E5ECF6\", \"gridcolor\": \"white\", \"gridwidth\": 2, \"linecolor\": \"white\", \"showbackground\": true, \"ticks\": \"\", \"zerolinecolor\": \"white\"}, \"yaxis\": {\"backgroundcolor\": \"#E5ECF6\", \"gridcolor\": \"white\", \"gridwidth\": 2, \"linecolor\": \"white\", \"showbackground\": true, \"ticks\": \"\", \"zerolinecolor\": \"white\"}, \"zaxis\": {\"backgroundcolor\": \"#E5ECF6\", \"gridcolor\": \"white\", \"gridwidth\": 2, \"linecolor\": \"white\", \"showbackground\": true, \"ticks\": \"\", \"zerolinecolor\": \"white\"}}, \"shapedefaults\": {\"line\": {\"color\": \"#2a3f5f\"}}, \"ternary\": {\"aaxis\": {\"gridcolor\": \"white\", \"linecolor\": \"white\", \"ticks\": \"\"}, \"baxis\": {\"gridcolor\": \"white\", \"linecolor\": \"white\", \"ticks\": \"\"}, \"bgcolor\": \"#E5ECF6\", \"caxis\": {\"gridcolor\": \"white\", \"linecolor\": \"white\", \"ticks\": \"\"}}, \"title\": {\"x\": 0.05}, \"xaxis\": {\"automargin\": true, \"gridcolor\": \"white\", \"linecolor\": \"white\", \"ticks\": \"\", \"title\": {\"standoff\": 15}, \"zerolinecolor\": \"white\", \"zerolinewidth\": 2}, \"yaxis\": {\"automargin\": true, \"gridcolor\": \"white\", \"linecolor\": \"white\", \"ticks\": \"\", \"title\": {\"standoff\": 15}, \"zerolinecolor\": \"white\", \"zerolinewidth\": 2}}}, \"title\": {\"text\": \"Monthwise Increase in Cured cases\"}, \"xaxis\": {\"anchor\": \"y\", \"categoryarray\": [1580428800000000000, 1582934400000000000, 1585612800000000000, 1588204800000000000, 1590883200000000000, 1593475200000000000, 1596153600000000000, 1598832000000000000, 1601424000000000000, 1604102400000000000, 1606694400000000000, 1609372800000000000, 1612051200000000000, 1614470400000000000, 1617148800000000000, 1619740800000000000], \"categoryorder\": \"array\", \"domain\": [0.0, 1.0], \"title\": {\"text\": \"Date(monthwise)\"}}, \"yaxis\": {\"anchor\": \"x\", \"domain\": [0.0, 1.0], \"title\": {\"text\": \"Cured\"}}},                        {\"responsive\": true}                    ).then(function(){\n",
       "                            \n",
       "var gd = document.getElementById('5e972525-65de-4b74-84b0-2319b51cdd56');\n",
       "var x = new MutationObserver(function (mutations, observer) {{\n",
       "        var display = window.getComputedStyle(gd).display;\n",
       "        if (!display || display === 'none') {{\n",
       "            console.log([gd, 'removed!']);\n",
       "            Plotly.purge(gd);\n",
       "            observer.disconnect();\n",
       "        }}\n",
       "}});\n",
       "\n",
       "// Listen for the removal of the full notebook cells\n",
       "var notebookContainer = gd.closest('#notebook-container');\n",
       "if (notebookContainer) {{\n",
       "    x.observe(notebookContainer, {childList: true});\n",
       "}}\n",
       "\n",
       "// Listen for the clearing of the current output cell\n",
       "var outputEl = gd.closest('.output');\n",
       "if (outputEl) {{\n",
       "    x.observe(outputEl, {childList: true});\n",
       "}}\n",
       "\n",
       "                        })                };                });            </script>        </div>"
      ]
     },
     "metadata": {},
     "output_type": "display_data"
    }
   ],
   "source": [
    "fig = px.bar(month_wise, x='Date', y='Cured',\n",
    "             hover_data=['Confirmed', 'Deaths'], color='Date',\n",
    "             labels={'Date':'Date(monthwise)'}, height=600,\n",
    "             title=\"Monthwise Increase in Cured cases\")\n",
    "fig.show()"
   ]
  },
  {
   "cell_type": "markdown",
   "metadata": {},
   "source": [
    "### Monthwise - Death Cases "
   ]
  },
  {
   "cell_type": "code",
   "execution_count": 80,
   "metadata": {},
   "outputs": [
    {
     "data": {
      "application/vnd.plotly.v1+json": {
       "config": {
        "plotlyServerURL": "https://plot.ly"
       },
       "data": [
        {
         "alignmentgroup": "True",
         "customdata": [
          [
           0,
           2
          ]
         ],
         "hovertemplate": "Date(monthwise)=%{x}<br>Deaths=%{y}<br>Cured=%{customdata[0]}<br>Confirmed=%{customdata[1]}<extra></extra>",
         "legendgroup": "2020-01-31 00:00:00",
         "marker": {
          "color": "#FF6692"
         },
         "name": "2020-01-31 00:00:00",
         "offsetgroup": "2020-01-31 00:00:00",
         "orientation": "v",
         "showlegend": true,
         "textposition": "auto",
         "type": "bar",
         "x": [
          "2020-01-31T00:00:00"
         ],
         "xaxis": "x",
         "y": [
          0
         ],
         "yaxis": "y"
        },
        {
         "alignmentgroup": "True",
         "customdata": [
          [
           0,
           86
          ]
         ],
         "hovertemplate": "Date(monthwise)=%{x}<br>Deaths=%{y}<br>Cured=%{customdata[0]}<br>Confirmed=%{customdata[1]}<extra></extra>",
         "legendgroup": "2020-02-29 00:00:00",
         "marker": {
          "color": "#B6E880"
         },
         "name": "2020-02-29 00:00:00",
         "offsetgroup": "2020-02-29 00:00:00",
         "orientation": "v",
         "showlegend": true,
         "textposition": "auto",
         "type": "bar",
         "x": [
          "2020-02-29T00:00:00"
         ],
         "xaxis": "x",
         "y": [
          0
         ],
         "yaxis": "y"
        },
        {
         "alignmentgroup": "True",
         "customdata": [
          [
           808,
           9687
          ]
         ],
         "hovertemplate": "Date(monthwise)=%{x}<br>Deaths=%{y}<br>Cured=%{customdata[0]}<br>Confirmed=%{customdata[1]}<extra></extra>",
         "legendgroup": "2020-03-31 00:00:00",
         "marker": {
          "color": "#FF97FF"
         },
         "name": "2020-03-31 00:00:00",
         "offsetgroup": "2020-03-31 00:00:00",
         "orientation": "v",
         "showlegend": true,
         "textposition": "auto",
         "type": "bar",
         "x": [
          "2020-03-31T00:00:00"
         ],
         "xaxis": "x",
         "y": [
          202
         ],
         "yaxis": "y"
        },
        {
         "alignmentgroup": "True",
         "customdata": [
          [
           75443,
           422442
          ]
         ],
         "hovertemplate": "Date(monthwise)=%{x}<br>Deaths=%{y}<br>Cured=%{customdata[0]}<br>Confirmed=%{customdata[1]}<extra></extra>",
         "legendgroup": "2020-04-30 00:00:00",
         "marker": {
          "color": "#FECB52"
         },
         "name": "2020-04-30 00:00:00",
         "offsetgroup": "2020-04-30 00:00:00",
         "orientation": "v",
         "showlegend": true,
         "textposition": "auto",
         "type": "bar",
         "x": [
          "2020-04-30T00:00:00"
         ],
         "xaxis": "x",
         "y": [
          13270
         ],
         "yaxis": "y"
        },
        {
         "alignmentgroup": "True",
         "customdata": [
          [
           1133341,
           2938234
          ]
         ],
         "hovertemplate": "Date(monthwise)=%{x}<br>Deaths=%{y}<br>Cured=%{customdata[0]}<br>Confirmed=%{customdata[1]}<extra></extra>",
         "legendgroup": "2020-05-31 00:00:00",
         "marker": {
          "color": "#636efa"
         },
         "name": "2020-05-31 00:00:00",
         "offsetgroup": "2020-05-31 00:00:00",
         "orientation": "v",
         "showlegend": true,
         "textposition": "auto",
         "type": "bar",
         "x": [
          "2020-05-31T00:00:00"
         ],
         "xaxis": "x",
         "y": [
          89834
         ],
         "yaxis": "y"
        },
        {
         "alignmentgroup": "True",
         "customdata": [
          [
           5668946,
           10558374
          ]
         ],
         "hovertemplate": "Date(monthwise)=%{x}<br>Deaths=%{y}<br>Cured=%{customdata[0]}<br>Confirmed=%{customdata[1]}<extra></extra>",
         "legendgroup": "2020-06-30 00:00:00",
         "marker": {
          "color": "#EF553B"
         },
         "name": "2020-06-30 00:00:00",
         "offsetgroup": "2020-06-30 00:00:00",
         "orientation": "v",
         "showlegend": true,
         "textposition": "auto",
         "type": "bar",
         "x": [
          "2020-06-30T00:00:00"
         ],
         "xaxis": "x",
         "y": [
          319690
         ],
         "yaxis": "y"
        },
        {
         "alignmentgroup": "True",
         "customdata": [
          [
           19980130,
           31726501
          ]
         ],
         "hovertemplate": "Date(monthwise)=%{x}<br>Deaths=%{y}<br>Cured=%{customdata[0]}<br>Confirmed=%{customdata[1]}<extra></extra>",
         "legendgroup": "2020-07-31 00:00:00",
         "marker": {
          "color": "#00cc96"
         },
         "name": "2020-07-31 00:00:00",
         "offsetgroup": "2020-07-31 00:00:00",
         "orientation": "v",
         "showlegend": true,
         "textposition": "auto",
         "type": "bar",
         "x": [
          "2020-07-31T00:00:00"
         ],
         "xaxis": "x",
         "y": [
          793511
         ],
         "yaxis": "y"
        },
        {
         "alignmentgroup": "True",
         "customdata": [
          [
           58580895,
           80749620
          ]
         ],
         "hovertemplate": "Date(monthwise)=%{x}<br>Deaths=%{y}<br>Cured=%{customdata[0]}<br>Confirmed=%{customdata[1]}<extra></extra>",
         "legendgroup": "2020-08-31 00:00:00",
         "marker": {
          "color": "#ab63fa"
         },
         "name": "2020-08-31 00:00:00",
         "offsetgroup": "2020-08-31 00:00:00",
         "orientation": "v",
         "showlegend": true,
         "textposition": "auto",
         "type": "bar",
         "x": [
          "2020-08-31T00:00:00"
         ],
         "xaxis": "x",
         "y": [
          1553468
         ],
         "yaxis": "y"
        },
        {
         "alignmentgroup": "True",
         "customdata": [
          [
           118592934,
           149113758
          ]
         ],
         "hovertemplate": "Date(monthwise)=%{x}<br>Deaths=%{y}<br>Cured=%{customdata[0]}<br>Confirmed=%{customdata[1]}<extra></extra>",
         "legendgroup": "2020-09-30 00:00:00",
         "marker": {
          "color": "#FFA15A"
         },
         "name": "2020-09-30 00:00:00",
         "offsetgroup": "2020-09-30 00:00:00",
         "orientation": "v",
         "showlegend": true,
         "textposition": "auto",
         "type": "bar",
         "x": [
          "2020-09-30T00:00:00"
         ],
         "xaxis": "x",
         "y": [
          2443374
         ],
         "yaxis": "y"
        },
        {
         "alignmentgroup": "True",
         "customdata": [
          [
           198824412,
           226770312
          ]
         ],
         "hovertemplate": "Date(monthwise)=%{x}<br>Deaths=%{y}<br>Cured=%{customdata[0]}<br>Confirmed=%{customdata[1]}<extra></extra>",
         "legendgroup": "2020-10-31 00:00:00",
         "marker": {
          "color": "#19d3f3"
         },
         "name": "2020-10-31 00:00:00",
         "offsetgroup": "2020-10-31 00:00:00",
         "orientation": "v",
         "showlegend": true,
         "textposition": "auto",
         "type": "bar",
         "x": [
          "2020-10-31T00:00:00"
         ],
         "xaxis": "x",
         "y": [
          3457615
         ],
         "yaxis": "y"
        },
        {
         "alignmentgroup": "True",
         "customdata": [
          [
           246213201,
           264556412
          ]
         ],
         "hovertemplate": "Date(monthwise)=%{x}<br>Deaths=%{y}<br>Cured=%{customdata[0]}<br>Confirmed=%{customdata[1]}<extra></extra>",
         "legendgroup": "2020-11-30 00:00:00",
         "marker": {
          "color": "#FF6692"
         },
         "name": "2020-11-30 00:00:00",
         "offsetgroup": "2020-11-30 00:00:00",
         "orientation": "v",
         "showlegend": true,
         "textposition": "auto",
         "type": "bar",
         "x": [
          "2020-11-30T00:00:00"
         ],
         "xaxis": "x",
         "y": [
          3894165
         ],
         "yaxis": "y"
        },
        {
         "alignmentgroup": "True",
         "customdata": [
          [
           292244085,
           307177353
          ]
         ],
         "hovertemplate": "Date(monthwise)=%{x}<br>Deaths=%{y}<br>Cured=%{customdata[0]}<br>Confirmed=%{customdata[1]}<extra></extra>",
         "legendgroup": "2020-12-31 00:00:00",
         "marker": {
          "color": "#B6E880"
         },
         "name": "2020-12-31 00:00:00",
         "offsetgroup": "2020-12-31 00:00:00",
         "orientation": "v",
         "showlegend": true,
         "textposition": "auto",
         "type": "bar",
         "x": [
          "2020-12-31T00:00:00"
         ],
         "xaxis": "x",
         "y": [
          4457379
         ],
         "yaxis": "y"
        },
        {
         "alignmentgroup": "True",
         "customdata": [
          [
           315332019,
           326469747
          ]
         ],
         "hovertemplate": "Date(monthwise)=%{x}<br>Deaths=%{y}<br>Cured=%{customdata[0]}<br>Confirmed=%{customdata[1]}<extra></extra>",
         "legendgroup": "2021-01-31 00:00:00",
         "marker": {
          "color": "#FF97FF"
         },
         "name": "2021-01-31 00:00:00",
         "offsetgroup": "2021-01-31 00:00:00",
         "orientation": "v",
         "showlegend": true,
         "textposition": "auto",
         "type": "bar",
         "x": [
          "2021-01-31T00:00:00"
         ],
         "xaxis": "x",
         "y": [
          4709167
         ],
         "yaxis": "y"
        },
        {
         "alignmentgroup": "True",
         "customdata": [
          [
           297133802,
           305631803
          ]
         ],
         "hovertemplate": "Date(monthwise)=%{x}<br>Deaths=%{y}<br>Cured=%{customdata[0]}<br>Confirmed=%{customdata[1]}<extra></extra>",
         "legendgroup": "2021-02-28 00:00:00",
         "marker": {
          "color": "#FECB52"
         },
         "name": "2021-02-28 00:00:00",
         "offsetgroup": "2021-02-28 00:00:00",
         "orientation": "v",
         "showlegend": true,
         "textposition": "auto",
         "type": "bar",
         "x": [
          "2021-02-28T00:00:00"
         ],
         "xaxis": "x",
         "y": [
          4359434
         ],
         "yaxis": "y"
        },
        {
         "alignmentgroup": "True",
         "customdata": [
          [
           342610397,
           356305616
          ]
         ],
         "hovertemplate": "Date(monthwise)=%{x}<br>Deaths=%{y}<br>Cured=%{customdata[0]}<br>Confirmed=%{customdata[1]}<extra></extra>",
         "legendgroup": "2021-03-31 00:00:00",
         "marker": {
          "color": "#636efa"
         },
         "name": "2021-03-31 00:00:00",
         "offsetgroup": "2021-03-31 00:00:00",
         "orientation": "v",
         "showlegend": true,
         "textposition": "auto",
         "type": "bar",
         "x": [
          "2021-03-31T00:00:00"
         ],
         "xaxis": "x",
         "y": [
          4935253
         ],
         "yaxis": "y"
        },
        {
         "alignmentgroup": "True",
         "customdata": [
          [
           354518894,
           403521171
          ]
         ],
         "hovertemplate": "Date(monthwise)=%{x}<br>Deaths=%{y}<br>Cured=%{customdata[0]}<br>Confirmed=%{customdata[1]}<extra></extra>",
         "legendgroup": "2021-04-30 00:00:00",
         "marker": {
          "color": "#EF553B"
         },
         "name": "2021-04-30 00:00:00",
         "offsetgroup": "2021-04-30 00:00:00",
         "orientation": "v",
         "showlegend": true,
         "textposition": "auto",
         "type": "bar",
         "x": [
          "2021-04-30T00:00:00"
         ],
         "xaxis": "x",
         "y": [
          4927136
         ],
         "yaxis": "y"
        }
       ],
       "layout": {
        "barmode": "relative",
        "height": 600,
        "legend": {
         "title": {
          "text": "Date(monthwise)"
         },
         "tracegroupgap": 0
        },
        "template": {
         "data": {
          "bar": [
           {
            "error_x": {
             "color": "#2a3f5f"
            },
            "error_y": {
             "color": "#2a3f5f"
            },
            "marker": {
             "line": {
              "color": "#E5ECF6",
              "width": 0.5
             }
            },
            "type": "bar"
           }
          ],
          "barpolar": [
           {
            "marker": {
             "line": {
              "color": "#E5ECF6",
              "width": 0.5
             }
            },
            "type": "barpolar"
           }
          ],
          "carpet": [
           {
            "aaxis": {
             "endlinecolor": "#2a3f5f",
             "gridcolor": "white",
             "linecolor": "white",
             "minorgridcolor": "white",
             "startlinecolor": "#2a3f5f"
            },
            "baxis": {
             "endlinecolor": "#2a3f5f",
             "gridcolor": "white",
             "linecolor": "white",
             "minorgridcolor": "white",
             "startlinecolor": "#2a3f5f"
            },
            "type": "carpet"
           }
          ],
          "choropleth": [
           {
            "colorbar": {
             "outlinewidth": 0,
             "ticks": ""
            },
            "type": "choropleth"
           }
          ],
          "contour": [
           {
            "colorbar": {
             "outlinewidth": 0,
             "ticks": ""
            },
            "colorscale": [
             [
              0,
              "#0d0887"
             ],
             [
              0.1111111111111111,
              "#46039f"
             ],
             [
              0.2222222222222222,
              "#7201a8"
             ],
             [
              0.3333333333333333,
              "#9c179e"
             ],
             [
              0.4444444444444444,
              "#bd3786"
             ],
             [
              0.5555555555555556,
              "#d8576b"
             ],
             [
              0.6666666666666666,
              "#ed7953"
             ],
             [
              0.7777777777777778,
              "#fb9f3a"
             ],
             [
              0.8888888888888888,
              "#fdca26"
             ],
             [
              1,
              "#f0f921"
             ]
            ],
            "type": "contour"
           }
          ],
          "contourcarpet": [
           {
            "colorbar": {
             "outlinewidth": 0,
             "ticks": ""
            },
            "type": "contourcarpet"
           }
          ],
          "heatmap": [
           {
            "colorbar": {
             "outlinewidth": 0,
             "ticks": ""
            },
            "colorscale": [
             [
              0,
              "#0d0887"
             ],
             [
              0.1111111111111111,
              "#46039f"
             ],
             [
              0.2222222222222222,
              "#7201a8"
             ],
             [
              0.3333333333333333,
              "#9c179e"
             ],
             [
              0.4444444444444444,
              "#bd3786"
             ],
             [
              0.5555555555555556,
              "#d8576b"
             ],
             [
              0.6666666666666666,
              "#ed7953"
             ],
             [
              0.7777777777777778,
              "#fb9f3a"
             ],
             [
              0.8888888888888888,
              "#fdca26"
             ],
             [
              1,
              "#f0f921"
             ]
            ],
            "type": "heatmap"
           }
          ],
          "heatmapgl": [
           {
            "colorbar": {
             "outlinewidth": 0,
             "ticks": ""
            },
            "colorscale": [
             [
              0,
              "#0d0887"
             ],
             [
              0.1111111111111111,
              "#46039f"
             ],
             [
              0.2222222222222222,
              "#7201a8"
             ],
             [
              0.3333333333333333,
              "#9c179e"
             ],
             [
              0.4444444444444444,
              "#bd3786"
             ],
             [
              0.5555555555555556,
              "#d8576b"
             ],
             [
              0.6666666666666666,
              "#ed7953"
             ],
             [
              0.7777777777777778,
              "#fb9f3a"
             ],
             [
              0.8888888888888888,
              "#fdca26"
             ],
             [
              1,
              "#f0f921"
             ]
            ],
            "type": "heatmapgl"
           }
          ],
          "histogram": [
           {
            "marker": {
             "colorbar": {
              "outlinewidth": 0,
              "ticks": ""
             }
            },
            "type": "histogram"
           }
          ],
          "histogram2d": [
           {
            "colorbar": {
             "outlinewidth": 0,
             "ticks": ""
            },
            "colorscale": [
             [
              0,
              "#0d0887"
             ],
             [
              0.1111111111111111,
              "#46039f"
             ],
             [
              0.2222222222222222,
              "#7201a8"
             ],
             [
              0.3333333333333333,
              "#9c179e"
             ],
             [
              0.4444444444444444,
              "#bd3786"
             ],
             [
              0.5555555555555556,
              "#d8576b"
             ],
             [
              0.6666666666666666,
              "#ed7953"
             ],
             [
              0.7777777777777778,
              "#fb9f3a"
             ],
             [
              0.8888888888888888,
              "#fdca26"
             ],
             [
              1,
              "#f0f921"
             ]
            ],
            "type": "histogram2d"
           }
          ],
          "histogram2dcontour": [
           {
            "colorbar": {
             "outlinewidth": 0,
             "ticks": ""
            },
            "colorscale": [
             [
              0,
              "#0d0887"
             ],
             [
              0.1111111111111111,
              "#46039f"
             ],
             [
              0.2222222222222222,
              "#7201a8"
             ],
             [
              0.3333333333333333,
              "#9c179e"
             ],
             [
              0.4444444444444444,
              "#bd3786"
             ],
             [
              0.5555555555555556,
              "#d8576b"
             ],
             [
              0.6666666666666666,
              "#ed7953"
             ],
             [
              0.7777777777777778,
              "#fb9f3a"
             ],
             [
              0.8888888888888888,
              "#fdca26"
             ],
             [
              1,
              "#f0f921"
             ]
            ],
            "type": "histogram2dcontour"
           }
          ],
          "mesh3d": [
           {
            "colorbar": {
             "outlinewidth": 0,
             "ticks": ""
            },
            "type": "mesh3d"
           }
          ],
          "parcoords": [
           {
            "line": {
             "colorbar": {
              "outlinewidth": 0,
              "ticks": ""
             }
            },
            "type": "parcoords"
           }
          ],
          "pie": [
           {
            "automargin": true,
            "type": "pie"
           }
          ],
          "scatter": [
           {
            "marker": {
             "colorbar": {
              "outlinewidth": 0,
              "ticks": ""
             }
            },
            "type": "scatter"
           }
          ],
          "scatter3d": [
           {
            "line": {
             "colorbar": {
              "outlinewidth": 0,
              "ticks": ""
             }
            },
            "marker": {
             "colorbar": {
              "outlinewidth": 0,
              "ticks": ""
             }
            },
            "type": "scatter3d"
           }
          ],
          "scattercarpet": [
           {
            "marker": {
             "colorbar": {
              "outlinewidth": 0,
              "ticks": ""
             }
            },
            "type": "scattercarpet"
           }
          ],
          "scattergeo": [
           {
            "marker": {
             "colorbar": {
              "outlinewidth": 0,
              "ticks": ""
             }
            },
            "type": "scattergeo"
           }
          ],
          "scattergl": [
           {
            "marker": {
             "colorbar": {
              "outlinewidth": 0,
              "ticks": ""
             }
            },
            "type": "scattergl"
           }
          ],
          "scattermapbox": [
           {
            "marker": {
             "colorbar": {
              "outlinewidth": 0,
              "ticks": ""
             }
            },
            "type": "scattermapbox"
           }
          ],
          "scatterpolar": [
           {
            "marker": {
             "colorbar": {
              "outlinewidth": 0,
              "ticks": ""
             }
            },
            "type": "scatterpolar"
           }
          ],
          "scatterpolargl": [
           {
            "marker": {
             "colorbar": {
              "outlinewidth": 0,
              "ticks": ""
             }
            },
            "type": "scatterpolargl"
           }
          ],
          "scatterternary": [
           {
            "marker": {
             "colorbar": {
              "outlinewidth": 0,
              "ticks": ""
             }
            },
            "type": "scatterternary"
           }
          ],
          "surface": [
           {
            "colorbar": {
             "outlinewidth": 0,
             "ticks": ""
            },
            "colorscale": [
             [
              0,
              "#0d0887"
             ],
             [
              0.1111111111111111,
              "#46039f"
             ],
             [
              0.2222222222222222,
              "#7201a8"
             ],
             [
              0.3333333333333333,
              "#9c179e"
             ],
             [
              0.4444444444444444,
              "#bd3786"
             ],
             [
              0.5555555555555556,
              "#d8576b"
             ],
             [
              0.6666666666666666,
              "#ed7953"
             ],
             [
              0.7777777777777778,
              "#fb9f3a"
             ],
             [
              0.8888888888888888,
              "#fdca26"
             ],
             [
              1,
              "#f0f921"
             ]
            ],
            "type": "surface"
           }
          ],
          "table": [
           {
            "cells": {
             "fill": {
              "color": "#EBF0F8"
             },
             "line": {
              "color": "white"
             }
            },
            "header": {
             "fill": {
              "color": "#C8D4E3"
             },
             "line": {
              "color": "white"
             }
            },
            "type": "table"
           }
          ]
         },
         "layout": {
          "annotationdefaults": {
           "arrowcolor": "#2a3f5f",
           "arrowhead": 0,
           "arrowwidth": 1
          },
          "autotypenumbers": "strict",
          "coloraxis": {
           "colorbar": {
            "outlinewidth": 0,
            "ticks": ""
           }
          },
          "colorscale": {
           "diverging": [
            [
             0,
             "#8e0152"
            ],
            [
             0.1,
             "#c51b7d"
            ],
            [
             0.2,
             "#de77ae"
            ],
            [
             0.3,
             "#f1b6da"
            ],
            [
             0.4,
             "#fde0ef"
            ],
            [
             0.5,
             "#f7f7f7"
            ],
            [
             0.6,
             "#e6f5d0"
            ],
            [
             0.7,
             "#b8e186"
            ],
            [
             0.8,
             "#7fbc41"
            ],
            [
             0.9,
             "#4d9221"
            ],
            [
             1,
             "#276419"
            ]
           ],
           "sequential": [
            [
             0,
             "#0d0887"
            ],
            [
             0.1111111111111111,
             "#46039f"
            ],
            [
             0.2222222222222222,
             "#7201a8"
            ],
            [
             0.3333333333333333,
             "#9c179e"
            ],
            [
             0.4444444444444444,
             "#bd3786"
            ],
            [
             0.5555555555555556,
             "#d8576b"
            ],
            [
             0.6666666666666666,
             "#ed7953"
            ],
            [
             0.7777777777777778,
             "#fb9f3a"
            ],
            [
             0.8888888888888888,
             "#fdca26"
            ],
            [
             1,
             "#f0f921"
            ]
           ],
           "sequentialminus": [
            [
             0,
             "#0d0887"
            ],
            [
             0.1111111111111111,
             "#46039f"
            ],
            [
             0.2222222222222222,
             "#7201a8"
            ],
            [
             0.3333333333333333,
             "#9c179e"
            ],
            [
             0.4444444444444444,
             "#bd3786"
            ],
            [
             0.5555555555555556,
             "#d8576b"
            ],
            [
             0.6666666666666666,
             "#ed7953"
            ],
            [
             0.7777777777777778,
             "#fb9f3a"
            ],
            [
             0.8888888888888888,
             "#fdca26"
            ],
            [
             1,
             "#f0f921"
            ]
           ]
          },
          "colorway": [
           "#636efa",
           "#EF553B",
           "#00cc96",
           "#ab63fa",
           "#FFA15A",
           "#19d3f3",
           "#FF6692",
           "#B6E880",
           "#FF97FF",
           "#FECB52"
          ],
          "font": {
           "color": "#2a3f5f"
          },
          "geo": {
           "bgcolor": "white",
           "lakecolor": "white",
           "landcolor": "#E5ECF6",
           "showlakes": true,
           "showland": true,
           "subunitcolor": "white"
          },
          "hoverlabel": {
           "align": "left"
          },
          "hovermode": "closest",
          "mapbox": {
           "style": "light"
          },
          "paper_bgcolor": "white",
          "plot_bgcolor": "#E5ECF6",
          "polar": {
           "angularaxis": {
            "gridcolor": "white",
            "linecolor": "white",
            "ticks": ""
           },
           "bgcolor": "#E5ECF6",
           "radialaxis": {
            "gridcolor": "white",
            "linecolor": "white",
            "ticks": ""
           }
          },
          "scene": {
           "xaxis": {
            "backgroundcolor": "#E5ECF6",
            "gridcolor": "white",
            "gridwidth": 2,
            "linecolor": "white",
            "showbackground": true,
            "ticks": "",
            "zerolinecolor": "white"
           },
           "yaxis": {
            "backgroundcolor": "#E5ECF6",
            "gridcolor": "white",
            "gridwidth": 2,
            "linecolor": "white",
            "showbackground": true,
            "ticks": "",
            "zerolinecolor": "white"
           },
           "zaxis": {
            "backgroundcolor": "#E5ECF6",
            "gridcolor": "white",
            "gridwidth": 2,
            "linecolor": "white",
            "showbackground": true,
            "ticks": "",
            "zerolinecolor": "white"
           }
          },
          "shapedefaults": {
           "line": {
            "color": "#2a3f5f"
           }
          },
          "ternary": {
           "aaxis": {
            "gridcolor": "white",
            "linecolor": "white",
            "ticks": ""
           },
           "baxis": {
            "gridcolor": "white",
            "linecolor": "white",
            "ticks": ""
           },
           "bgcolor": "#E5ECF6",
           "caxis": {
            "gridcolor": "white",
            "linecolor": "white",
            "ticks": ""
           }
          },
          "title": {
           "x": 0.05
          },
          "xaxis": {
           "automargin": true,
           "gridcolor": "white",
           "linecolor": "white",
           "ticks": "",
           "title": {
            "standoff": 15
           },
           "zerolinecolor": "white",
           "zerolinewidth": 2
          },
          "yaxis": {
           "automargin": true,
           "gridcolor": "white",
           "linecolor": "white",
           "ticks": "",
           "title": {
            "standoff": 15
           },
           "zerolinecolor": "white",
           "zerolinewidth": 2
          }
         }
        },
        "title": {
         "text": "Monthwise Increase in Deaths cases"
        },
        "xaxis": {
         "anchor": "y",
         "categoryarray": [
          1580428800000000000,
          1582934400000000000,
          1585612800000000000,
          1588204800000000000,
          1590883200000000000,
          1593475200000000000,
          1596153600000000000,
          1598832000000000000,
          1601424000000000000,
          1604102400000000000,
          1606694400000000000,
          1609372800000000000,
          1612051200000000000,
          1614470400000000000,
          1617148800000000000,
          1619740800000000000
         ],
         "categoryorder": "array",
         "domain": [
          0,
          1
         ],
         "title": {
          "text": "Date(monthwise)"
         }
        },
        "yaxis": {
         "anchor": "x",
         "domain": [
          0,
          1
         ],
         "title": {
          "text": "Deaths"
         }
        }
       }
      },
      "text/html": [
       "<div>                            <div id=\"ddc02b50-5164-4aad-8f53-a16e073ae507\" class=\"plotly-graph-div\" style=\"height:600px; width:100%;\"></div>            <script type=\"text/javascript\">                require([\"plotly\"], function(Plotly) {                    window.PLOTLYENV=window.PLOTLYENV || {};                                    if (document.getElementById(\"ddc02b50-5164-4aad-8f53-a16e073ae507\")) {                    Plotly.newPlot(                        \"ddc02b50-5164-4aad-8f53-a16e073ae507\",                        [{\"alignmentgroup\": \"True\", \"customdata\": [[0, 2]], \"hovertemplate\": \"Date(monthwise)=%{x}<br>Deaths=%{y}<br>Cured=%{customdata[0]}<br>Confirmed=%{customdata[1]}<extra></extra>\", \"legendgroup\": \"2020-01-31 00:00:00\", \"marker\": {\"color\": \"#FF6692\"}, \"name\": \"2020-01-31 00:00:00\", \"offsetgroup\": \"2020-01-31 00:00:00\", \"orientation\": \"v\", \"showlegend\": true, \"textposition\": \"auto\", \"type\": \"bar\", \"x\": [\"2020-01-31T00:00:00\"], \"xaxis\": \"x\", \"y\": [0], \"yaxis\": \"y\"}, {\"alignmentgroup\": \"True\", \"customdata\": [[0, 86]], \"hovertemplate\": \"Date(monthwise)=%{x}<br>Deaths=%{y}<br>Cured=%{customdata[0]}<br>Confirmed=%{customdata[1]}<extra></extra>\", \"legendgroup\": \"2020-02-29 00:00:00\", \"marker\": {\"color\": \"#B6E880\"}, \"name\": \"2020-02-29 00:00:00\", \"offsetgroup\": \"2020-02-29 00:00:00\", \"orientation\": \"v\", \"showlegend\": true, \"textposition\": \"auto\", \"type\": \"bar\", \"x\": [\"2020-02-29T00:00:00\"], \"xaxis\": \"x\", \"y\": [0], \"yaxis\": \"y\"}, {\"alignmentgroup\": \"True\", \"customdata\": [[808, 9687]], \"hovertemplate\": \"Date(monthwise)=%{x}<br>Deaths=%{y}<br>Cured=%{customdata[0]}<br>Confirmed=%{customdata[1]}<extra></extra>\", \"legendgroup\": \"2020-03-31 00:00:00\", \"marker\": {\"color\": \"#FF97FF\"}, \"name\": \"2020-03-31 00:00:00\", \"offsetgroup\": \"2020-03-31 00:00:00\", \"orientation\": \"v\", \"showlegend\": true, \"textposition\": \"auto\", \"type\": \"bar\", \"x\": [\"2020-03-31T00:00:00\"], \"xaxis\": \"x\", \"y\": [202], \"yaxis\": \"y\"}, {\"alignmentgroup\": \"True\", \"customdata\": [[75443, 422442]], \"hovertemplate\": \"Date(monthwise)=%{x}<br>Deaths=%{y}<br>Cured=%{customdata[0]}<br>Confirmed=%{customdata[1]}<extra></extra>\", \"legendgroup\": \"2020-04-30 00:00:00\", \"marker\": {\"color\": \"#FECB52\"}, \"name\": \"2020-04-30 00:00:00\", \"offsetgroup\": \"2020-04-30 00:00:00\", \"orientation\": \"v\", \"showlegend\": true, \"textposition\": \"auto\", \"type\": \"bar\", \"x\": [\"2020-04-30T00:00:00\"], \"xaxis\": \"x\", \"y\": [13270], \"yaxis\": \"y\"}, {\"alignmentgroup\": \"True\", \"customdata\": [[1133341, 2938234]], \"hovertemplate\": \"Date(monthwise)=%{x}<br>Deaths=%{y}<br>Cured=%{customdata[0]}<br>Confirmed=%{customdata[1]}<extra></extra>\", \"legendgroup\": \"2020-05-31 00:00:00\", \"marker\": {\"color\": \"#636efa\"}, \"name\": \"2020-05-31 00:00:00\", \"offsetgroup\": \"2020-05-31 00:00:00\", \"orientation\": \"v\", \"showlegend\": true, \"textposition\": \"auto\", \"type\": \"bar\", \"x\": [\"2020-05-31T00:00:00\"], \"xaxis\": \"x\", \"y\": [89834], \"yaxis\": \"y\"}, {\"alignmentgroup\": \"True\", \"customdata\": [[5668946, 10558374]], \"hovertemplate\": \"Date(monthwise)=%{x}<br>Deaths=%{y}<br>Cured=%{customdata[0]}<br>Confirmed=%{customdata[1]}<extra></extra>\", \"legendgroup\": \"2020-06-30 00:00:00\", \"marker\": {\"color\": \"#EF553B\"}, \"name\": \"2020-06-30 00:00:00\", \"offsetgroup\": \"2020-06-30 00:00:00\", \"orientation\": \"v\", \"showlegend\": true, \"textposition\": \"auto\", \"type\": \"bar\", \"x\": [\"2020-06-30T00:00:00\"], \"xaxis\": \"x\", \"y\": [319690], \"yaxis\": \"y\"}, {\"alignmentgroup\": \"True\", \"customdata\": [[19980130, 31726501]], \"hovertemplate\": \"Date(monthwise)=%{x}<br>Deaths=%{y}<br>Cured=%{customdata[0]}<br>Confirmed=%{customdata[1]}<extra></extra>\", \"legendgroup\": \"2020-07-31 00:00:00\", \"marker\": {\"color\": \"#00cc96\"}, \"name\": \"2020-07-31 00:00:00\", \"offsetgroup\": \"2020-07-31 00:00:00\", \"orientation\": \"v\", \"showlegend\": true, \"textposition\": \"auto\", \"type\": \"bar\", \"x\": [\"2020-07-31T00:00:00\"], \"xaxis\": \"x\", \"y\": [793511], \"yaxis\": \"y\"}, {\"alignmentgroup\": \"True\", \"customdata\": [[58580895, 80749620]], \"hovertemplate\": \"Date(monthwise)=%{x}<br>Deaths=%{y}<br>Cured=%{customdata[0]}<br>Confirmed=%{customdata[1]}<extra></extra>\", \"legendgroup\": \"2020-08-31 00:00:00\", \"marker\": {\"color\": \"#ab63fa\"}, \"name\": \"2020-08-31 00:00:00\", \"offsetgroup\": \"2020-08-31 00:00:00\", \"orientation\": \"v\", \"showlegend\": true, \"textposition\": \"auto\", \"type\": \"bar\", \"x\": [\"2020-08-31T00:00:00\"], \"xaxis\": \"x\", \"y\": [1553468], \"yaxis\": \"y\"}, {\"alignmentgroup\": \"True\", \"customdata\": [[118592934, 149113758]], \"hovertemplate\": \"Date(monthwise)=%{x}<br>Deaths=%{y}<br>Cured=%{customdata[0]}<br>Confirmed=%{customdata[1]}<extra></extra>\", \"legendgroup\": \"2020-09-30 00:00:00\", \"marker\": {\"color\": \"#FFA15A\"}, \"name\": \"2020-09-30 00:00:00\", \"offsetgroup\": \"2020-09-30 00:00:00\", \"orientation\": \"v\", \"showlegend\": true, \"textposition\": \"auto\", \"type\": \"bar\", \"x\": [\"2020-09-30T00:00:00\"], \"xaxis\": \"x\", \"y\": [2443374], \"yaxis\": \"y\"}, {\"alignmentgroup\": \"True\", \"customdata\": [[198824412, 226770312]], \"hovertemplate\": \"Date(monthwise)=%{x}<br>Deaths=%{y}<br>Cured=%{customdata[0]}<br>Confirmed=%{customdata[1]}<extra></extra>\", \"legendgroup\": \"2020-10-31 00:00:00\", \"marker\": {\"color\": \"#19d3f3\"}, \"name\": \"2020-10-31 00:00:00\", \"offsetgroup\": \"2020-10-31 00:00:00\", \"orientation\": \"v\", \"showlegend\": true, \"textposition\": \"auto\", \"type\": \"bar\", \"x\": [\"2020-10-31T00:00:00\"], \"xaxis\": \"x\", \"y\": [3457615], \"yaxis\": \"y\"}, {\"alignmentgroup\": \"True\", \"customdata\": [[246213201, 264556412]], \"hovertemplate\": \"Date(monthwise)=%{x}<br>Deaths=%{y}<br>Cured=%{customdata[0]}<br>Confirmed=%{customdata[1]}<extra></extra>\", \"legendgroup\": \"2020-11-30 00:00:00\", \"marker\": {\"color\": \"#FF6692\"}, \"name\": \"2020-11-30 00:00:00\", \"offsetgroup\": \"2020-11-30 00:00:00\", \"orientation\": \"v\", \"showlegend\": true, \"textposition\": \"auto\", \"type\": \"bar\", \"x\": [\"2020-11-30T00:00:00\"], \"xaxis\": \"x\", \"y\": [3894165], \"yaxis\": \"y\"}, {\"alignmentgroup\": \"True\", \"customdata\": [[292244085, 307177353]], \"hovertemplate\": \"Date(monthwise)=%{x}<br>Deaths=%{y}<br>Cured=%{customdata[0]}<br>Confirmed=%{customdata[1]}<extra></extra>\", \"legendgroup\": \"2020-12-31 00:00:00\", \"marker\": {\"color\": \"#B6E880\"}, \"name\": \"2020-12-31 00:00:00\", \"offsetgroup\": \"2020-12-31 00:00:00\", \"orientation\": \"v\", \"showlegend\": true, \"textposition\": \"auto\", \"type\": \"bar\", \"x\": [\"2020-12-31T00:00:00\"], \"xaxis\": \"x\", \"y\": [4457379], \"yaxis\": \"y\"}, {\"alignmentgroup\": \"True\", \"customdata\": [[315332019, 326469747]], \"hovertemplate\": \"Date(monthwise)=%{x}<br>Deaths=%{y}<br>Cured=%{customdata[0]}<br>Confirmed=%{customdata[1]}<extra></extra>\", \"legendgroup\": \"2021-01-31 00:00:00\", \"marker\": {\"color\": \"#FF97FF\"}, \"name\": \"2021-01-31 00:00:00\", \"offsetgroup\": \"2021-01-31 00:00:00\", \"orientation\": \"v\", \"showlegend\": true, \"textposition\": \"auto\", \"type\": \"bar\", \"x\": [\"2021-01-31T00:00:00\"], \"xaxis\": \"x\", \"y\": [4709167], \"yaxis\": \"y\"}, {\"alignmentgroup\": \"True\", \"customdata\": [[297133802, 305631803]], \"hovertemplate\": \"Date(monthwise)=%{x}<br>Deaths=%{y}<br>Cured=%{customdata[0]}<br>Confirmed=%{customdata[1]}<extra></extra>\", \"legendgroup\": \"2021-02-28 00:00:00\", \"marker\": {\"color\": \"#FECB52\"}, \"name\": \"2021-02-28 00:00:00\", \"offsetgroup\": \"2021-02-28 00:00:00\", \"orientation\": \"v\", \"showlegend\": true, \"textposition\": \"auto\", \"type\": \"bar\", \"x\": [\"2021-02-28T00:00:00\"], \"xaxis\": \"x\", \"y\": [4359434], \"yaxis\": \"y\"}, {\"alignmentgroup\": \"True\", \"customdata\": [[342610397, 356305616]], \"hovertemplate\": \"Date(monthwise)=%{x}<br>Deaths=%{y}<br>Cured=%{customdata[0]}<br>Confirmed=%{customdata[1]}<extra></extra>\", \"legendgroup\": \"2021-03-31 00:00:00\", \"marker\": {\"color\": \"#636efa\"}, \"name\": \"2021-03-31 00:00:00\", \"offsetgroup\": \"2021-03-31 00:00:00\", \"orientation\": \"v\", \"showlegend\": true, \"textposition\": \"auto\", \"type\": \"bar\", \"x\": [\"2021-03-31T00:00:00\"], \"xaxis\": \"x\", \"y\": [4935253], \"yaxis\": \"y\"}, {\"alignmentgroup\": \"True\", \"customdata\": [[354518894, 403521171]], \"hovertemplate\": \"Date(monthwise)=%{x}<br>Deaths=%{y}<br>Cured=%{customdata[0]}<br>Confirmed=%{customdata[1]}<extra></extra>\", \"legendgroup\": \"2021-04-30 00:00:00\", \"marker\": {\"color\": \"#EF553B\"}, \"name\": \"2021-04-30 00:00:00\", \"offsetgroup\": \"2021-04-30 00:00:00\", \"orientation\": \"v\", \"showlegend\": true, \"textposition\": \"auto\", \"type\": \"bar\", \"x\": [\"2021-04-30T00:00:00\"], \"xaxis\": \"x\", \"y\": [4927136], \"yaxis\": \"y\"}],                        {\"barmode\": \"relative\", \"height\": 600, \"legend\": {\"title\": {\"text\": \"Date(monthwise)\"}, \"tracegroupgap\": 0}, \"template\": {\"data\": {\"bar\": [{\"error_x\": {\"color\": \"#2a3f5f\"}, \"error_y\": {\"color\": \"#2a3f5f\"}, \"marker\": {\"line\": {\"color\": \"#E5ECF6\", \"width\": 0.5}}, \"type\": \"bar\"}], \"barpolar\": [{\"marker\": {\"line\": {\"color\": \"#E5ECF6\", \"width\": 0.5}}, \"type\": \"barpolar\"}], \"carpet\": [{\"aaxis\": {\"endlinecolor\": \"#2a3f5f\", \"gridcolor\": \"white\", \"linecolor\": \"white\", \"minorgridcolor\": \"white\", \"startlinecolor\": \"#2a3f5f\"}, \"baxis\": {\"endlinecolor\": \"#2a3f5f\", \"gridcolor\": \"white\", \"linecolor\": \"white\", \"minorgridcolor\": \"white\", \"startlinecolor\": \"#2a3f5f\"}, \"type\": \"carpet\"}], \"choropleth\": [{\"colorbar\": {\"outlinewidth\": 0, \"ticks\": \"\"}, \"type\": \"choropleth\"}], \"contour\": [{\"colorbar\": {\"outlinewidth\": 0, \"ticks\": \"\"}, \"colorscale\": [[0.0, \"#0d0887\"], [0.1111111111111111, \"#46039f\"], [0.2222222222222222, \"#7201a8\"], [0.3333333333333333, \"#9c179e\"], [0.4444444444444444, \"#bd3786\"], [0.5555555555555556, \"#d8576b\"], [0.6666666666666666, \"#ed7953\"], [0.7777777777777778, \"#fb9f3a\"], [0.8888888888888888, \"#fdca26\"], [1.0, \"#f0f921\"]], \"type\": \"contour\"}], \"contourcarpet\": [{\"colorbar\": {\"outlinewidth\": 0, \"ticks\": \"\"}, \"type\": \"contourcarpet\"}], \"heatmap\": [{\"colorbar\": {\"outlinewidth\": 0, \"ticks\": \"\"}, \"colorscale\": [[0.0, \"#0d0887\"], [0.1111111111111111, \"#46039f\"], [0.2222222222222222, \"#7201a8\"], [0.3333333333333333, \"#9c179e\"], [0.4444444444444444, \"#bd3786\"], [0.5555555555555556, \"#d8576b\"], [0.6666666666666666, \"#ed7953\"], [0.7777777777777778, \"#fb9f3a\"], [0.8888888888888888, \"#fdca26\"], [1.0, \"#f0f921\"]], \"type\": \"heatmap\"}], \"heatmapgl\": [{\"colorbar\": {\"outlinewidth\": 0, \"ticks\": \"\"}, \"colorscale\": [[0.0, \"#0d0887\"], [0.1111111111111111, \"#46039f\"], [0.2222222222222222, \"#7201a8\"], [0.3333333333333333, \"#9c179e\"], [0.4444444444444444, \"#bd3786\"], [0.5555555555555556, \"#d8576b\"], [0.6666666666666666, \"#ed7953\"], [0.7777777777777778, \"#fb9f3a\"], [0.8888888888888888, \"#fdca26\"], [1.0, \"#f0f921\"]], \"type\": \"heatmapgl\"}], \"histogram\": [{\"marker\": {\"colorbar\": {\"outlinewidth\": 0, \"ticks\": \"\"}}, \"type\": \"histogram\"}], \"histogram2d\": [{\"colorbar\": {\"outlinewidth\": 0, \"ticks\": \"\"}, \"colorscale\": [[0.0, \"#0d0887\"], [0.1111111111111111, \"#46039f\"], [0.2222222222222222, \"#7201a8\"], [0.3333333333333333, \"#9c179e\"], [0.4444444444444444, \"#bd3786\"], [0.5555555555555556, \"#d8576b\"], [0.6666666666666666, \"#ed7953\"], [0.7777777777777778, \"#fb9f3a\"], [0.8888888888888888, \"#fdca26\"], [1.0, \"#f0f921\"]], \"type\": \"histogram2d\"}], \"histogram2dcontour\": [{\"colorbar\": {\"outlinewidth\": 0, \"ticks\": \"\"}, \"colorscale\": [[0.0, \"#0d0887\"], [0.1111111111111111, \"#46039f\"], [0.2222222222222222, \"#7201a8\"], [0.3333333333333333, \"#9c179e\"], [0.4444444444444444, \"#bd3786\"], [0.5555555555555556, \"#d8576b\"], [0.6666666666666666, \"#ed7953\"], [0.7777777777777778, \"#fb9f3a\"], [0.8888888888888888, \"#fdca26\"], [1.0, \"#f0f921\"]], \"type\": \"histogram2dcontour\"}], \"mesh3d\": [{\"colorbar\": {\"outlinewidth\": 0, \"ticks\": \"\"}, \"type\": \"mesh3d\"}], \"parcoords\": [{\"line\": {\"colorbar\": {\"outlinewidth\": 0, \"ticks\": \"\"}}, \"type\": \"parcoords\"}], \"pie\": [{\"automargin\": true, \"type\": \"pie\"}], \"scatter\": [{\"marker\": {\"colorbar\": {\"outlinewidth\": 0, \"ticks\": \"\"}}, \"type\": \"scatter\"}], \"scatter3d\": [{\"line\": {\"colorbar\": {\"outlinewidth\": 0, \"ticks\": \"\"}}, \"marker\": {\"colorbar\": {\"outlinewidth\": 0, \"ticks\": \"\"}}, \"type\": \"scatter3d\"}], \"scattercarpet\": [{\"marker\": {\"colorbar\": {\"outlinewidth\": 0, \"ticks\": \"\"}}, \"type\": \"scattercarpet\"}], \"scattergeo\": [{\"marker\": {\"colorbar\": {\"outlinewidth\": 0, \"ticks\": \"\"}}, \"type\": \"scattergeo\"}], \"scattergl\": [{\"marker\": {\"colorbar\": {\"outlinewidth\": 0, \"ticks\": \"\"}}, \"type\": \"scattergl\"}], \"scattermapbox\": [{\"marker\": {\"colorbar\": {\"outlinewidth\": 0, \"ticks\": \"\"}}, \"type\": \"scattermapbox\"}], \"scatterpolar\": [{\"marker\": {\"colorbar\": {\"outlinewidth\": 0, \"ticks\": \"\"}}, \"type\": \"scatterpolar\"}], \"scatterpolargl\": [{\"marker\": {\"colorbar\": {\"outlinewidth\": 0, \"ticks\": \"\"}}, \"type\": \"scatterpolargl\"}], \"scatterternary\": [{\"marker\": {\"colorbar\": {\"outlinewidth\": 0, \"ticks\": \"\"}}, \"type\": \"scatterternary\"}], \"surface\": [{\"colorbar\": {\"outlinewidth\": 0, \"ticks\": \"\"}, \"colorscale\": [[0.0, \"#0d0887\"], [0.1111111111111111, \"#46039f\"], [0.2222222222222222, \"#7201a8\"], [0.3333333333333333, \"#9c179e\"], [0.4444444444444444, \"#bd3786\"], [0.5555555555555556, \"#d8576b\"], [0.6666666666666666, \"#ed7953\"], [0.7777777777777778, \"#fb9f3a\"], [0.8888888888888888, \"#fdca26\"], [1.0, \"#f0f921\"]], \"type\": \"surface\"}], \"table\": [{\"cells\": {\"fill\": {\"color\": \"#EBF0F8\"}, \"line\": {\"color\": \"white\"}}, \"header\": {\"fill\": {\"color\": \"#C8D4E3\"}, \"line\": {\"color\": \"white\"}}, \"type\": \"table\"}]}, \"layout\": {\"annotationdefaults\": {\"arrowcolor\": \"#2a3f5f\", \"arrowhead\": 0, \"arrowwidth\": 1}, \"autotypenumbers\": \"strict\", \"coloraxis\": {\"colorbar\": {\"outlinewidth\": 0, \"ticks\": \"\"}}, \"colorscale\": {\"diverging\": [[0, \"#8e0152\"], [0.1, \"#c51b7d\"], [0.2, \"#de77ae\"], [0.3, \"#f1b6da\"], [0.4, \"#fde0ef\"], [0.5, \"#f7f7f7\"], [0.6, \"#e6f5d0\"], [0.7, \"#b8e186\"], [0.8, \"#7fbc41\"], [0.9, \"#4d9221\"], [1, \"#276419\"]], \"sequential\": [[0.0, \"#0d0887\"], [0.1111111111111111, \"#46039f\"], [0.2222222222222222, \"#7201a8\"], [0.3333333333333333, \"#9c179e\"], [0.4444444444444444, \"#bd3786\"], [0.5555555555555556, \"#d8576b\"], [0.6666666666666666, \"#ed7953\"], [0.7777777777777778, \"#fb9f3a\"], [0.8888888888888888, \"#fdca26\"], [1.0, \"#f0f921\"]], \"sequentialminus\": [[0.0, \"#0d0887\"], [0.1111111111111111, \"#46039f\"], [0.2222222222222222, \"#7201a8\"], [0.3333333333333333, \"#9c179e\"], [0.4444444444444444, \"#bd3786\"], [0.5555555555555556, \"#d8576b\"], [0.6666666666666666, \"#ed7953\"], [0.7777777777777778, \"#fb9f3a\"], [0.8888888888888888, \"#fdca26\"], [1.0, \"#f0f921\"]]}, \"colorway\": [\"#636efa\", \"#EF553B\", \"#00cc96\", \"#ab63fa\", \"#FFA15A\", \"#19d3f3\", \"#FF6692\", \"#B6E880\", \"#FF97FF\", \"#FECB52\"], \"font\": {\"color\": \"#2a3f5f\"}, \"geo\": {\"bgcolor\": \"white\", \"lakecolor\": \"white\", \"landcolor\": \"#E5ECF6\", \"showlakes\": true, \"showland\": true, \"subunitcolor\": \"white\"}, \"hoverlabel\": {\"align\": \"left\"}, \"hovermode\": \"closest\", \"mapbox\": {\"style\": \"light\"}, \"paper_bgcolor\": \"white\", \"plot_bgcolor\": \"#E5ECF6\", \"polar\": {\"angularaxis\": {\"gridcolor\": \"white\", \"linecolor\": \"white\", \"ticks\": \"\"}, \"bgcolor\": \"#E5ECF6\", \"radialaxis\": {\"gridcolor\": \"white\", \"linecolor\": \"white\", \"ticks\": \"\"}}, \"scene\": {\"xaxis\": {\"backgroundcolor\": \"#E5ECF6\", \"gridcolor\": \"white\", \"gridwidth\": 2, \"linecolor\": \"white\", \"showbackground\": true, \"ticks\": \"\", \"zerolinecolor\": \"white\"}, \"yaxis\": {\"backgroundcolor\": \"#E5ECF6\", \"gridcolor\": \"white\", \"gridwidth\": 2, \"linecolor\": \"white\", \"showbackground\": true, \"ticks\": \"\", \"zerolinecolor\": \"white\"}, \"zaxis\": {\"backgroundcolor\": \"#E5ECF6\", \"gridcolor\": \"white\", \"gridwidth\": 2, \"linecolor\": \"white\", \"showbackground\": true, \"ticks\": \"\", \"zerolinecolor\": \"white\"}}, \"shapedefaults\": {\"line\": {\"color\": \"#2a3f5f\"}}, \"ternary\": {\"aaxis\": {\"gridcolor\": \"white\", \"linecolor\": \"white\", \"ticks\": \"\"}, \"baxis\": {\"gridcolor\": \"white\", \"linecolor\": \"white\", \"ticks\": \"\"}, \"bgcolor\": \"#E5ECF6\", \"caxis\": {\"gridcolor\": \"white\", \"linecolor\": \"white\", \"ticks\": \"\"}}, \"title\": {\"x\": 0.05}, \"xaxis\": {\"automargin\": true, \"gridcolor\": \"white\", \"linecolor\": \"white\", \"ticks\": \"\", \"title\": {\"standoff\": 15}, \"zerolinecolor\": \"white\", \"zerolinewidth\": 2}, \"yaxis\": {\"automargin\": true, \"gridcolor\": \"white\", \"linecolor\": \"white\", \"ticks\": \"\", \"title\": {\"standoff\": 15}, \"zerolinecolor\": \"white\", \"zerolinewidth\": 2}}}, \"title\": {\"text\": \"Monthwise Increase in Deaths cases\"}, \"xaxis\": {\"anchor\": \"y\", \"categoryarray\": [1580428800000000000, 1582934400000000000, 1585612800000000000, 1588204800000000000, 1590883200000000000, 1593475200000000000, 1596153600000000000, 1598832000000000000, 1601424000000000000, 1604102400000000000, 1606694400000000000, 1609372800000000000, 1612051200000000000, 1614470400000000000, 1617148800000000000, 1619740800000000000], \"categoryorder\": \"array\", \"domain\": [0.0, 1.0], \"title\": {\"text\": \"Date(monthwise)\"}}, \"yaxis\": {\"anchor\": \"x\", \"domain\": [0.0, 1.0], \"title\": {\"text\": \"Deaths\"}}},                        {\"responsive\": true}                    ).then(function(){\n",
       "                            \n",
       "var gd = document.getElementById('ddc02b50-5164-4aad-8f53-a16e073ae507');\n",
       "var x = new MutationObserver(function (mutations, observer) {{\n",
       "        var display = window.getComputedStyle(gd).display;\n",
       "        if (!display || display === 'none') {{\n",
       "            console.log([gd, 'removed!']);\n",
       "            Plotly.purge(gd);\n",
       "            observer.disconnect();\n",
       "        }}\n",
       "}});\n",
       "\n",
       "// Listen for the removal of the full notebook cells\n",
       "var notebookContainer = gd.closest('#notebook-container');\n",
       "if (notebookContainer) {{\n",
       "    x.observe(notebookContainer, {childList: true});\n",
       "}}\n",
       "\n",
       "// Listen for the clearing of the current output cell\n",
       "var outputEl = gd.closest('.output');\n",
       "if (outputEl) {{\n",
       "    x.observe(outputEl, {childList: true});\n",
       "}}\n",
       "\n",
       "                        })                };                });            </script>        </div>"
      ]
     },
     "metadata": {},
     "output_type": "display_data"
    }
   ],
   "source": [
    "fig = px.bar(month_wise, x='Date', y='Deaths',\n",
    "             hover_data=['Cured', 'Confirmed'], color='Date',\n",
    "             labels={'Date':'Date(monthwise)'}, height=600,\n",
    "             title=\"Monthwise Increase in Deaths cases\")\n",
    "fig.show()"
   ]
  },
  {
   "cell_type": "markdown",
   "metadata": {},
   "source": [
    "This an attmpt to leverage some of the visualization libraries in Python to understand inights using latest COVID19 dataset for India.\n",
    "\n",
    "### End of notebook"
   ]
  },
  {
   "cell_type": "code",
   "execution_count": null,
   "metadata": {},
   "outputs": [],
   "source": []
  }
 ],
 "metadata": {
  "kernelspec": {
   "display_name": "Python 3",
   "language": "python",
   "name": "python3"
  },
  "language_info": {
   "codemirror_mode": {
    "name": "ipython",
    "version": 3
   },
   "file_extension": ".py",
   "mimetype": "text/x-python",
   "name": "python",
   "nbconvert_exporter": "python",
   "pygments_lexer": "ipython3",
   "version": "3.7.4"
  }
 },
 "nbformat": 4,
 "nbformat_minor": 4
}

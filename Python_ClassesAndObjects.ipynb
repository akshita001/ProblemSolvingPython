{
 "cells": [
  {
   "cell_type": "markdown",
   "metadata": {},
   "source": [
    "### Cognitive Class: Python for Data Science\n",
    "\n",
    "#### Akshita Mishra\n",
    "\n",
    "We will take an example to demonstrate \"Classes and Objects\" and examples around it.\n",
    "\n",
    "#### Define the class"
   ]
  },
  {
   "cell_type": "code",
   "execution_count": 59,
   "metadata": {},
   "outputs": [],
   "source": [
    "# We have defined the class\n",
    "class Car(object):\n",
    "    def __init__(self,make,model,color):\n",
    "        self.make = make;\n",
    "        self.model = model;\n",
    "        self.color = color;\n",
    "        self.owner_number = 0\n",
    "    def car_info(self):\n",
    "        print(\"make: \", self.make)\n",
    "        print(\"model: \", self.model)\n",
    "        print(\"color: \", self.color)\n",
    "        print(\"number of owners: \", self.owner_number)\n",
    "    def sell(self):\n",
    "        self.owner_number = self.owner_number+1"
   ]
  },
  {
   "cell_type": "markdown",
   "metadata": {},
   "source": [
    "#### Create Car objects to verify various scenarios\n",
    "\n",
    "We are creating few car objects with the given data attributes,\n",
    "* car_object\n",
    "* car_object2\n",
    "* car_object3\n",
    "* car_object4\n",
    "* car_object5"
   ]
  },
  {
   "cell_type": "code",
   "execution_count": 60,
   "metadata": {},
   "outputs": [],
   "source": [
    "make=\"Honda\"\n",
    "model=\"Accord\"\n",
    "color=\"blue\""
   ]
  },
  {
   "cell_type": "code",
   "execution_count": 61,
   "metadata": {},
   "outputs": [],
   "source": [
    "car_object = Car(make,model,color)\n",
    "car_object2 = Car(make=\"Honda\",model=\"Accord\",color=\"blue\")\n",
    "car_object3 = Car(\"Honda\",\"Accord\",\"blue\")\n",
    "\n",
    "car_object4 = Car(model=\"Accord\",make=\"Honda\",color=\"blue\")\n",
    "car_object5 = Car(\"Accord\",\"Honda\",\"blue\")"
   ]
  },
  {
   "cell_type": "markdown",
   "metadata": {},
   "source": [
    "#### Data Attributes\n",
    "\n",
    "We will use the method car_info() to print out the data attributes"
   ]
  },
  {
   "cell_type": "code",
   "execution_count": 62,
   "metadata": {},
   "outputs": [
    {
     "name": "stdout",
     "output_type": "stream",
     "text": [
      "make:  Honda\n",
      "model:  Accord\n",
      "color:  blue\n",
      "number of owners:  0\n"
     ]
    }
   ],
   "source": [
    "car_object.car_info()"
   ]
  },
  {
   "cell_type": "code",
   "execution_count": 63,
   "metadata": {},
   "outputs": [
    {
     "name": "stdout",
     "output_type": "stream",
     "text": [
      "make:  Honda\n",
      "model:  Accord\n",
      "color:  blue\n",
      "number of owners:  0\n"
     ]
    }
   ],
   "source": [
    "car_object2.car_info()"
   ]
  },
  {
   "cell_type": "code",
   "execution_count": 64,
   "metadata": {},
   "outputs": [
    {
     "name": "stdout",
     "output_type": "stream",
     "text": [
      "make:  Honda\n",
      "model:  Accord\n",
      "color:  blue\n",
      "number of owners:  0\n"
     ]
    }
   ],
   "source": [
    "car_object3.car_info()"
   ]
  },
  {
   "cell_type": "code",
   "execution_count": 65,
   "metadata": {},
   "outputs": [
    {
     "name": "stdout",
     "output_type": "stream",
     "text": [
      "make:  Honda\n",
      "model:  Accord\n",
      "color:  blue\n",
      "number of owners:  0\n"
     ]
    }
   ],
   "source": [
    "car_object4.car_info()"
   ]
  },
  {
   "cell_type": "code",
   "execution_count": 66,
   "metadata": {},
   "outputs": [
    {
     "name": "stdout",
     "output_type": "stream",
     "text": [
      "make:  Accord\n",
      "model:  Honda\n",
      "color:  blue\n",
      "number of owners:  0\n"
     ]
    }
   ],
   "source": [
    "car_object5.car_info()"
   ]
  },
  {
   "cell_type": "markdown",
   "metadata": {},
   "source": [
    "So we can see that car_object5 does not give the desired solution as the sequence does not work correctly. All other objects defined will work fine as it provides correct sequence."
   ]
  },
  {
   "cell_type": "markdown",
   "metadata": {},
   "source": [
    "#### Methods\n",
    "\n",
    "Call the method sell() in the loop, then call the method car_info() again"
   ]
  },
  {
   "cell_type": "code",
   "execution_count": 67,
   "metadata": {},
   "outputs": [
    {
     "name": "stdout",
     "output_type": "stream",
     "text": [
      "make:  Honda\n",
      "model:  Accord\n",
      "color:  blue\n",
      "number of owners:  5\n"
     ]
    }
   ],
   "source": [
    "for i in range(5):\n",
    "    car_object.sell()\n",
    "    \n",
    "car_object.car_info()"
   ]
  },
  {
   "cell_type": "markdown",
   "metadata": {},
   "source": [
    "#### Other Examples "
   ]
  },
  {
   "cell_type": "code",
   "execution_count": 70,
   "metadata": {},
   "outputs": [
    {
     "name": "stdout",
     "output_type": "stream",
     "text": [
      "11\n",
      "22\n",
      "33\n"
     ]
    }
   ],
   "source": [
    "A = ['1','2','3']\n",
    "\n",
    "for a in A:\n",
    "    print(2*a)\n",
    "    "
   ]
  },
  {
   "cell_type": "code",
   "execution_count": 72,
   "metadata": {},
   "outputs": [],
   "source": [
    "def Delta(x):\n",
    "    if x == 0:\n",
    "        y = 1;\n",
    "    else:\n",
    "        y = 0;\n",
    "    return(y)\n"
   ]
  },
  {
   "cell_type": "code",
   "execution_count": 77,
   "metadata": {},
   "outputs": [
    {
     "data": {
      "text/plain": [
       "1"
      ]
     },
     "execution_count": 77,
     "metadata": {},
     "output_type": "execute_result"
    }
   ],
   "source": [
    "Delta(0)"
   ]
  },
  {
   "cell_type": "code",
   "execution_count": 81,
   "metadata": {},
   "outputs": [],
   "source": [
    "B = [3, 11, 4]\n",
    "\n",
    "B.sort()"
   ]
  },
  {
   "cell_type": "code",
   "execution_count": 82,
   "metadata": {},
   "outputs": [
    {
     "data": {
      "text/plain": [
       "[3, 4, 11]"
      ]
     },
     "execution_count": 82,
     "metadata": {},
     "output_type": "execute_result"
    }
   ],
   "source": [
    "B"
   ]
  },
  {
   "cell_type": "code",
   "execution_count": null,
   "metadata": {},
   "outputs": [],
   "source": []
  }
 ],
 "metadata": {
  "kernelspec": {
   "display_name": "Python 3",
   "language": "python",
   "name": "python3"
  },
  "language_info": {
   "codemirror_mode": {
    "name": "ipython",
    "version": 3
   },
   "file_extension": ".py",
   "mimetype": "text/x-python",
   "name": "python",
   "nbconvert_exporter": "python",
   "pygments_lexer": "ipython3",
   "version": "3.8.5"
  }
 },
 "nbformat": 4,
 "nbformat_minor": 4
}

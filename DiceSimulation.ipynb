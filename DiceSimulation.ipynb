## Write a Program to simulate 1 Dice thrown

import random

flag = "y"
   
while flag == "y":
    number = random.randint(1,6)
      
    if number == 1:
        print("[     ]")
        print("[  0  ]")
        print("[     ]")
    if number == 2:
        print("[ 0   ]")
        print("[     ]")
        print("[   0 ]")
    if number == 3:
        print("[     ]")
        print("[0 0 0]")
        print("[     ]")
    if number == 4:
        print("[0   0]")
        print("[     ]")
        print("[0   0]")
    if number == 5:
        print("[0   0]")
        print("[  0  ]")
        print("[0   0]")
    if number == 6:
        print("[0 0 0]")
        print("[     ]")
        print("[0 0 0]")
          
    flag = input("press y to roll again and n to exit:")
    print("\n ======= ")
